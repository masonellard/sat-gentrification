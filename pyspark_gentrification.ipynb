{
 "cells": [
  {
   "cell_type": "code",
   "execution_count": 3,
   "metadata": {},
   "outputs": [],
   "source": [
    "import pandas as pd\n",
    "import numpy as np\n",
    "import urllib.request, json, csv \n",
    "from bs4 import BeautifulSoup\n",
    "import requests\n",
    "import boto3\n",
    "from urllib.request import urlopen\n",
    "from zipfile import ZipFile\n",
    "import shapefile"
   ]
  },
  {
   "cell_type": "code",
   "execution_count": 4,
   "metadata": {},
   "outputs": [],
   "source": [
    "url = 'https://www2.census.gov/geo/pvs/tiger2010st/'\n",
    "response = requests.get(url)"
   ]
  },
  {
   "cell_type": "code",
   "execution_count": 5,
   "metadata": {},
   "outputs": [],
   "source": [
    "soup = BeautifulSoup(response.text)"
   ]
  },
  {
   "cell_type": "code",
   "execution_count": 6,
   "metadata": {},
   "outputs": [],
   "source": [
    "states = [state.text[:2] for state in soup.find('table').find_all('a')[5:56]]"
   ]
  },
  {
   "cell_type": "code",
   "execution_count": 9,
   "metadata": {},
   "outputs": [
    {
     "data": {
      "text/plain": [
       "['01',\n",
       " '02',\n",
       " '04',\n",
       " '05',\n",
       " '06',\n",
       " '08',\n",
       " '09',\n",
       " '10',\n",
       " '11',\n",
       " '12',\n",
       " '13',\n",
       " '15',\n",
       " '16',\n",
       " '17',\n",
       " '18',\n",
       " '19',\n",
       " '20',\n",
       " '21',\n",
       " '22',\n",
       " '23',\n",
       " '24',\n",
       " '25',\n",
       " '26',\n",
       " '27',\n",
       " '28',\n",
       " '29',\n",
       " '30',\n",
       " '31',\n",
       " '32',\n",
       " '33',\n",
       " '34',\n",
       " '35',\n",
       " '36',\n",
       " '37',\n",
       " '38',\n",
       " '39',\n",
       " '40',\n",
       " '41',\n",
       " '42',\n",
       " '44',\n",
       " '45',\n",
       " '46',\n",
       " '47',\n",
       " '48',\n",
       " '49',\n",
       " '50',\n",
       " '51',\n",
       " '53',\n",
       " '54',\n",
       " '55',\n",
       " '56']"
      ]
     },
     "execution_count": 9,
     "metadata": {},
     "output_type": "execute_result"
    }
   ],
   "source": [
    "states"
   ]
  },
  {
   "cell_type": "code",
   "execution_count": 17,
   "metadata": {},
   "outputs": [
    {
     "data": {
      "text/plain": [
       "51"
      ]
     },
     "execution_count": 17,
     "metadata": {},
     "output_type": "execute_result"
    }
   ],
   "source": [
    "len(states)"
   ]
  },
  {
   "cell_type": "code",
   "execution_count": 10,
   "metadata": {},
   "outputs": [],
   "source": [
    "! rm data/*csv"
   ]
  },
  {
   "cell_type": "code",
   "execution_count": 11,
   "metadata": {},
   "outputs": [
    {
     "name": "stdout",
     "output_type": "stream",
     "text": [
      "tl_2010_06_tract10.dbf\ttl_2010_06_tract10.shp\t    tl_2010_06_tract10.shx\r\n",
      "tl_2010_06_tract10.prj\ttl_2010_06_tract10.shp.xml  tl_2010_06_tract10.zip\r\n"
     ]
    }
   ],
   "source": [
    "! ls data"
   ]
  },
  {
   "cell_type": "code",
   "execution_count": 12,
   "metadata": {},
   "outputs": [],
   "source": [
    "base_url = 'https://api.census.gov/data/'\n",
    "api_request = '/acs/acs5?get=B19013_001E,B19301_001E,B15002_019E,B15002_032E,B15002_033E,B15002_034E,B15002_035E,B15002_002E,B15002_015E,B15002_016E,B15002_017E,B15002_018E,B08301_001E,B08301_003E,B08301_004E,B08301_010E,B08301_019E,B08301_021E,B02001_001E,B02001_002E,B02001_003E,B01002_001E,B01003_001E,GEO_ID,NAME&for=tract:*&in=county:*&in=state:'\n",
    "for year in range(2010, 2019):\n",
    "    for state in states:\n",
    "        census_url = base_url+str(year)+api_request+state\n",
    "        with urllib.request.urlopen(census_url) as url:\n",
    "            data = json.loads(url.read().decode())\n",
    "        data[0].append('year')\n",
    "        for row in data[1:]:\n",
    "            row.append(int(year))\n",
    "        with open('data/census_'+state+'_'+str(year)+'.csv', 'w') as outfile:\n",
    "            writer = csv.writer(outfile)\n",
    "            writer.writerows(data)"
   ]
  },
  {
   "cell_type": "code",
   "execution_count": 16,
   "metadata": {},
   "outputs": [
    {
     "name": "stdout",
     "output_type": "stream",
     "text": [
      "data/census_01_2010.csv  data/census_21_2010.csv  data/census_38_2010.csv\r\n",
      "data/census_01_2011.csv  data/census_21_2011.csv  data/census_38_2011.csv\r\n",
      "data/census_01_2012.csv  data/census_21_2012.csv  data/census_38_2012.csv\r\n",
      "data/census_01_2013.csv  data/census_21_2013.csv  data/census_38_2013.csv\r\n",
      "data/census_01_2014.csv  data/census_21_2014.csv  data/census_38_2014.csv\r\n",
      "data/census_01_2015.csv  data/census_21_2015.csv  data/census_38_2015.csv\r\n",
      "data/census_01_2016.csv  data/census_21_2016.csv  data/census_38_2016.csv\r\n",
      "data/census_01_2017.csv  data/census_21_2017.csv  data/census_38_2017.csv\r\n",
      "data/census_01_2018.csv  data/census_21_2018.csv  data/census_38_2018.csv\r\n",
      "data/census_02_2010.csv  data/census_22_2010.csv  data/census_39_2010.csv\r\n",
      "data/census_02_2011.csv  data/census_22_2011.csv  data/census_39_2011.csv\r\n",
      "data/census_02_2012.csv  data/census_22_2012.csv  data/census_39_2012.csv\r\n",
      "data/census_02_2013.csv  data/census_22_2013.csv  data/census_39_2013.csv\r\n",
      "data/census_02_2014.csv  data/census_22_2014.csv  data/census_39_2014.csv\r\n",
      "data/census_02_2015.csv  data/census_22_2015.csv  data/census_39_2015.csv\r\n",
      "data/census_02_2016.csv  data/census_22_2016.csv  data/census_39_2016.csv\r\n",
      "data/census_02_2017.csv  data/census_22_2017.csv  data/census_39_2017.csv\r\n",
      "data/census_02_2018.csv  data/census_22_2018.csv  data/census_39_2018.csv\r\n",
      "data/census_04_2010.csv  data/census_23_2010.csv  data/census_40_2010.csv\r\n",
      "data/census_04_2011.csv  data/census_23_2011.csv  data/census_40_2011.csv\r\n",
      "data/census_04_2012.csv  data/census_23_2012.csv  data/census_40_2012.csv\r\n",
      "data/census_04_2013.csv  data/census_23_2013.csv  data/census_40_2013.csv\r\n",
      "data/census_04_2014.csv  data/census_23_2014.csv  data/census_40_2014.csv\r\n",
      "data/census_04_2015.csv  data/census_23_2015.csv  data/census_40_2015.csv\r\n",
      "data/census_04_2016.csv  data/census_23_2016.csv  data/census_40_2016.csv\r\n",
      "data/census_04_2017.csv  data/census_23_2017.csv  data/census_40_2017.csv\r\n",
      "data/census_04_2018.csv  data/census_23_2018.csv  data/census_40_2018.csv\r\n",
      "data/census_05_2010.csv  data/census_24_2010.csv  data/census_41_2010.csv\r\n",
      "data/census_05_2011.csv  data/census_24_2011.csv  data/census_41_2011.csv\r\n",
      "data/census_05_2012.csv  data/census_24_2012.csv  data/census_41_2012.csv\r\n",
      "data/census_05_2013.csv  data/census_24_2013.csv  data/census_41_2013.csv\r\n",
      "data/census_05_2014.csv  data/census_24_2014.csv  data/census_41_2014.csv\r\n",
      "data/census_05_2015.csv  data/census_24_2015.csv  data/census_41_2015.csv\r\n",
      "data/census_05_2016.csv  data/census_24_2016.csv  data/census_41_2016.csv\r\n",
      "data/census_05_2017.csv  data/census_24_2017.csv  data/census_41_2017.csv\r\n",
      "data/census_05_2018.csv  data/census_24_2018.csv  data/census_41_2018.csv\r\n",
      "data/census_06_2010.csv  data/census_25_2010.csv  data/census_42_2010.csv\r\n",
      "data/census_06_2011.csv  data/census_25_2011.csv  data/census_42_2011.csv\r\n",
      "data/census_06_2012.csv  data/census_25_2012.csv  data/census_42_2012.csv\r\n",
      "data/census_06_2013.csv  data/census_25_2013.csv  data/census_42_2013.csv\r\n",
      "data/census_06_2014.csv  data/census_25_2014.csv  data/census_42_2014.csv\r\n",
      "data/census_06_2015.csv  data/census_25_2015.csv  data/census_42_2015.csv\r\n",
      "data/census_06_2016.csv  data/census_25_2016.csv  data/census_42_2016.csv\r\n",
      "data/census_06_2017.csv  data/census_25_2017.csv  data/census_42_2017.csv\r\n",
      "data/census_06_2018.csv  data/census_25_2018.csv  data/census_42_2018.csv\r\n",
      "data/census_08_2010.csv  data/census_26_2010.csv  data/census_44_2010.csv\r\n",
      "data/census_08_2011.csv  data/census_26_2011.csv  data/census_44_2011.csv\r\n",
      "data/census_08_2012.csv  data/census_26_2012.csv  data/census_44_2012.csv\r\n",
      "data/census_08_2013.csv  data/census_26_2013.csv  data/census_44_2013.csv\r\n",
      "data/census_08_2014.csv  data/census_26_2014.csv  data/census_44_2014.csv\r\n",
      "data/census_08_2015.csv  data/census_26_2015.csv  data/census_44_2015.csv\r\n",
      "data/census_08_2016.csv  data/census_26_2016.csv  data/census_44_2016.csv\r\n",
      "data/census_08_2017.csv  data/census_26_2017.csv  data/census_44_2017.csv\r\n",
      "data/census_08_2018.csv  data/census_26_2018.csv  data/census_44_2018.csv\r\n",
      "data/census_09_2010.csv  data/census_27_2010.csv  data/census_45_2010.csv\r\n",
      "data/census_09_2011.csv  data/census_27_2011.csv  data/census_45_2011.csv\r\n",
      "data/census_09_2012.csv  data/census_27_2012.csv  data/census_45_2012.csv\r\n",
      "data/census_09_2013.csv  data/census_27_2013.csv  data/census_45_2013.csv\r\n",
      "data/census_09_2014.csv  data/census_27_2014.csv  data/census_45_2014.csv\r\n",
      "data/census_09_2015.csv  data/census_27_2015.csv  data/census_45_2015.csv\r\n",
      "data/census_09_2016.csv  data/census_27_2016.csv  data/census_45_2016.csv\r\n",
      "data/census_09_2017.csv  data/census_27_2017.csv  data/census_45_2017.csv\r\n",
      "data/census_09_2018.csv  data/census_27_2018.csv  data/census_45_2018.csv\r\n",
      "data/census_10_2010.csv  data/census_28_2010.csv  data/census_46_2010.csv\r\n",
      "data/census_10_2011.csv  data/census_28_2011.csv  data/census_46_2011.csv\r\n",
      "data/census_10_2012.csv  data/census_28_2012.csv  data/census_46_2012.csv\r\n",
      "data/census_10_2013.csv  data/census_28_2013.csv  data/census_46_2013.csv\r\n",
      "data/census_10_2014.csv  data/census_28_2014.csv  data/census_46_2014.csv\r\n",
      "data/census_10_2015.csv  data/census_28_2015.csv  data/census_46_2015.csv\r\n",
      "data/census_10_2016.csv  data/census_28_2016.csv  data/census_46_2016.csv\r\n",
      "data/census_10_2017.csv  data/census_28_2017.csv  data/census_46_2017.csv\r\n",
      "data/census_10_2018.csv  data/census_28_2018.csv  data/census_46_2018.csv\r\n",
      "data/census_11_2010.csv  data/census_29_2010.csv  data/census_47_2010.csv\r\n",
      "data/census_11_2011.csv  data/census_29_2011.csv  data/census_47_2011.csv\r\n",
      "data/census_11_2012.csv  data/census_29_2012.csv  data/census_47_2012.csv\r\n",
      "data/census_11_2013.csv  data/census_29_2013.csv  data/census_47_2013.csv\r\n",
      "data/census_11_2014.csv  data/census_29_2014.csv  data/census_47_2014.csv\r\n",
      "data/census_11_2015.csv  data/census_29_2015.csv  data/census_47_2015.csv\r\n",
      "data/census_11_2016.csv  data/census_29_2016.csv  data/census_47_2016.csv\r\n",
      "data/census_11_2017.csv  data/census_29_2017.csv  data/census_47_2017.csv\r\n",
      "data/census_11_2018.csv  data/census_29_2018.csv  data/census_47_2018.csv\r\n",
      "data/census_12_2010.csv  data/census_30_2010.csv  data/census_48_2010.csv\r\n",
      "data/census_12_2011.csv  data/census_30_2011.csv  data/census_48_2011.csv\r\n",
      "data/census_12_2012.csv  data/census_30_2012.csv  data/census_48_2012.csv\r\n",
      "data/census_12_2013.csv  data/census_30_2013.csv  data/census_48_2013.csv\r\n",
      "data/census_12_2014.csv  data/census_30_2014.csv  data/census_48_2014.csv\r\n",
      "data/census_12_2015.csv  data/census_30_2015.csv  data/census_48_2015.csv\r\n",
      "data/census_12_2016.csv  data/census_30_2016.csv  data/census_48_2016.csv\r\n",
      "data/census_12_2017.csv  data/census_30_2017.csv  data/census_48_2017.csv\r\n",
      "data/census_12_2018.csv  data/census_30_2018.csv  data/census_48_2018.csv\r\n",
      "data/census_13_2010.csv  data/census_31_2010.csv  data/census_49_2010.csv\r\n",
      "data/census_13_2011.csv  data/census_31_2011.csv  data/census_49_2011.csv\r\n",
      "data/census_13_2012.csv  data/census_31_2012.csv  data/census_49_2012.csv\r\n",
      "data/census_13_2013.csv  data/census_31_2013.csv  data/census_49_2013.csv\r\n",
      "data/census_13_2014.csv  data/census_31_2014.csv  data/census_49_2014.csv\r\n",
      "data/census_13_2015.csv  data/census_31_2015.csv  data/census_49_2015.csv\r\n",
      "data/census_13_2016.csv  data/census_31_2016.csv  data/census_49_2016.csv\r\n",
      "data/census_13_2017.csv  data/census_31_2017.csv  data/census_49_2017.csv\r\n",
      "data/census_13_2018.csv  data/census_31_2018.csv  data/census_49_2018.csv\r\n",
      "data/census_15_2010.csv  data/census_32_2010.csv  data/census_50_2010.csv\r\n",
      "data/census_15_2011.csv  data/census_32_2011.csv  data/census_50_2011.csv\r\n",
      "data/census_15_2012.csv  data/census_32_2012.csv  data/census_50_2012.csv\r\n",
      "data/census_15_2013.csv  data/census_32_2013.csv  data/census_50_2013.csv\r\n",
      "data/census_15_2014.csv  data/census_32_2014.csv  data/census_50_2014.csv\r\n",
      "data/census_15_2015.csv  data/census_32_2015.csv  data/census_50_2015.csv\r\n",
      "data/census_15_2016.csv  data/census_32_2016.csv  data/census_50_2016.csv\r\n",
      "data/census_15_2017.csv  data/census_32_2017.csv  data/census_50_2017.csv\r\n",
      "data/census_15_2018.csv  data/census_32_2018.csv  data/census_50_2018.csv\r\n",
      "data/census_16_2010.csv  data/census_33_2010.csv  data/census_51_2010.csv\r\n",
      "data/census_16_2011.csv  data/census_33_2011.csv  data/census_51_2011.csv\r\n",
      "data/census_16_2012.csv  data/census_33_2012.csv  data/census_51_2012.csv\r\n",
      "data/census_16_2013.csv  data/census_33_2013.csv  data/census_51_2013.csv\r\n",
      "data/census_16_2014.csv  data/census_33_2014.csv  data/census_51_2014.csv\r\n",
      "data/census_16_2015.csv  data/census_33_2015.csv  data/census_51_2015.csv\r\n",
      "data/census_16_2016.csv  data/census_33_2016.csv  data/census_51_2016.csv\r\n",
      "data/census_16_2017.csv  data/census_33_2017.csv  data/census_51_2017.csv\r\n",
      "data/census_16_2018.csv  data/census_33_2018.csv  data/census_51_2018.csv\r\n",
      "data/census_17_2010.csv  data/census_34_2010.csv  data/census_53_2010.csv\r\n",
      "data/census_17_2011.csv  data/census_34_2011.csv  data/census_53_2011.csv\r\n",
      "data/census_17_2012.csv  data/census_34_2012.csv  data/census_53_2012.csv\r\n",
      "data/census_17_2013.csv  data/census_34_2013.csv  data/census_53_2013.csv\r\n",
      "data/census_17_2014.csv  data/census_34_2014.csv  data/census_53_2014.csv\r\n",
      "data/census_17_2015.csv  data/census_34_2015.csv  data/census_53_2015.csv\r\n",
      "data/census_17_2016.csv  data/census_34_2016.csv  data/census_53_2016.csv\r\n",
      "data/census_17_2017.csv  data/census_34_2017.csv  data/census_53_2017.csv\r\n",
      "data/census_17_2018.csv  data/census_34_2018.csv  data/census_53_2018.csv\r\n",
      "data/census_18_2010.csv  data/census_35_2010.csv  data/census_54_2010.csv\r\n",
      "data/census_18_2011.csv  data/census_35_2011.csv  data/census_54_2011.csv\r\n",
      "data/census_18_2012.csv  data/census_35_2012.csv  data/census_54_2012.csv\r\n",
      "data/census_18_2013.csv  data/census_35_2013.csv  data/census_54_2013.csv\r\n",
      "data/census_18_2014.csv  data/census_35_2014.csv  data/census_54_2014.csv\r\n",
      "data/census_18_2015.csv  data/census_35_2015.csv  data/census_54_2015.csv\r\n",
      "data/census_18_2016.csv  data/census_35_2016.csv  data/census_54_2016.csv\r\n",
      "data/census_18_2017.csv  data/census_35_2017.csv  data/census_54_2017.csv\r\n",
      "data/census_18_2018.csv  data/census_35_2018.csv  data/census_54_2018.csv\r\n",
      "data/census_19_2010.csv  data/census_36_2010.csv  data/census_55_2010.csv\r\n",
      "data/census_19_2011.csv  data/census_36_2011.csv  data/census_55_2011.csv\r\n",
      "data/census_19_2012.csv  data/census_36_2012.csv  data/census_55_2012.csv\r\n",
      "data/census_19_2013.csv  data/census_36_2013.csv  data/census_55_2013.csv\r\n",
      "data/census_19_2014.csv  data/census_36_2014.csv  data/census_55_2014.csv\r\n",
      "data/census_19_2015.csv  data/census_36_2015.csv  data/census_55_2015.csv\r\n",
      "data/census_19_2016.csv  data/census_36_2016.csv  data/census_55_2016.csv\r\n",
      "data/census_19_2017.csv  data/census_36_2017.csv  data/census_55_2017.csv\r\n",
      "data/census_19_2018.csv  data/census_36_2018.csv  data/census_55_2018.csv\r\n",
      "data/census_20_2010.csv  data/census_37_2010.csv  data/census_56_2010.csv\r\n",
      "data/census_20_2011.csv  data/census_37_2011.csv  data/census_56_2011.csv\r\n",
      "data/census_20_2012.csv  data/census_37_2012.csv  data/census_56_2012.csv\r\n",
      "data/census_20_2013.csv  data/census_37_2013.csv  data/census_56_2013.csv\r\n",
      "data/census_20_2014.csv  data/census_37_2014.csv  data/census_56_2014.csv\r\n",
      "data/census_20_2015.csv  data/census_37_2015.csv  data/census_56_2015.csv\r\n",
      "data/census_20_2016.csv  data/census_37_2016.csv  data/census_56_2016.csv\r\n",
      "data/census_20_2017.csv  data/census_37_2017.csv  data/census_56_2017.csv\r\n",
      "data/census_20_2018.csv  data/census_37_2018.csv  data/census_56_2018.csv\r\n"
     ]
    }
   ],
   "source": [
    "! ls data/*csv"
   ]
  },
  {
   "cell_type": "code",
   "execution_count": 19,
   "metadata": {},
   "outputs": [],
   "source": [
    "s3_resource = boto3.resource('s3')"
   ]
  },
  {
   "cell_type": "code",
   "execution_count": 20,
   "metadata": {},
   "outputs": [],
   "source": [
    "bucket = s3_resource.Bucket(name='masonedefault')"
   ]
  },
  {
   "cell_type": "code",
   "execution_count": 23,
   "metadata": {},
   "outputs": [],
   "source": [
    "file_name = 'data/census_56_2018.csv'"
   ]
  },
  {
   "cell_type": "code",
   "execution_count": 27,
   "metadata": {},
   "outputs": [],
   "source": [
    "for year in range(2010, 2019):\n",
    "    for state in states:\n",
    "        file_name = 'data/census_'+state+'_'+str(year)+'.csv'\n",
    "        bucket.upload_file(file_name, file_name[5:])\n",
    "        "
   ]
  },
  {
   "cell_type": "code",
   "execution_count": 29,
   "metadata": {},
   "outputs": [],
   "source": [
    "state_urls = [state.text for state in soup.find('table').find_all('a')[5:56]]"
   ]
  },
  {
   "cell_type": "code",
   "execution_count": 35,
   "metadata": {},
   "outputs": [
    {
     "data": {
      "text/plain": [
       "['01_Alabama/',\n",
       " '02_Alaska/',\n",
       " '04_Arizona/',\n",
       " '05_Arkansas/',\n",
       " '06_California/',\n",
       " '08_Colorado/',\n",
       " '09_Connecticut/',\n",
       " '10_Delaware/',\n",
       " '11_District_of_Columbia/',\n",
       " '12_Florida/',\n",
       " '13_Georgia/',\n",
       " '15_Hawaii/',\n",
       " '16_Idaho/',\n",
       " '17_Illinois/',\n",
       " '18_Indiana/',\n",
       " '19_Iowa/',\n",
       " '20_Kansas/',\n",
       " '21_Kentucky/',\n",
       " '22_Louisiana/',\n",
       " '23_Maine/',\n",
       " '24_Maryland/',\n",
       " '25_Massachusetts/',\n",
       " '26_Michigan/',\n",
       " '27_Minnesota/',\n",
       " '28_Mississippi/',\n",
       " '29_Missouri/',\n",
       " '30_Montana/',\n",
       " '31_Nebraska/',\n",
       " '32_Nevada/',\n",
       " '33_New_Hampshire/',\n",
       " '34_New_Jersey/',\n",
       " '35_New_Mexico/',\n",
       " '36_New_York/',\n",
       " '37_North_Carolina/',\n",
       " '38_North_Dakota/',\n",
       " '39_Ohio/',\n",
       " '40_Oklahoma/',\n",
       " '41_Oregon/',\n",
       " '42_Pennsylvania/',\n",
       " '44_Rhode_Island/',\n",
       " '45_South_Carolina/',\n",
       " '46_South_Dakota/',\n",
       " '47_Tennessee/',\n",
       " '48_Texas/',\n",
       " '49_Utah/',\n",
       " '50_Vermont/',\n",
       " '51_Virginia/',\n",
       " '53_Washington/',\n",
       " '54_West_Virginia/',\n",
       " '55_Wisconsin/',\n",
       " '56_Wyoming/']"
      ]
     },
     "execution_count": 35,
     "metadata": {},
     "output_type": "execute_result"
    }
   ],
   "source": [
    "state_urls"
   ]
  },
  {
   "cell_type": "code",
   "execution_count": 33,
   "metadata": {},
   "outputs": [],
   "source": [
    "url = 'https://www2.census.gov/geo/pvs/tiger2010st/'\n",
    "response = requests.get(url)\n",
    "\n",
    "soup = BeautifulSoup(response.text)"
   ]
  },
  {
   "cell_type": "code",
   "execution_count": 38,
   "metadata": {},
   "outputs": [
    {
     "data": {
      "text/plain": [
       "'https://www2.census.gov/geo/pvs/tiger2010st/01_Alabama/01/tl_2010_01_tract10.zip'"
      ]
     },
     "execution_count": 38,
     "metadata": {},
     "output_type": "execute_result"
    }
   ],
   "source": [
    "url+state_urls[0]+state_urls[0][:2]+'/tl_2010_'+state_urls[0][:2]+'_tract10.zip'"
   ]
  },
  {
   "cell_type": "code",
   "execution_count": 39,
   "metadata": {},
   "outputs": [],
   "source": [
    "! rm data/tl*"
   ]
  },
  {
   "cell_type": "code",
   "execution_count": 40,
   "metadata": {},
   "outputs": [],
   "source": [
    "for state in state_urls:\n",
    "    zip_url = url+state+state[:2]+'/tl_2010_'+state[:2]+'_tract10.zip'\n",
    "    zip_file = urlopen(zip_url)\n",
    "\n",
    "    with open('/tmp/tempfile.zip', 'wb') as tmp:\n",
    "        tmp.write(zip_file.read())\n",
    "\n",
    "    with ZipFile('/tmp/tempfile.zip', 'r') as zip_ref:\n",
    "        zip_ref.extractall('data/')\n",
    "\n",
    "    sf = shapefile.Reader('data/tl_2010_'+state[:2]+'_tract10.shp')\n",
    "    geodata = [list(record) for record in sf.records()]\n",
    "    \n",
    "    \n",
    "    with open('data/geo_'+state[:-1]+'.csv', 'w') as outfile:\n",
    "            writer = csv.writer(outfile)\n",
    "            writer.writerow([x[0] for x in sf.fields[1:]])\n",
    "            writer.writerows(geodata)\n",
    "    \n",
    "    ! rm data/tl*"
   ]
  },
  {
   "cell_type": "code",
   "execution_count": 41,
   "metadata": {},
   "outputs": [
    {
     "name": "stdout",
     "output_type": "stream",
     "text": [
      "data/geo_01_Alabama.csv\t\t      data/geo_30_Montana.csv\r\n",
      "data/geo_02_Alaska.csv\t\t      data/geo_31_Nebraska.csv\r\n",
      "data/geo_04_Arizona.csv\t\t      data/geo_32_Nevada.csv\r\n",
      "data/geo_05_Arkansas.csv\t      data/geo_33_New_Hampshire.csv\r\n",
      "data/geo_06_California.csv\t      data/geo_34_New_Jersey.csv\r\n",
      "data/geo_08_Colorado.csv\t      data/geo_35_New_Mexico.csv\r\n",
      "data/geo_09_Connecticut.csv\t      data/geo_36_New_York.csv\r\n",
      "data/geo_10_Delaware.csv\t      data/geo_37_North_Carolina.csv\r\n",
      "data/geo_11_District_of_Columbia.csv  data/geo_38_North_Dakota.csv\r\n",
      "data/geo_12_Florida.csv\t\t      data/geo_39_Ohio.csv\r\n",
      "data/geo_13_Georgia.csv\t\t      data/geo_40_Oklahoma.csv\r\n",
      "data/geo_15_Hawaii.csv\t\t      data/geo_41_Oregon.csv\r\n",
      "data/geo_16_Idaho.csv\t\t      data/geo_42_Pennsylvania.csv\r\n",
      "data/geo_17_Illinois.csv\t      data/geo_44_Rhode_Island.csv\r\n",
      "data/geo_18_Indiana.csv\t\t      data/geo_45_South_Carolina.csv\r\n",
      "data/geo_19_Iowa.csv\t\t      data/geo_46_South_Dakota.csv\r\n",
      "data/geo_20_Kansas.csv\t\t      data/geo_47_Tennessee.csv\r\n",
      "data/geo_21_Kentucky.csv\t      data/geo_48_Texas.csv\r\n",
      "data/geo_22_Louisiana.csv\t      data/geo_49_Utah.csv\r\n",
      "data/geo_23_Maine.csv\t\t      data/geo_50_Vermont.csv\r\n",
      "data/geo_24_Maryland.csv\t      data/geo_51_Virginia.csv\r\n",
      "data/geo_25_Massachusetts.csv\t      data/geo_53_Washington.csv\r\n",
      "data/geo_26_Michigan.csv\t      data/geo_54_West_Virginia.csv\r\n",
      "data/geo_27_Minnesota.csv\t      data/geo_55_Wisconsin.csv\r\n",
      "data/geo_28_Mississippi.csv\t      data/geo_56_Wyoming.csv\r\n",
      "data/geo_29_Missouri.csv\r\n"
     ]
    }
   ],
   "source": [
    "! ls data/geo*"
   ]
  },
  {
   "cell_type": "code",
   "execution_count": 43,
   "metadata": {},
   "outputs": [
    {
     "data": {
      "text/plain": [
       "'data/geo_01_Alabama.csv'"
      ]
     },
     "execution_count": 43,
     "metadata": {},
     "output_type": "execute_result"
    }
   ],
   "source": [
    "'data/geo_'+state_urls[0][:-1]+'.csv'"
   ]
  },
  {
   "cell_type": "code",
   "execution_count": 44,
   "metadata": {},
   "outputs": [],
   "source": [
    "for state in state_urls:\n",
    "    file_name = 'data/geo_'+state[:-1]+'.csv'\n",
    "    bucket.upload_file(file_name, file_name[5:])\n",
    "        "
   ]
  },
  {
   "cell_type": "code",
   "execution_count": null,
   "metadata": {},
   "outputs": [],
   "source": []
  },
  {
   "cell_type": "code",
   "execution_count": 2,
   "metadata": {},
   "outputs": [],
   "source": [
    "import pyspark\n",
    "\n",
    "spark = pyspark.sql.SparkSession.builder.config('spark.driver.memory', '3g').getOrCreate()"
   ]
  },
  {
   "cell_type": "code",
   "execution_count": 45,
   "metadata": {},
   "outputs": [
    {
     "name": "stdout",
     "output_type": "stream",
     "text": [
      "data/census_01_2010.csv  data/census_21_2010.csv  data/census_38_2010.csv\r\n",
      "data/census_01_2011.csv  data/census_21_2011.csv  data/census_38_2011.csv\r\n",
      "data/census_01_2012.csv  data/census_21_2012.csv  data/census_38_2012.csv\r\n",
      "data/census_01_2013.csv  data/census_21_2013.csv  data/census_38_2013.csv\r\n",
      "data/census_01_2014.csv  data/census_21_2014.csv  data/census_38_2014.csv\r\n",
      "data/census_01_2015.csv  data/census_21_2015.csv  data/census_38_2015.csv\r\n",
      "data/census_01_2016.csv  data/census_21_2016.csv  data/census_38_2016.csv\r\n",
      "data/census_01_2017.csv  data/census_21_2017.csv  data/census_38_2017.csv\r\n",
      "data/census_01_2018.csv  data/census_21_2018.csv  data/census_38_2018.csv\r\n",
      "data/census_02_2010.csv  data/census_22_2010.csv  data/census_39_2010.csv\r\n",
      "data/census_02_2011.csv  data/census_22_2011.csv  data/census_39_2011.csv\r\n",
      "data/census_02_2012.csv  data/census_22_2012.csv  data/census_39_2012.csv\r\n",
      "data/census_02_2013.csv  data/census_22_2013.csv  data/census_39_2013.csv\r\n",
      "data/census_02_2014.csv  data/census_22_2014.csv  data/census_39_2014.csv\r\n",
      "data/census_02_2015.csv  data/census_22_2015.csv  data/census_39_2015.csv\r\n",
      "data/census_02_2016.csv  data/census_22_2016.csv  data/census_39_2016.csv\r\n",
      "data/census_02_2017.csv  data/census_22_2017.csv  data/census_39_2017.csv\r\n",
      "data/census_02_2018.csv  data/census_22_2018.csv  data/census_39_2018.csv\r\n",
      "data/census_04_2010.csv  data/census_23_2010.csv  data/census_40_2010.csv\r\n",
      "data/census_04_2011.csv  data/census_23_2011.csv  data/census_40_2011.csv\r\n",
      "data/census_04_2012.csv  data/census_23_2012.csv  data/census_40_2012.csv\r\n",
      "data/census_04_2013.csv  data/census_23_2013.csv  data/census_40_2013.csv\r\n",
      "data/census_04_2014.csv  data/census_23_2014.csv  data/census_40_2014.csv\r\n",
      "data/census_04_2015.csv  data/census_23_2015.csv  data/census_40_2015.csv\r\n",
      "data/census_04_2016.csv  data/census_23_2016.csv  data/census_40_2016.csv\r\n",
      "data/census_04_2017.csv  data/census_23_2017.csv  data/census_40_2017.csv\r\n",
      "data/census_04_2018.csv  data/census_23_2018.csv  data/census_40_2018.csv\r\n",
      "data/census_05_2010.csv  data/census_24_2010.csv  data/census_41_2010.csv\r\n",
      "data/census_05_2011.csv  data/census_24_2011.csv  data/census_41_2011.csv\r\n",
      "data/census_05_2012.csv  data/census_24_2012.csv  data/census_41_2012.csv\r\n",
      "data/census_05_2013.csv  data/census_24_2013.csv  data/census_41_2013.csv\r\n",
      "data/census_05_2014.csv  data/census_24_2014.csv  data/census_41_2014.csv\r\n",
      "data/census_05_2015.csv  data/census_24_2015.csv  data/census_41_2015.csv\r\n",
      "data/census_05_2016.csv  data/census_24_2016.csv  data/census_41_2016.csv\r\n",
      "data/census_05_2017.csv  data/census_24_2017.csv  data/census_41_2017.csv\r\n",
      "data/census_05_2018.csv  data/census_24_2018.csv  data/census_41_2018.csv\r\n",
      "data/census_06_2010.csv  data/census_25_2010.csv  data/census_42_2010.csv\r\n",
      "data/census_06_2011.csv  data/census_25_2011.csv  data/census_42_2011.csv\r\n",
      "data/census_06_2012.csv  data/census_25_2012.csv  data/census_42_2012.csv\r\n",
      "data/census_06_2013.csv  data/census_25_2013.csv  data/census_42_2013.csv\r\n",
      "data/census_06_2014.csv  data/census_25_2014.csv  data/census_42_2014.csv\r\n",
      "data/census_06_2015.csv  data/census_25_2015.csv  data/census_42_2015.csv\r\n",
      "data/census_06_2016.csv  data/census_25_2016.csv  data/census_42_2016.csv\r\n",
      "data/census_06_2017.csv  data/census_25_2017.csv  data/census_42_2017.csv\r\n",
      "data/census_06_2018.csv  data/census_25_2018.csv  data/census_42_2018.csv\r\n",
      "data/census_08_2010.csv  data/census_26_2010.csv  data/census_44_2010.csv\r\n",
      "data/census_08_2011.csv  data/census_26_2011.csv  data/census_44_2011.csv\r\n",
      "data/census_08_2012.csv  data/census_26_2012.csv  data/census_44_2012.csv\r\n",
      "data/census_08_2013.csv  data/census_26_2013.csv  data/census_44_2013.csv\r\n",
      "data/census_08_2014.csv  data/census_26_2014.csv  data/census_44_2014.csv\r\n",
      "data/census_08_2015.csv  data/census_26_2015.csv  data/census_44_2015.csv\r\n",
      "data/census_08_2016.csv  data/census_26_2016.csv  data/census_44_2016.csv\r\n",
      "data/census_08_2017.csv  data/census_26_2017.csv  data/census_44_2017.csv\r\n",
      "data/census_08_2018.csv  data/census_26_2018.csv  data/census_44_2018.csv\r\n",
      "data/census_09_2010.csv  data/census_27_2010.csv  data/census_45_2010.csv\r\n",
      "data/census_09_2011.csv  data/census_27_2011.csv  data/census_45_2011.csv\r\n",
      "data/census_09_2012.csv  data/census_27_2012.csv  data/census_45_2012.csv\r\n",
      "data/census_09_2013.csv  data/census_27_2013.csv  data/census_45_2013.csv\r\n",
      "data/census_09_2014.csv  data/census_27_2014.csv  data/census_45_2014.csv\r\n",
      "data/census_09_2015.csv  data/census_27_2015.csv  data/census_45_2015.csv\r\n",
      "data/census_09_2016.csv  data/census_27_2016.csv  data/census_45_2016.csv\r\n",
      "data/census_09_2017.csv  data/census_27_2017.csv  data/census_45_2017.csv\r\n",
      "data/census_09_2018.csv  data/census_27_2018.csv  data/census_45_2018.csv\r\n",
      "data/census_10_2010.csv  data/census_28_2010.csv  data/census_46_2010.csv\r\n",
      "data/census_10_2011.csv  data/census_28_2011.csv  data/census_46_2011.csv\r\n",
      "data/census_10_2012.csv  data/census_28_2012.csv  data/census_46_2012.csv\r\n",
      "data/census_10_2013.csv  data/census_28_2013.csv  data/census_46_2013.csv\r\n",
      "data/census_10_2014.csv  data/census_28_2014.csv  data/census_46_2014.csv\r\n",
      "data/census_10_2015.csv  data/census_28_2015.csv  data/census_46_2015.csv\r\n",
      "data/census_10_2016.csv  data/census_28_2016.csv  data/census_46_2016.csv\r\n",
      "data/census_10_2017.csv  data/census_28_2017.csv  data/census_46_2017.csv\r\n",
      "data/census_10_2018.csv  data/census_28_2018.csv  data/census_46_2018.csv\r\n",
      "data/census_11_2010.csv  data/census_29_2010.csv  data/census_47_2010.csv\r\n",
      "data/census_11_2011.csv  data/census_29_2011.csv  data/census_47_2011.csv\r\n",
      "data/census_11_2012.csv  data/census_29_2012.csv  data/census_47_2012.csv\r\n",
      "data/census_11_2013.csv  data/census_29_2013.csv  data/census_47_2013.csv\r\n",
      "data/census_11_2014.csv  data/census_29_2014.csv  data/census_47_2014.csv\r\n",
      "data/census_11_2015.csv  data/census_29_2015.csv  data/census_47_2015.csv\r\n",
      "data/census_11_2016.csv  data/census_29_2016.csv  data/census_47_2016.csv\r\n",
      "data/census_11_2017.csv  data/census_29_2017.csv  data/census_47_2017.csv\r\n",
      "data/census_11_2018.csv  data/census_29_2018.csv  data/census_47_2018.csv\r\n",
      "data/census_12_2010.csv  data/census_30_2010.csv  data/census_48_2010.csv\r\n",
      "data/census_12_2011.csv  data/census_30_2011.csv  data/census_48_2011.csv\r\n",
      "data/census_12_2012.csv  data/census_30_2012.csv  data/census_48_2012.csv\r\n",
      "data/census_12_2013.csv  data/census_30_2013.csv  data/census_48_2013.csv\r\n",
      "data/census_12_2014.csv  data/census_30_2014.csv  data/census_48_2014.csv\r\n",
      "data/census_12_2015.csv  data/census_30_2015.csv  data/census_48_2015.csv\r\n",
      "data/census_12_2016.csv  data/census_30_2016.csv  data/census_48_2016.csv\r\n",
      "data/census_12_2017.csv  data/census_30_2017.csv  data/census_48_2017.csv\r\n",
      "data/census_12_2018.csv  data/census_30_2018.csv  data/census_48_2018.csv\r\n",
      "data/census_13_2010.csv  data/census_31_2010.csv  data/census_49_2010.csv\r\n",
      "data/census_13_2011.csv  data/census_31_2011.csv  data/census_49_2011.csv\r\n",
      "data/census_13_2012.csv  data/census_31_2012.csv  data/census_49_2012.csv\r\n",
      "data/census_13_2013.csv  data/census_31_2013.csv  data/census_49_2013.csv\r\n",
      "data/census_13_2014.csv  data/census_31_2014.csv  data/census_49_2014.csv\r\n",
      "data/census_13_2015.csv  data/census_31_2015.csv  data/census_49_2015.csv\r\n",
      "data/census_13_2016.csv  data/census_31_2016.csv  data/census_49_2016.csv\r\n",
      "data/census_13_2017.csv  data/census_31_2017.csv  data/census_49_2017.csv\r\n",
      "data/census_13_2018.csv  data/census_31_2018.csv  data/census_49_2018.csv\r\n",
      "data/census_15_2010.csv  data/census_32_2010.csv  data/census_50_2010.csv\r\n",
      "data/census_15_2011.csv  data/census_32_2011.csv  data/census_50_2011.csv\r\n",
      "data/census_15_2012.csv  data/census_32_2012.csv  data/census_50_2012.csv\r\n",
      "data/census_15_2013.csv  data/census_32_2013.csv  data/census_50_2013.csv\r\n",
      "data/census_15_2014.csv  data/census_32_2014.csv  data/census_50_2014.csv\r\n",
      "data/census_15_2015.csv  data/census_32_2015.csv  data/census_50_2015.csv\r\n",
      "data/census_15_2016.csv  data/census_32_2016.csv  data/census_50_2016.csv\r\n",
      "data/census_15_2017.csv  data/census_32_2017.csv  data/census_50_2017.csv\r\n",
      "data/census_15_2018.csv  data/census_32_2018.csv  data/census_50_2018.csv\r\n",
      "data/census_16_2010.csv  data/census_33_2010.csv  data/census_51_2010.csv\r\n",
      "data/census_16_2011.csv  data/census_33_2011.csv  data/census_51_2011.csv\r\n",
      "data/census_16_2012.csv  data/census_33_2012.csv  data/census_51_2012.csv\r\n",
      "data/census_16_2013.csv  data/census_33_2013.csv  data/census_51_2013.csv\r\n",
      "data/census_16_2014.csv  data/census_33_2014.csv  data/census_51_2014.csv\r\n",
      "data/census_16_2015.csv  data/census_33_2015.csv  data/census_51_2015.csv\r\n",
      "data/census_16_2016.csv  data/census_33_2016.csv  data/census_51_2016.csv\r\n",
      "data/census_16_2017.csv  data/census_33_2017.csv  data/census_51_2017.csv\r\n",
      "data/census_16_2018.csv  data/census_33_2018.csv  data/census_51_2018.csv\r\n",
      "data/census_17_2010.csv  data/census_34_2010.csv  data/census_53_2010.csv\r\n",
      "data/census_17_2011.csv  data/census_34_2011.csv  data/census_53_2011.csv\r\n",
      "data/census_17_2012.csv  data/census_34_2012.csv  data/census_53_2012.csv\r\n",
      "data/census_17_2013.csv  data/census_34_2013.csv  data/census_53_2013.csv\r\n",
      "data/census_17_2014.csv  data/census_34_2014.csv  data/census_53_2014.csv\r\n",
      "data/census_17_2015.csv  data/census_34_2015.csv  data/census_53_2015.csv\r\n",
      "data/census_17_2016.csv  data/census_34_2016.csv  data/census_53_2016.csv\r\n",
      "data/census_17_2017.csv  data/census_34_2017.csv  data/census_53_2017.csv\r\n",
      "data/census_17_2018.csv  data/census_34_2018.csv  data/census_53_2018.csv\r\n",
      "data/census_18_2010.csv  data/census_35_2010.csv  data/census_54_2010.csv\r\n",
      "data/census_18_2011.csv  data/census_35_2011.csv  data/census_54_2011.csv\r\n",
      "data/census_18_2012.csv  data/census_35_2012.csv  data/census_54_2012.csv\r\n",
      "data/census_18_2013.csv  data/census_35_2013.csv  data/census_54_2013.csv\r\n",
      "data/census_18_2014.csv  data/census_35_2014.csv  data/census_54_2014.csv\r\n",
      "data/census_18_2015.csv  data/census_35_2015.csv  data/census_54_2015.csv\r\n",
      "data/census_18_2016.csv  data/census_35_2016.csv  data/census_54_2016.csv\r\n",
      "data/census_18_2017.csv  data/census_35_2017.csv  data/census_54_2017.csv\r\n",
      "data/census_18_2018.csv  data/census_35_2018.csv  data/census_54_2018.csv\r\n",
      "data/census_19_2010.csv  data/census_36_2010.csv  data/census_55_2010.csv\r\n",
      "data/census_19_2011.csv  data/census_36_2011.csv  data/census_55_2011.csv\r\n",
      "data/census_19_2012.csv  data/census_36_2012.csv  data/census_55_2012.csv\r\n",
      "data/census_19_2013.csv  data/census_36_2013.csv  data/census_55_2013.csv\r\n",
      "data/census_19_2014.csv  data/census_36_2014.csv  data/census_55_2014.csv\r\n",
      "data/census_19_2015.csv  data/census_36_2015.csv  data/census_55_2015.csv\r\n",
      "data/census_19_2016.csv  data/census_36_2016.csv  data/census_55_2016.csv\r\n",
      "data/census_19_2017.csv  data/census_36_2017.csv  data/census_55_2017.csv\r\n",
      "data/census_19_2018.csv  data/census_36_2018.csv  data/census_55_2018.csv\r\n",
      "data/census_20_2010.csv  data/census_37_2010.csv  data/census_56_2010.csv\r\n",
      "data/census_20_2011.csv  data/census_37_2011.csv  data/census_56_2011.csv\r\n",
      "data/census_20_2012.csv  data/census_37_2012.csv  data/census_56_2012.csv\r\n",
      "data/census_20_2013.csv  data/census_37_2013.csv  data/census_56_2013.csv\r\n",
      "data/census_20_2014.csv  data/census_37_2014.csv  data/census_56_2014.csv\r\n",
      "data/census_20_2015.csv  data/census_37_2015.csv  data/census_56_2015.csv\r\n",
      "data/census_20_2016.csv  data/census_37_2016.csv  data/census_56_2016.csv\r\n",
      "data/census_20_2017.csv  data/census_37_2017.csv  data/census_56_2017.csv\r\n",
      "data/census_20_2018.csv  data/census_37_2018.csv  data/census_56_2018.csv\r\n"
     ]
    }
   ],
   "source": [
    "! ls data/census*.csv"
   ]
  },
  {
   "cell_type": "code",
   "execution_count": 4,
   "metadata": {},
   "outputs": [],
   "source": [
    "census = spark.read.csv('data/census*.csv', header='true', inferSchema='true')"
   ]
  },
  {
   "cell_type": "code",
   "execution_count": 5,
   "metadata": {},
   "outputs": [
    {
     "name": "stdout",
     "output_type": "stream",
     "text": [
      "+-----------+-----------+-----------+-----------+-----------+-----------+-----------+-----------+-----------+-----------+-----------+-----------+-----------+-----------+-----------+-----------+-----------+-----------+-----------+-----------+-----------+-----------+-----------+--------------------+--------------------+-----+------+-----+----+\n",
      "|B19013_001E|B19301_001E|B15002_019E|B15002_032E|B15002_033E|B15002_034E|B15002_035E|B15002_002E|B15002_015E|B15002_016E|B15002_017E|B15002_018E|B08301_001E|B08301_003E|B08301_004E|B08301_010E|B08301_019E|B08301_021E|B02001_001E|B02001_002E|B02001_003E|B01002_001E|B01003_001E|              GEO_ID|                NAME|state|county|tract|year|\n",
      "+-----------+-----------+-----------+-----------+-----------+-----------+-----------+-----------+-----------+-----------+-----------+-----------+-----------+-----------+-----------+-----------+-----------+-----------+-----------+-----------+-----------+-----------+-----------+--------------------+--------------------+-----+------+-----+----+\n",
      "|      59153|      24316|       1287|        157|         36|         17|          0|       1217|         85|         24|         15|         14|       1662|       1370|        203|         21|          0|         13|       3996|       2398|         50|       33.3|       3996|1400000US06047000802|Census Tract 8.02...|    6|    47|  802|2018|\n",
      "|      57462|      31877|        961|        153|          7|         13|          0|       1319|         74|         17|         13|          0|       1325|       1044|         89|          0|        128|         54|       3836|       2535|         97|       29.6|       3836|1400000US06047000901|Census Tract 9.01...|    6|    47|  901|2018|\n",
      "|      31346|      11694|        721|         12|          6|          0|          0|        688|         23|          0|          0|          0|        839|        541|         79|          7|         48|         28|       2493|       1361|         18|       28.6|       2493|1400000US06047001502|Census Tract 15.0...|    6|    47| 1502|2018|\n",
      "|      59781|      20729|       2805|        395|         43|         12|          0|       3002|        205|        124|          0|         20|       3685|       3348|        162|          0|         28|        123|       9811|       5857|         89|       30.7|       9811|1400000US06047000902|Census Tract 9.02...|    6|    47|  902|2018|\n",
      "|      59984|      29679|       1919|        228|        187|         39|         21|       1705|        251|        104|         34|         67|       2257|       1893|        145|          1|         28|         46|       5431|       3571|        210|       36.4|       5431|1400000US06047001200|Census Tract 12, ...|    6|    47| 1200|2018|\n",
      "+-----------+-----------+-----------+-----------+-----------+-----------+-----------+-----------+-----------+-----------+-----------+-----------+-----------+-----------+-----------+-----------+-----------+-----------+-----------+-----------+-----------+-----------+-----------+--------------------+--------------------+-----+------+-----+----+\n",
      "only showing top 5 rows\n",
      "\n"
     ]
    }
   ],
   "source": [
    "census.count()"
   ]
  },
  {
   "cell_type": "code",
   "execution_count": 6,
   "metadata": {},
   "outputs": [],
   "source": [
    "from pyspark.sql.functions import split, explode, col, lower, sort_array, expr"
   ]
  },
  {
   "cell_type": "code",
   "execution_count": 7,
   "metadata": {},
   "outputs": [
    {
     "name": "stdout",
     "output_type": "stream",
     "text": [
      "root\n",
      " |-- B19013_001E: integer (nullable = true)\n",
      " |-- B19301_001E: integer (nullable = true)\n",
      " |-- B15002_019E: integer (nullable = true)\n",
      " |-- B15002_032E: integer (nullable = true)\n",
      " |-- B15002_033E: integer (nullable = true)\n",
      " |-- B15002_034E: integer (nullable = true)\n",
      " |-- B15002_035E: integer (nullable = true)\n",
      " |-- B15002_002E: integer (nullable = true)\n",
      " |-- B15002_015E: integer (nullable = true)\n",
      " |-- B15002_016E: integer (nullable = true)\n",
      " |-- B15002_017E: integer (nullable = true)\n",
      " |-- B15002_018E: integer (nullable = true)\n",
      " |-- B08301_001E: integer (nullable = true)\n",
      " |-- B08301_003E: integer (nullable = true)\n",
      " |-- B08301_004E: integer (nullable = true)\n",
      " |-- B08301_010E: integer (nullable = true)\n",
      " |-- B08301_019E: integer (nullable = true)\n",
      " |-- B08301_021E: integer (nullable = true)\n",
      " |-- B02001_001E: integer (nullable = true)\n",
      " |-- B02001_002E: integer (nullable = true)\n",
      " |-- B02001_003E: integer (nullable = true)\n",
      " |-- B01002_001E: double (nullable = true)\n",
      " |-- B01003_001E: integer (nullable = true)\n",
      " |-- GEO_ID: string (nullable = true)\n",
      " |-- NAME: string (nullable = true)\n",
      " |-- state: integer (nullable = true)\n",
      " |-- county: integer (nullable = true)\n",
      " |-- tract: integer (nullable = true)\n",
      " |-- year: integer (nullable = true)\n",
      "\n"
     ]
    }
   ],
   "source": [
    "census.printSchema()"
   ]
  },
  {
   "cell_type": "code",
   "execution_count": 8,
   "metadata": {},
   "outputs": [],
   "source": [
    "census = census.withColumn('GEO_ID', split('GEO_ID', 'US')[1])"
   ]
  },
  {
   "cell_type": "code",
   "execution_count": 9,
   "metadata": {},
   "outputs": [
    {
     "name": "stdout",
     "output_type": "stream",
     "text": [
      "+-----------+-----------+-----------+-----------+-----------+-----------+-----------+-----------+-----------+-----------+-----------+-----------+-----------+-----------+-----------+-----------+-----------+-----------+-----------+-----------+-----------+-----------+-----------+-----------+--------------------+-----+------+-----+----+\n",
      "|B19013_001E|B19301_001E|B15002_019E|B15002_032E|B15002_033E|B15002_034E|B15002_035E|B15002_002E|B15002_015E|B15002_016E|B15002_017E|B15002_018E|B08301_001E|B08301_003E|B08301_004E|B08301_010E|B08301_019E|B08301_021E|B02001_001E|B02001_002E|B02001_003E|B01002_001E|B01003_001E|     GEO_ID|                NAME|state|county|tract|year|\n",
      "+-----------+-----------+-----------+-----------+-----------+-----------+-----------+-----------+-----------+-----------+-----------+-----------+-----------+-----------+-----------+-----------+-----------+-----------+-----------+-----------+-----------+-----------+-----------+-----------+--------------------+-----+------+-----+----+\n",
      "|      59153|      24316|       1287|        157|         36|         17|          0|       1217|         85|         24|         15|         14|       1662|       1370|        203|         21|          0|         13|       3996|       2398|         50|       33.3|       3996|06047000802|Census Tract 8.02...|    6|    47|  802|2018|\n",
      "|      57462|      31877|        961|        153|          7|         13|          0|       1319|         74|         17|         13|          0|       1325|       1044|         89|          0|        128|         54|       3836|       2535|         97|       29.6|       3836|06047000901|Census Tract 9.01...|    6|    47|  901|2018|\n",
      "|      31346|      11694|        721|         12|          6|          0|          0|        688|         23|          0|          0|          0|        839|        541|         79|          7|         48|         28|       2493|       1361|         18|       28.6|       2493|06047001502|Census Tract 15.0...|    6|    47| 1502|2018|\n",
      "|      59781|      20729|       2805|        395|         43|         12|          0|       3002|        205|        124|          0|         20|       3685|       3348|        162|          0|         28|        123|       9811|       5857|         89|       30.7|       9811|06047000902|Census Tract 9.02...|    6|    47|  902|2018|\n",
      "|      59984|      29679|       1919|        228|        187|         39|         21|       1705|        251|        104|         34|         67|       2257|       1893|        145|          1|         28|         46|       5431|       3571|        210|       36.4|       5431|06047001200|Census Tract 12, ...|    6|    47| 1200|2018|\n",
      "+-----------+-----------+-----------+-----------+-----------+-----------+-----------+-----------+-----------+-----------+-----------+-----------+-----------+-----------+-----------+-----------+-----------+-----------+-----------+-----------+-----------+-----------+-----------+-----------+--------------------+-----+------+-----+----+\n",
      "only showing top 5 rows\n",
      "\n"
     ]
    }
   ],
   "source": [
    "census.show(5)"
   ]
  },
  {
   "cell_type": "code",
   "execution_count": 10,
   "metadata": {},
   "outputs": [
    {
     "name": "stdout",
     "output_type": "stream",
     "text": [
      "root\n",
      " |-- B19013_001E: integer (nullable = true)\n",
      " |-- B19301_001E: integer (nullable = true)\n",
      " |-- B15002_019E: integer (nullable = true)\n",
      " |-- B15002_032E: integer (nullable = true)\n",
      " |-- B15002_033E: integer (nullable = true)\n",
      " |-- B15002_034E: integer (nullable = true)\n",
      " |-- B15002_035E: integer (nullable = true)\n",
      " |-- B15002_002E: integer (nullable = true)\n",
      " |-- B15002_015E: integer (nullable = true)\n",
      " |-- B15002_016E: integer (nullable = true)\n",
      " |-- B15002_017E: integer (nullable = true)\n",
      " |-- B15002_018E: integer (nullable = true)\n",
      " |-- B08301_001E: integer (nullable = true)\n",
      " |-- B08301_003E: integer (nullable = true)\n",
      " |-- B08301_004E: integer (nullable = true)\n",
      " |-- B08301_010E: integer (nullable = true)\n",
      " |-- B08301_019E: integer (nullable = true)\n",
      " |-- B08301_021E: integer (nullable = true)\n",
      " |-- B02001_001E: integer (nullable = true)\n",
      " |-- B02001_002E: integer (nullable = true)\n",
      " |-- B02001_003E: integer (nullable = true)\n",
      " |-- B01002_001E: double (nullable = true)\n",
      " |-- B01003_001E: integer (nullable = true)\n",
      " |-- GEO_ID: string (nullable = true)\n",
      " |-- NAME: string (nullable = true)\n",
      " |-- state: integer (nullable = true)\n",
      " |-- county: integer (nullable = true)\n",
      " |-- tract: integer (nullable = true)\n",
      " |-- year: integer (nullable = true)\n",
      "\n"
     ]
    }
   ],
   "source": [
    "census.printSchema()"
   ]
  },
  {
   "cell_type": "code",
   "execution_count": 11,
   "metadata": {},
   "outputs": [
    {
     "data": {
      "text/plain": [
       "116776"
      ]
     },
     "execution_count": 11,
     "metadata": {},
     "output_type": "execute_result"
    }
   ],
   "source": [
    "census.count()"
   ]
  },
  {
   "cell_type": "code",
   "execution_count": 12,
   "metadata": {},
   "outputs": [],
   "source": [
    "census = census.na.drop()"
   ]
  },
  {
   "cell_type": "code",
   "execution_count": 13,
   "metadata": {},
   "outputs": [],
   "source": [
    "census = census.filter(census.B19013_001E > 0)"
   ]
  },
  {
   "cell_type": "code",
   "execution_count": 14,
   "metadata": {},
   "outputs": [],
   "source": [
    "census = census.withColumn('ed_total', sum([census.B15002_032E,\n",
    "                                   census.B15002_033E,\n",
    "                                   census.B15002_034E,\n",
    "                                   census.B15002_035E,\n",
    "                                   census.B15002_015E,\n",
    "                                   census.B15002_016E,\n",
    "                                   census.B15002_017E,\n",
    "                                   census.B15002_018E])/sum([census.B15002_019E,census.B15002_002E]))\n",
    "\n",
    "census = census.withColumn('ed_fem', sum([census.B15002_032E,\n",
    "                                 census.B15002_033E,\n",
    "                                 census.B15002_034E,\n",
    "                                 census.B15002_035E]) / census.B15002_019E)\n",
    "\n",
    "census = census.withColumn('ed_male', sum([census.B15002_015E,\n",
    "                                  census.B15002_016E,\n",
    "                                  census.B15002_017E,\n",
    "                                  census.B15002_018E]) / census.B15002_002E)\n",
    "\n",
    "census = census.withColumn('trans_solo', census.B08301_003E/census.B08301_001E)\n",
    "\n",
    "census = census.withColumn('trans_pool', census.B08301_004E/census.B08301_001E)\n",
    "\n",
    "census = census.withColumn('trans_public', census.B08301_010E/census.B08301_001E)\n",
    "\n",
    "census = census.withColumn('trans_walk', census.B08301_019E/census.B08301_001E)\n",
    "\n",
    "census = census.withColumn('trans_remote', census.B08301_021E/census.B08301_001E)\n",
    "\n",
    "census = census.withColumn('perc_white', census.B02001_002E/census.B02001_001E)\n",
    "\n",
    "census = census.withColumn('perc_black', census.B02001_003E/census.B02001_001E)\n",
    "\n",
    "census = census.withColumn('med_hous_inc', census.B19013_001E)\n",
    "\n",
    "census = census.withColumn('per_cap_inc', census.B19301_001E)\n",
    "\n",
    "census = census.withColumn('med_age', census.B01002_001E)\n",
    "\n",
    "census = census.withColumn('population', census.B01003_001E)"
   ]
  },
  {
   "cell_type": "code",
   "execution_count": 15,
   "metadata": {},
   "outputs": [
    {
     "name": "stdout",
     "output_type": "stream",
     "text": [
      "root\n",
      " |-- B19013_001E: integer (nullable = true)\n",
      " |-- B19301_001E: integer (nullable = true)\n",
      " |-- B15002_019E: integer (nullable = true)\n",
      " |-- B15002_032E: integer (nullable = true)\n",
      " |-- B15002_033E: integer (nullable = true)\n",
      " |-- B15002_034E: integer (nullable = true)\n",
      " |-- B15002_035E: integer (nullable = true)\n",
      " |-- B15002_002E: integer (nullable = true)\n",
      " |-- B15002_015E: integer (nullable = true)\n",
      " |-- B15002_016E: integer (nullable = true)\n",
      " |-- B15002_017E: integer (nullable = true)\n",
      " |-- B15002_018E: integer (nullable = true)\n",
      " |-- B08301_001E: integer (nullable = true)\n",
      " |-- B08301_003E: integer (nullable = true)\n",
      " |-- B08301_004E: integer (nullable = true)\n",
      " |-- B08301_010E: integer (nullable = true)\n",
      " |-- B08301_019E: integer (nullable = true)\n",
      " |-- B08301_021E: integer (nullable = true)\n",
      " |-- B02001_001E: integer (nullable = true)\n",
      " |-- B02001_002E: integer (nullable = true)\n",
      " |-- B02001_003E: integer (nullable = true)\n",
      " |-- B01002_001E: double (nullable = true)\n",
      " |-- B01003_001E: integer (nullable = true)\n",
      " |-- GEO_ID: string (nullable = true)\n",
      " |-- NAME: string (nullable = true)\n",
      " |-- state: integer (nullable = true)\n",
      " |-- county: integer (nullable = true)\n",
      " |-- tract: integer (nullable = true)\n",
      " |-- year: integer (nullable = true)\n",
      " |-- ed_total: double (nullable = true)\n",
      " |-- ed_fem: double (nullable = true)\n",
      " |-- ed_male: double (nullable = true)\n",
      " |-- trans_solo: double (nullable = true)\n",
      " |-- trans_pool: double (nullable = true)\n",
      " |-- trans_public: double (nullable = true)\n",
      " |-- trans_walk: double (nullable = true)\n",
      " |-- trans_remote: double (nullable = true)\n",
      " |-- perc_white: double (nullable = true)\n",
      " |-- perc_black: double (nullable = true)\n",
      " |-- med_hous_inc: integer (nullable = true)\n",
      " |-- per_cap_inc: integer (nullable = true)\n",
      " |-- med_age: double (nullable = true)\n",
      " |-- population: integer (nullable = true)\n",
      "\n"
     ]
    }
   ],
   "source": [
    "census.printSchema()"
   ]
  },
  {
   "cell_type": "code",
   "execution_count": 16,
   "metadata": {},
   "outputs": [],
   "source": [
    "census = census.select(['GEO_ID', 'NAME', 'state', 'county', 'tract', 'year', 'ed_total', 'ed_fem', \n",
    "              'ed_male', 'trans_solo', 'trans_pool', 'trans_public', 'trans_walk', 'trans_remote',\n",
    "              'perc_white', 'perc_black', 'med_hous_inc', 'per_cap_inc', 'med_age', 'population'])"
   ]
  },
  {
   "cell_type": "code",
   "execution_count": 17,
   "metadata": {},
   "outputs": [
    {
     "name": "stdout",
     "output_type": "stream",
     "text": [
      "root\n",
      " |-- GEO_ID: string (nullable = true)\n",
      " |-- NAME: string (nullable = true)\n",
      " |-- state: integer (nullable = true)\n",
      " |-- county: integer (nullable = true)\n",
      " |-- tract: integer (nullable = true)\n",
      " |-- year: integer (nullable = true)\n",
      " |-- ed_total: double (nullable = true)\n",
      " |-- ed_fem: double (nullable = true)\n",
      " |-- ed_male: double (nullable = true)\n",
      " |-- trans_solo: double (nullable = true)\n",
      " |-- trans_pool: double (nullable = true)\n",
      " |-- trans_public: double (nullable = true)\n",
      " |-- trans_walk: double (nullable = true)\n",
      " |-- trans_remote: double (nullable = true)\n",
      " |-- perc_white: double (nullable = true)\n",
      " |-- perc_black: double (nullable = true)\n",
      " |-- med_hous_inc: integer (nullable = true)\n",
      " |-- per_cap_inc: integer (nullable = true)\n",
      " |-- med_age: double (nullable = true)\n",
      " |-- population: integer (nullable = true)\n",
      "\n"
     ]
    }
   ],
   "source": [
    "census.printSchema()"
   ]
  },
  {
   "cell_type": "code",
   "execution_count": 18,
   "metadata": {},
   "outputs": [
    {
     "name": "stdout",
     "output_type": "stream",
     "text": [
      "+-----+----+------------------+\n",
      "|state|year|               %10|\n",
      "+-----+----+------------------+\n",
      "|   36|2015|           29534.5|\n",
      "|   36|2014|           29185.9|\n",
      "|   36|2012|           28594.0|\n",
      "|   36|2010|27895.200000000004|\n",
      "|    6|2013|           32173.9|\n",
      "|    6|2014|           32159.8|\n",
      "|    6|2012|           32268.6|\n",
      "|   36|2013|           28922.4|\n",
      "|    6|2015|32148.600000000002|\n",
      "|    6|2010|32831.200000000004|\n",
      "|    6|2011|           32922.8|\n",
      "|   36|2011|           28307.6|\n",
      "+-----+----+------------------+\n",
      "\n"
     ]
    }
   ],
   "source": [
    "percentile = census.filter(census.year <= 2015).groupby(['state','year']).agg(expr('percentile(med_hous_inc, array(0.10))')[0].alias('%10'))\n",
    "percentile.show()"
   ]
  },
  {
   "cell_type": "code",
   "execution_count": 20,
   "metadata": {},
   "outputs": [],
   "source": [
    "for idx, row in enumerate(percentile.collect()):\n",
    "\n",
    "    temp =  census.filter(census.state == row['state']).filter(census.year == row['year']).filter(census.med_hous_inc <= row['%10'])\n",
    "    \n",
    "    if idx == 0:\n",
    "        df_elig = temp\n",
    "    else:\n",
    "        df_elig = df_elig.union(temp)\n"
   ]
  },
  {
   "cell_type": "code",
   "execution_count": 21,
   "metadata": {},
   "outputs": [
    {
     "name": "stdout",
     "output_type": "stream",
     "text": [
      "root\n",
      " |-- GEO_ID: string (nullable = true)\n",
      " |-- NAME: string (nullable = true)\n",
      " |-- state: integer (nullable = true)\n",
      " |-- county: integer (nullable = true)\n",
      " |-- tract: integer (nullable = true)\n",
      " |-- year: integer (nullable = true)\n",
      " |-- ed_total: double (nullable = true)\n",
      " |-- ed_fem: double (nullable = true)\n",
      " |-- ed_male: double (nullable = true)\n",
      " |-- trans_solo: double (nullable = true)\n",
      " |-- trans_pool: double (nullable = true)\n",
      " |-- trans_public: double (nullable = true)\n",
      " |-- trans_walk: double (nullable = true)\n",
      " |-- trans_remote: double (nullable = true)\n",
      " |-- perc_white: double (nullable = true)\n",
      " |-- perc_black: double (nullable = true)\n",
      " |-- med_hous_inc: integer (nullable = true)\n",
      " |-- per_cap_inc: integer (nullable = true)\n",
      " |-- med_age: double (nullable = true)\n",
      " |-- population: integer (nullable = true)\n",
      "\n"
     ]
    }
   ],
   "source": [
    "census.printSchema()"
   ]
  },
  {
   "cell_type": "code",
   "execution_count": 22,
   "metadata": {},
   "outputs": [
    {
     "name": "stdout",
     "output_type": "stream",
     "text": [
      "root\n",
      " |-- GEO_ID: string (nullable = true)\n",
      " |-- NAME: string (nullable = true)\n",
      " |-- state: integer (nullable = true)\n",
      " |-- county: integer (nullable = true)\n",
      " |-- tract: integer (nullable = true)\n",
      " |-- year: integer (nullable = true)\n",
      " |-- ed_total: double (nullable = true)\n",
      " |-- ed_fem: double (nullable = true)\n",
      " |-- ed_male: double (nullable = true)\n",
      " |-- trans_solo: double (nullable = true)\n",
      " |-- trans_pool: double (nullable = true)\n",
      " |-- trans_public: double (nullable = true)\n",
      " |-- trans_walk: double (nullable = true)\n",
      " |-- trans_remote: double (nullable = true)\n",
      " |-- perc_white: double (nullable = true)\n",
      " |-- perc_black: double (nullable = true)\n",
      " |-- med_hous_inc: integer (nullable = true)\n",
      " |-- per_cap_inc: integer (nullable = true)\n",
      " |-- med_age: double (nullable = true)\n",
      " |-- population: integer (nullable = true)\n",
      "\n"
     ]
    }
   ],
   "source": [
    "df_elig.printSchema()"
   ]
  },
  {
   "cell_type": "code",
   "execution_count": 23,
   "metadata": {},
   "outputs": [
    {
     "data": {
      "text/plain": [
       "7672"
      ]
     },
     "execution_count": 23,
     "metadata": {},
     "output_type": "execute_result"
    }
   ],
   "source": [
    "df_elig.count()"
   ]
  },
  {
   "cell_type": "code",
   "execution_count": 24,
   "metadata": {},
   "outputs": [
    {
     "data": {
      "text/plain": [
       "114935"
      ]
     },
     "execution_count": 24,
     "metadata": {},
     "output_type": "execute_result"
    }
   ],
   "source": [
    "census.count()"
   ]
  },
  {
   "cell_type": "code",
   "execution_count": 25,
   "metadata": {},
   "outputs": [
    {
     "name": "stdout",
     "output_type": "stream",
     "text": [
      "+-----+----+------------------+\n",
      "|state|year|               %20|\n",
      "+-----+----+------------------+\n",
      "|   36|2015|           39460.0|\n",
      "|   36|2014|           38847.2|\n",
      "|    6|2016|           40757.2|\n",
      "|   36|2012|           37869.6|\n",
      "|   36|2018|           43737.4|\n",
      "|    6|2018|           45625.0|\n",
      "|   36|2017|           41378.0|\n",
      "|   36|2010|           36822.6|\n",
      "|    6|2017|           42819.0|\n",
      "|    6|2013|           39538.4|\n",
      "|    6|2014|           39536.6|\n",
      "|    6|2012|           39756.0|\n",
      "|   36|2013|           38371.8|\n",
      "|    6|2015|           39604.6|\n",
      "|    6|2010|           39970.8|\n",
      "|    6|2011|40167.600000000006|\n",
      "|   36|2016|           40365.0|\n",
      "|   36|2011|           37569.6|\n",
      "+-----+----+------------------+\n",
      "\n"
     ]
    }
   ],
   "source": [
    "percentile = census.groupby(['state','year']).agg(expr('percentile(med_hous_inc, array(0.20))')[0].alias('%20'))\n",
    "percentile.show()"
   ]
  },
  {
   "cell_type": "code",
   "execution_count": 27,
   "metadata": {},
   "outputs": [],
   "source": [
    "percentile_ar = np.array(percentile.collect())"
   ]
  },
  {
   "cell_type": "code",
   "execution_count": 30,
   "metadata": {},
   "outputs": [],
   "source": [
    "census_ar = np.array(census.filter(census.state == 6).collect())"
   ]
  },
  {
   "cell_type": "code",
   "execution_count": 31,
   "metadata": {},
   "outputs": [],
   "source": [
    "def gentrified(state, year, geo_id, per_cap_inc):\n",
    "    \n",
    "    tract_summary = census_ar[(census_ar[:, 5] > year) & (census_ar[:, 5] <= year+3) & (census_ar[:, 0] == geo_id)][:, [5, 16, 17]]\n",
    "    \n",
    "    try:\n",
    "        max_income = max(tract_summary[:, 2])\n",
    "    \n",
    "        if ((max_income - per_cap_inc) / per_cap_inc) >= .2:\n",
    "            return int(1)\n",
    "        else:\n",
    "            for row in tract_summary:\n",
    "                if row[1] >= percentile_ar[(percentile_ar[:, 0] == state) & (percentile_ar[:, 1] == year)][:, 2].item():\n",
    "                    return int(1)\n",
    "                else:\n",
    "                    return int(0)\n",
    "    except:\n",
    "        return int(0)"
   ]
  },
  {
   "cell_type": "code",
   "execution_count": 32,
   "metadata": {},
   "outputs": [],
   "source": [
    "from pyspark.sql.functions import udf\n",
    "from pyspark.sql.types import IntegerType"
   ]
  },
  {
   "cell_type": "code",
   "execution_count": 10,
   "metadata": {},
   "outputs": [],
   "source": [
    "states = [1,\n",
    " 2,\n",
    " 4,\n",
    " 5,\n",
    " 6,\n",
    " 8,\n",
    " 9,\n",
    " 10,\n",
    " 11,\n",
    " 12,\n",
    " 13,\n",
    " 15,\n",
    " 16,\n",
    " 17,\n",
    " 18,\n",
    " 19,\n",
    " 20,\n",
    " 21,\n",
    " 22,\n",
    " 23,\n",
    " 24,\n",
    " 25,\n",
    " 26,\n",
    " 27,\n",
    " 28,\n",
    " 29,\n",
    " 30,\n",
    " 31,\n",
    " 32,\n",
    " 33,\n",
    " 34,\n",
    " 35,\n",
    " 36,\n",
    " 37,\n",
    " 38,\n",
    " 39,\n",
    " 40,\n",
    " 41,\n",
    " 42,\n",
    " 44,\n",
    " 45,\n",
    " 46,\n",
    " 47,\n",
    " 48,\n",
    " 49,\n",
    " 50,\n",
    " 51,\n",
    " 53,\n",
    " 54,\n",
    " 55,\n",
    " 56]"
   ]
  },
  {
   "cell_type": "code",
   "execution_count": 34,
   "metadata": {},
   "outputs": [],
   "source": [
    "df_list = []\n",
    "for state in states:\n",
    "    census_ar = np.array(census.filter(census.state == state).collect())\n",
    "    temp = df_elig.filter(df_elig.state == state)\n",
    "    labeler = udf(gentrified, IntegerType())\n",
    "    df_list.append(temp.withColumn('gent', labeler('state', 'year', 'GEO_ID', 'per_cap_inc')))"
   ]
  },
  {
   "cell_type": "code",
   "execution_count": 35,
   "metadata": {},
   "outputs": [
    {
     "data": {
      "text/plain": [
       "[DataFrame[GEO_ID: string, NAME: string, state: int, county: int, tract: int, year: int, ed_total: double, ed_fem: double, ed_male: double, trans_solo: double, trans_pool: double, trans_public: double, trans_walk: double, trans_remote: double, perc_white: double, perc_black: double, med_hous_inc: int, per_cap_inc: int, med_age: double, population: int, gent: int],\n",
       " DataFrame[GEO_ID: string, NAME: string, state: int, county: int, tract: int, year: int, ed_total: double, ed_fem: double, ed_male: double, trans_solo: double, trans_pool: double, trans_public: double, trans_walk: double, trans_remote: double, perc_white: double, perc_black: double, med_hous_inc: int, per_cap_inc: int, med_age: double, population: int, gent: int]]"
      ]
     },
     "execution_count": 35,
     "metadata": {},
     "output_type": "execute_result"
    }
   ],
   "source": [
    "df_list"
   ]
  },
  {
   "cell_type": "code",
   "execution_count": 36,
   "metadata": {},
   "outputs": [],
   "source": [
    "for ix, df in enumerate(df_list):\n",
    "    if ix == 0:\n",
    "        df_model = df\n",
    "    else:\n",
    "        df_model = df_model.union(df)"
   ]
  },
  {
   "cell_type": "code",
   "execution_count": 37,
   "metadata": {},
   "outputs": [
    {
     "name": "stdout",
     "output_type": "stream",
     "text": [
      "root\n",
      " |-- GEO_ID: string (nullable = true)\n",
      " |-- NAME: string (nullable = true)\n",
      " |-- state: integer (nullable = true)\n",
      " |-- county: integer (nullable = true)\n",
      " |-- tract: integer (nullable = true)\n",
      " |-- year: integer (nullable = true)\n",
      " |-- ed_total: double (nullable = true)\n",
      " |-- ed_fem: double (nullable = true)\n",
      " |-- ed_male: double (nullable = true)\n",
      " |-- trans_solo: double (nullable = true)\n",
      " |-- trans_pool: double (nullable = true)\n",
      " |-- trans_public: double (nullable = true)\n",
      " |-- trans_walk: double (nullable = true)\n",
      " |-- trans_remote: double (nullable = true)\n",
      " |-- perc_white: double (nullable = true)\n",
      " |-- perc_black: double (nullable = true)\n",
      " |-- med_hous_inc: integer (nullable = true)\n",
      " |-- per_cap_inc: integer (nullable = true)\n",
      " |-- med_age: double (nullable = true)\n",
      " |-- population: integer (nullable = true)\n",
      " |-- gent: integer (nullable = true)\n",
      "\n"
     ]
    }
   ],
   "source": [
    "df_model.printSchema()"
   ]
  },
  {
   "cell_type": "code",
   "execution_count": 38,
   "metadata": {},
   "outputs": [
    {
     "data": {
      "text/plain": [
       "7672"
      ]
     },
     "execution_count": 38,
     "metadata": {},
     "output_type": "execute_result"
    }
   ],
   "source": [
    "df_model.count()"
   ]
  },
  {
   "cell_type": "code",
   "execution_count": 39,
   "metadata": {},
   "outputs": [
    {
     "data": {
      "text/plain": [
       "2224"
      ]
     },
     "execution_count": 39,
     "metadata": {},
     "output_type": "execute_result"
    }
   ],
   "source": [
    "df_model.filter(df_model.gent == 1).count()"
   ]
  },
  {
   "cell_type": "code",
   "execution_count": 41,
   "metadata": {},
   "outputs": [],
   "source": [
    "geo = spark.read.option('header', True).csv('data/geo*')"
   ]
  },
  {
   "cell_type": "code",
   "execution_count": 42,
   "metadata": {},
   "outputs": [
    {
     "name": "stdout",
     "output_type": "stream",
     "text": [
      "+---------+----------+---------+-----------+------+------------------+-------+----------+--------+--------+-----------+------------+\n",
      "|STATEFP10|COUNTYFP10|TRACTCE10|    GEOID10|NAME10|        NAMELSAD10|MTFCC10|FUNCSTAT10| ALAND10|AWATER10| INTPTLAT10|  INTPTLON10|\n",
      "+---------+----------+---------+-----------+------+------------------+-------+----------+--------+--------+-----------+------------+\n",
      "|       06|       083|   002103|06083002103| 21.03|Census Tract 21.03|  G5020|         S| 2838200|    7603|+34.9306689|-120.4270588|\n",
      "|       06|       083|   002402|06083002402| 24.02|Census Tract 24.02|  G5020|         S|16288573|   44468|+34.9287963|-120.4780833|\n",
      "|       06|       083|   002102|06083002102| 21.02|Census Tract 21.02|  G5020|         S| 1352551|       0|+34.9421111|-120.4267767|\n",
      "|       06|       083|   002010|06083002010| 20.10|Census Tract 20.10|  G5020|         S| 2417990|       0|+34.8714281|-120.4100285|\n",
      "|       06|       083|   002009|06083002009| 20.09|Census Tract 20.09|  G5020|         S| 2603281|       0|+34.8722878|-120.4277159|\n",
      "+---------+----------+---------+-----------+------+------------------+-------+----------+--------+--------+-----------+------------+\n",
      "only showing top 5 rows\n",
      "\n"
     ]
    }
   ],
   "source": [
    "geo.show(5)"
   ]
  },
  {
   "cell_type": "code",
   "execution_count": 43,
   "metadata": {},
   "outputs": [
    {
     "name": "stdout",
     "output_type": "stream",
     "text": [
      "root\n",
      " |-- STATEFP10: string (nullable = true)\n",
      " |-- COUNTYFP10: string (nullable = true)\n",
      " |-- TRACTCE10: string (nullable = true)\n",
      " |-- GEOID10: string (nullable = true)\n",
      " |-- NAME10: string (nullable = true)\n",
      " |-- NAMELSAD10: string (nullable = true)\n",
      " |-- MTFCC10: string (nullable = true)\n",
      " |-- FUNCSTAT10: string (nullable = true)\n",
      " |-- ALAND10: string (nullable = true)\n",
      " |-- AWATER10: string (nullable = true)\n",
      " |-- INTPTLAT10: string (nullable = true)\n",
      " |-- INTPTLON10: string (nullable = true)\n",
      "\n"
     ]
    }
   ],
   "source": [
    "geo.printSchema()"
   ]
  },
  {
   "cell_type": "code",
   "execution_count": 44,
   "metadata": {},
   "outputs": [
    {
     "data": {
      "text/plain": [
       "12976"
      ]
     },
     "execution_count": 44,
     "metadata": {},
     "output_type": "execute_result"
    }
   ],
   "source": [
    "geo.count()"
   ]
  },
  {
   "cell_type": "code",
   "execution_count": 45,
   "metadata": {},
   "outputs": [
    {
     "name": "stdout",
     "output_type": "stream",
     "text": [
      "root\n",
      " |-- GEO_ID: string (nullable = true)\n",
      " |-- NAME: string (nullable = true)\n",
      " |-- state: integer (nullable = true)\n",
      " |-- county: integer (nullable = true)\n",
      " |-- tract: integer (nullable = true)\n",
      " |-- year: integer (nullable = true)\n",
      " |-- ed_total: double (nullable = true)\n",
      " |-- ed_fem: double (nullable = true)\n",
      " |-- ed_male: double (nullable = true)\n",
      " |-- trans_solo: double (nullable = true)\n",
      " |-- trans_pool: double (nullable = true)\n",
      " |-- trans_public: double (nullable = true)\n",
      " |-- trans_walk: double (nullable = true)\n",
      " |-- trans_remote: double (nullable = true)\n",
      " |-- perc_white: double (nullable = true)\n",
      " |-- perc_black: double (nullable = true)\n",
      " |-- med_hous_inc: integer (nullable = true)\n",
      " |-- per_cap_inc: integer (nullable = true)\n",
      " |-- med_age: double (nullable = true)\n",
      " |-- population: integer (nullable = true)\n",
      " |-- gent: integer (nullable = true)\n",
      "\n"
     ]
    }
   ],
   "source": [
    "df_model.printSchema()"
   ]
  },
  {
   "cell_type": "code",
   "execution_count": 46,
   "metadata": {},
   "outputs": [],
   "source": [
    "df_model = df_model.join(geo.select(['GEOID10', 'INTPTLAT10', 'INTPTLON10', 'ALAND10']), df_model.GEO_ID == geo.GEOID10, how='left')"
   ]
  },
  {
   "cell_type": "code",
   "execution_count": 47,
   "metadata": {},
   "outputs": [
    {
     "name": "stdout",
     "output_type": "stream",
     "text": [
      "root\n",
      " |-- GEO_ID: string (nullable = true)\n",
      " |-- NAME: string (nullable = true)\n",
      " |-- state: integer (nullable = true)\n",
      " |-- county: integer (nullable = true)\n",
      " |-- tract: integer (nullable = true)\n",
      " |-- year: integer (nullable = true)\n",
      " |-- ed_total: double (nullable = true)\n",
      " |-- ed_fem: double (nullable = true)\n",
      " |-- ed_male: double (nullable = true)\n",
      " |-- trans_solo: double (nullable = true)\n",
      " |-- trans_pool: double (nullable = true)\n",
      " |-- trans_public: double (nullable = true)\n",
      " |-- trans_walk: double (nullable = true)\n",
      " |-- trans_remote: double (nullable = true)\n",
      " |-- perc_white: double (nullable = true)\n",
      " |-- perc_black: double (nullable = true)\n",
      " |-- med_hous_inc: integer (nullable = true)\n",
      " |-- per_cap_inc: integer (nullable = true)\n",
      " |-- med_age: double (nullable = true)\n",
      " |-- population: integer (nullable = true)\n",
      " |-- gent: integer (nullable = true)\n",
      " |-- GEOID10: string (nullable = true)\n",
      " |-- INTPTLAT10: string (nullable = true)\n",
      " |-- INTPTLON10: string (nullable = true)\n",
      " |-- ALAND10: string (nullable = true)\n",
      "\n"
     ]
    }
   ],
   "source": [
    "df_model.printSchema()"
   ]
  },
  {
   "cell_type": "code",
   "execution_count": 48,
   "metadata": {},
   "outputs": [
    {
     "data": {
      "text/plain": [
       "114935"
      ]
     },
     "execution_count": 48,
     "metadata": {},
     "output_type": "execute_result"
    }
   ],
   "source": [
    "census.count()"
   ]
  },
  {
   "cell_type": "code",
   "execution_count": 49,
   "metadata": {},
   "outputs": [
    {
     "name": "stdout",
     "output_type": "stream",
     "text": [
      "root\n",
      " |-- GEO_ID: string (nullable = true)\n",
      " |-- NAME: string (nullable = true)\n",
      " |-- state: integer (nullable = true)\n",
      " |-- county: integer (nullable = true)\n",
      " |-- tract: integer (nullable = true)\n",
      " |-- year: integer (nullable = true)\n",
      " |-- ed_total: double (nullable = true)\n",
      " |-- ed_fem: double (nullable = true)\n",
      " |-- ed_male: double (nullable = true)\n",
      " |-- trans_solo: double (nullable = true)\n",
      " |-- trans_pool: double (nullable = true)\n",
      " |-- trans_public: double (nullable = true)\n",
      " |-- trans_walk: double (nullable = true)\n",
      " |-- trans_remote: double (nullable = true)\n",
      " |-- perc_white: double (nullable = true)\n",
      " |-- perc_black: double (nullable = true)\n",
      " |-- med_hous_inc: integer (nullable = true)\n",
      " |-- per_cap_inc: integer (nullable = true)\n",
      " |-- med_age: double (nullable = true)\n",
      " |-- population: integer (nullable = true)\n",
      "\n"
     ]
    }
   ],
   "source": [
    "census.printSchema()"
   ]
  },
  {
   "cell_type": "code",
   "execution_count": 50,
   "metadata": {},
   "outputs": [],
   "source": [
    "census = census.join(geo.select(['GEOID10', 'INTPTLAT10', 'INTPTLON10', 'ALAND10']), census.GEO_ID == geo.GEOID10, how='left')"
   ]
  },
  {
   "cell_type": "code",
   "execution_count": 51,
   "metadata": {},
   "outputs": [
    {
     "data": {
      "text/plain": [
       "114935"
      ]
     },
     "execution_count": 51,
     "metadata": {},
     "output_type": "execute_result"
    }
   ],
   "source": [
    "census.count()"
   ]
  },
  {
   "cell_type": "code",
   "execution_count": 52,
   "metadata": {},
   "outputs": [
    {
     "name": "stdout",
     "output_type": "stream",
     "text": [
      "root\n",
      " |-- GEO_ID: string (nullable = true)\n",
      " |-- NAME: string (nullable = true)\n",
      " |-- state: integer (nullable = true)\n",
      " |-- county: integer (nullable = true)\n",
      " |-- tract: integer (nullable = true)\n",
      " |-- year: integer (nullable = true)\n",
      " |-- ed_total: double (nullable = true)\n",
      " |-- ed_fem: double (nullable = true)\n",
      " |-- ed_male: double (nullable = true)\n",
      " |-- trans_solo: double (nullable = true)\n",
      " |-- trans_pool: double (nullable = true)\n",
      " |-- trans_public: double (nullable = true)\n",
      " |-- trans_walk: double (nullable = true)\n",
      " |-- trans_remote: double (nullable = true)\n",
      " |-- perc_white: double (nullable = true)\n",
      " |-- perc_black: double (nullable = true)\n",
      " |-- med_hous_inc: integer (nullable = true)\n",
      " |-- per_cap_inc: integer (nullable = true)\n",
      " |-- med_age: double (nullable = true)\n",
      " |-- population: integer (nullable = true)\n",
      " |-- GEOID10: string (nullable = true)\n",
      " |-- INTPTLAT10: string (nullable = true)\n",
      " |-- INTPTLON10: string (nullable = true)\n",
      " |-- ALAND10: string (nullable = true)\n",
      "\n"
     ]
    }
   ],
   "source": [
    "census.printSchema()"
   ]
  },
  {
   "cell_type": "code",
   "execution_count": 53,
   "metadata": {},
   "outputs": [
    {
     "data": {
      "text/plain": [
       "7672"
      ]
     },
     "execution_count": 53,
     "metadata": {},
     "output_type": "execute_result"
    }
   ],
   "source": [
    "df_model.count()"
   ]
  },
  {
   "cell_type": "code",
   "execution_count": 54,
   "metadata": {},
   "outputs": [],
   "source": [
    "census = census.na.drop()\n",
    "df_model = df_model.na.drop()"
   ]
  },
  {
   "cell_type": "code",
   "execution_count": 55,
   "metadata": {},
   "outputs": [],
   "source": [
    "from pyspark.sql.types import *"
   ]
  },
  {
   "cell_type": "code",
   "execution_count": 56,
   "metadata": {},
   "outputs": [],
   "source": [
    "census = census.withColumn('INTPTLAT10', census.INTPTLAT10.cast(FloatType()))\n",
    "census = census.withColumn('INTPTLON10', census.INTPTLON10.cast(FloatType()))\n",
    "census = census.withColumn('ALAND10', census.ALAND10.cast(IntegerType()))\n"
   ]
  },
  {
   "cell_type": "code",
   "execution_count": 57,
   "metadata": {},
   "outputs": [],
   "source": [
    "df_model = df_model.withColumn('INTPTLAT10', df_model.INTPTLAT10.cast(FloatType()))\n",
    "df_model = df_model.withColumn('INTPTLON10', df_model.INTPTLON10.cast(FloatType()))\n",
    "df_model = df_model.withColumn('ALAND10', df_model.ALAND10.cast(IntegerType()))"
   ]
  },
  {
   "cell_type": "code",
   "execution_count": 58,
   "metadata": {},
   "outputs": [
    {
     "name": "stdout",
     "output_type": "stream",
     "text": [
      "root\n",
      " |-- GEO_ID: string (nullable = true)\n",
      " |-- NAME: string (nullable = true)\n",
      " |-- state: integer (nullable = true)\n",
      " |-- county: integer (nullable = true)\n",
      " |-- tract: integer (nullable = true)\n",
      " |-- year: integer (nullable = true)\n",
      " |-- ed_total: double (nullable = true)\n",
      " |-- ed_fem: double (nullable = true)\n",
      " |-- ed_male: double (nullable = true)\n",
      " |-- trans_solo: double (nullable = true)\n",
      " |-- trans_pool: double (nullable = true)\n",
      " |-- trans_public: double (nullable = true)\n",
      " |-- trans_walk: double (nullable = true)\n",
      " |-- trans_remote: double (nullable = true)\n",
      " |-- perc_white: double (nullable = true)\n",
      " |-- perc_black: double (nullable = true)\n",
      " |-- med_hous_inc: integer (nullable = true)\n",
      " |-- per_cap_inc: integer (nullable = true)\n",
      " |-- med_age: double (nullable = true)\n",
      " |-- population: integer (nullable = true)\n",
      " |-- gent: integer (nullable = true)\n",
      " |-- GEOID10: string (nullable = true)\n",
      " |-- INTPTLAT10: float (nullable = true)\n",
      " |-- INTPTLON10: float (nullable = true)\n",
      " |-- ALAND10: integer (nullable = true)\n",
      "\n"
     ]
    }
   ],
   "source": [
    "df_model.printSchema()"
   ]
  },
  {
   "cell_type": "code",
   "execution_count": 59,
   "metadata": {},
   "outputs": [],
   "source": [
    "def tract_dist(lat1, long1, lat2, long2):\n",
    "    '''\n",
    "    \n",
    "\n",
    "    Parameters\n",
    "    ----------\n",
    "    lat1 : float\n",
    "        Internal latitude for first tract\n",
    "    long1 : float\n",
    "        Internal longitude for first tract\n",
    "    lat2 : float\n",
    "        Internal latitude for second tract\n",
    "    long2 : float\n",
    "        Internal longitude for second tract\n",
    "\n",
    "    Returns\n",
    "    -------\n",
    "    float\n",
    "        Euclidean distance between both tracts' internal points\n",
    "\n",
    "    '''\n",
    "    return np.sqrt((lat1 - lat2)**2 + (long1- long2)**2)"
   ]
  },
  {
   "cell_type": "code",
   "execution_count": 60,
   "metadata": {},
   "outputs": [
    {
     "name": "stdout",
     "output_type": "stream",
     "text": [
      "root\n",
      " |-- GEO_ID: string (nullable = true)\n",
      " |-- NAME: string (nullable = true)\n",
      " |-- state: integer (nullable = true)\n",
      " |-- county: integer (nullable = true)\n",
      " |-- tract: integer (nullable = true)\n",
      " |-- year: integer (nullable = true)\n",
      " |-- ed_total: double (nullable = true)\n",
      " |-- ed_fem: double (nullable = true)\n",
      " |-- ed_male: double (nullable = true)\n",
      " |-- trans_solo: double (nullable = true)\n",
      " |-- trans_pool: double (nullable = true)\n",
      " |-- trans_public: double (nullable = true)\n",
      " |-- trans_walk: double (nullable = true)\n",
      " |-- trans_remote: double (nullable = true)\n",
      " |-- perc_white: double (nullable = true)\n",
      " |-- perc_black: double (nullable = true)\n",
      " |-- med_hous_inc: integer (nullable = true)\n",
      " |-- per_cap_inc: integer (nullable = true)\n",
      " |-- med_age: double (nullable = true)\n",
      " |-- population: integer (nullable = true)\n",
      " |-- GEOID10: string (nullable = true)\n",
      " |-- INTPTLAT10: float (nullable = true)\n",
      " |-- INTPTLON10: float (nullable = true)\n",
      " |-- ALAND10: integer (nullable = true)\n",
      "\n"
     ]
    }
   ],
   "source": [
    "census.printSchema()"
   ]
  },
  {
   "cell_type": "code",
   "execution_count": 61,
   "metadata": {},
   "outputs": [],
   "source": [
    "geo_array = np.array(census.select(['GEOID10', 'INTPTLAT10', 'INTPTLON10', 'year']).collect())"
   ]
  },
  {
   "cell_type": "code",
   "execution_count": 62,
   "metadata": {},
   "outputs": [
    {
     "data": {
      "text/plain": [
       "str"
      ]
     },
     "execution_count": 62,
     "metadata": {},
     "output_type": "execute_result"
    }
   ],
   "source": [
    "type(str(geo_array[0,0]))"
   ]
  },
  {
   "cell_type": "code",
   "execution_count": 63,
   "metadata": {},
   "outputs": [
    {
     "data": {
      "text/plain": [
       "37.34346389770508"
      ]
     },
     "execution_count": 63,
     "metadata": {},
     "output_type": "execute_result"
    }
   ],
   "source": [
    "float(geo_array[0, 1])"
   ]
  },
  {
   "cell_type": "code",
   "execution_count": 64,
   "metadata": {},
   "outputs": [
    {
     "data": {
      "text/plain": [
       "2018"
      ]
     },
     "execution_count": 64,
     "metadata": {},
     "output_type": "execute_result"
    }
   ],
   "source": [
    "int(geo_array[0, 3])"
   ]
  },
  {
   "cell_type": "code",
   "execution_count": 65,
   "metadata": {},
   "outputs": [],
   "source": [
    "def neighbors(geo_id, lat, lon, year):\n",
    "    \n",
    "    distances = []\n",
    "    \n",
    "    for geo_id2, lat2, lon2, year2 in geo_array:\n",
    "        if int(year2) == year:\n",
    "            distances.append((geo_id2, tract_dist(lat, lon, float(lat2), float(lon2))))\n",
    "            \n",
    "    distances.sort(key = lambda x: x[1])\n",
    "    return str(distances[n+1][0])\n",
    "    "
   ]
  },
  {
   "cell_type": "code",
   "execution_count": 67,
   "metadata": {},
   "outputs": [],
   "source": [
    "num_neighbors = 2"
   ]
  },
  {
   "cell_type": "code",
   "execution_count": 68,
   "metadata": {},
   "outputs": [
    {
     "data": {
      "text/plain": [
       "[0, 1]"
      ]
     },
     "execution_count": 68,
     "metadata": {},
     "output_type": "execute_result"
    }
   ],
   "source": [
    "list(range(num_neighbors))"
   ]
  },
  {
   "cell_type": "code",
   "execution_count": 69,
   "metadata": {},
   "outputs": [],
   "source": [
    "for n in range(num_neighbors):\n",
    "\n",
    "    df_list = []\n",
    "    for state in states:\n",
    "        geo_array = np.array(census.filter(census.state == state).select(['GEOID10', 'INTPTLAT10', 'INTPTLON10', 'year']).collect())\n",
    "        temp = df_model.filter(df_model.state == state)\n",
    "        neighbor_function = udf(neighbors, StringType())\n",
    "        df_list.append(temp.withColumn('neighbor'+str(n), neighbor_function('GEO_ID', 'INTPTLAT10', 'INTPTLON10', 'year')))\n",
    "\n",
    "    for ix, dfc in enumerate(df_list):\n",
    "        if ix == 0:\n",
    "            df_model = dfc\n",
    "        else:\n",
    "            df_model = df_model.union(dfc)"
   ]
  },
  {
   "cell_type": "code",
   "execution_count": 70,
   "metadata": {},
   "outputs": [
    {
     "name": "stdout",
     "output_type": "stream",
     "text": [
      "root\n",
      " |-- GEO_ID: string (nullable = true)\n",
      " |-- NAME: string (nullable = true)\n",
      " |-- state: integer (nullable = true)\n",
      " |-- county: integer (nullable = true)\n",
      " |-- tract: integer (nullable = true)\n",
      " |-- year: integer (nullable = true)\n",
      " |-- ed_total: double (nullable = true)\n",
      " |-- ed_fem: double (nullable = true)\n",
      " |-- ed_male: double (nullable = true)\n",
      " |-- trans_solo: double (nullable = true)\n",
      " |-- trans_pool: double (nullable = true)\n",
      " |-- trans_public: double (nullable = true)\n",
      " |-- trans_walk: double (nullable = true)\n",
      " |-- trans_remote: double (nullable = true)\n",
      " |-- perc_white: double (nullable = true)\n",
      " |-- perc_black: double (nullable = true)\n",
      " |-- med_hous_inc: integer (nullable = true)\n",
      " |-- per_cap_inc: integer (nullable = true)\n",
      " |-- med_age: double (nullable = true)\n",
      " |-- population: integer (nullable = true)\n",
      " |-- gent: integer (nullable = true)\n",
      " |-- GEOID10: string (nullable = true)\n",
      " |-- INTPTLAT10: float (nullable = true)\n",
      " |-- INTPTLON10: float (nullable = true)\n",
      " |-- ALAND10: integer (nullable = true)\n",
      " |-- neighbor0: string (nullable = true)\n",
      " |-- neighbor1: string (nullable = true)\n",
      "\n"
     ]
    }
   ],
   "source": [
    "df_model.printSchema()"
   ]
  },
  {
   "cell_type": "code",
   "execution_count": 71,
   "metadata": {},
   "outputs": [
    {
     "name": "stdout",
     "output_type": "stream",
     "text": [
      "+-----------+--------------------+-----+------+------+----+--------------------+--------------------+--------------------+-------------------+--------------------+-------------------+--------------------+--------------------+-------------------+-------------------+------------+-----------+-------+----------+----+-----------+----------+-----------+-------+-----------+-----------+\n",
      "|     GEO_ID|                NAME|state|county| tract|year|            ed_total|              ed_fem|             ed_male|         trans_solo|          trans_pool|       trans_public|          trans_walk|        trans_remote|         perc_white|         perc_black|med_hous_inc|per_cap_inc|med_age|population|gent|    GEOID10|INTPTLAT10| INTPTLON10|ALAND10|  neighbor0|  neighbor1|\n",
      "+-----------+--------------------+-----+------+------+----+--------------------+--------------------+--------------------+-------------------+--------------------+-------------------+--------------------+--------------------+-------------------+-------------------+------------+-----------+-------+----------+----+-----------+----------+-----------+-------+-----------+-----------+\n",
      "|06001401400|Census Tract 4014...|    6|     1|401400|2013|  0.1557570977917981| 0.17587939698492464| 0.13123359580052493|  0.470846394984326|0.021316614420062698|0.25579937304075234| 0.10219435736677115| 0.03322884012539185| 0.2894009216589862| 0.4382488479262673|       28264|      13875|   30.6|      4340|   0|06001401400|  37.82074| -122.27338| 755873|06001401300|06001401500|\n",
      "|06001401800|Census Tract 4018...|    6|     1|401800|2013| 0.29619805481874445|   0.296137339055794|  0.2962962962962963|0.41388518024032045|  0.0787716955941255|0.31108144192256343| 0.02403204272363151|  0.1041388518024032|           0.328125| 0.5326704545454546|       30449|      15119|   25.6|      2112|   1|06001401800| 37.809532| -122.29823| 298697|06001402200|06001410500|\n",
      "|06001402400|Census Tract 4024...|    6|     1|402400|2013|  0.1287228672387683| 0.16651162790697674| 0.08388520971302428| 0.3942857142857143| 0.03314285714285714| 0.4948571428571429|0.029714285714285714|0.030857142857142857|0.08384392131570462| 0.7326668816510803|       24818|      13270|   33.6|      3101|   1|06001402400|  37.81203|-122.282455| 337079|06001401600|06001402700|\n",
      "|06001402500|Census Tract 4025...|    6|     1|402500|2013| 0.13253012048192772| 0.08005822416302766| 0.22448979591836735|  0.543884892086331|0.034532374100719423| 0.1841726618705036| 0.08057553956834532| 0.14244604316546763|  0.140177690029615| 0.6658440276406713|       21974|      13802|   25.8|      2026|   0|06001402500|  37.80573| -122.28478| 365457|06001402600|06001410500|\n",
      "|06001402600|Census Tract 4026...|    6|     1|402600|2013| 0.32582938388625593| 0.28540305010893247| 0.37402597402597404| 0.3888888888888889| 0.08585858585858586| 0.3560606060606061|0.012626262626262626| 0.15656565656565657|0.14973821989528796|0.24921465968586387|       21250|      26297|   53.0|       955|   0|06001402600|  37.80427| -122.27995| 318724|06001403100|06001402500|\n",
      "|06001402700|Census Tract 4027...|    6|     1|402700|2013|  0.2483720930232558| 0.30033003300330036|  0.1812366737739872|0.37347767253044656| 0.09742895805142084|0.31799729364005414| 0.12043301759133965| 0.05412719891745602|0.33480732785849654| 0.5887555274794694|       22875|      22598|   33.8|      1583|   1|06001402700| 37.810387| -122.27699| 398775|06001402400|06001402800|\n",
      "|06001402800|Census Tract 4028...|    6|     1|402800|2013|  0.3224679860302678|  0.3225806451612903| 0.32239001969796455| 0.3076923076923077| 0.08436724565756824|0.38626964433416044|  0.1273779983457403| 0.07526881720430108|  0.290407358738502|0.44152431011826543|       19896|      28818|   45.1|      3044|   1|06001402800|  37.80872|  -122.2715| 398356|06001402900|06001402700|\n",
      "|06001402900|Census Tract 4029...|    6|     1|402900|2013| 0.33426443202979517|  0.2951127819548872|  0.3726937269372694| 0.2508591065292096|  0.1013745704467354|0.43986254295532645| 0.13573883161512026| 0.06357388316151202| 0.2942583732057416|0.14752791068580542|       23302|      21887|   40.9|      1254|   1|06001402900|  37.80715| -122.26681| 389352|06001402800|06001403400|\n",
      "|06001403000|Census Tract 4030...|    6|     1|403000|2013| 0.26252408477842004|  0.2082994304312449|  0.3412042502951594|0.31444759206798867|  0.0708215297450425|0.17988668555240794| 0.40226628895184136|0.019830028328611898|0.07643581081081081|0.03927364864864865|       16680|      20427|   63.3|      2368|   0|06001403000| 37.800426| -122.27073| 353294|06001403100|06001403300|\n",
      "|06001405401|Census Tract 4054...|    6|     1|405401|2013| 0.17310344827586208| 0.21753246753246752| 0.12279411764705882| 0.5762286860581746| 0.11584754262788365| 0.1945837512537613| 0.00802407221664995| 0.03510531594784353|0.20419103313840156| 0.2107699805068226|       28813|      18918|   33.4|      4104|   1|06001405401|  37.79654| -122.24946| 313929|06001405402|06001405302|\n",
      "|06001405402|Census Tract 4054...|    6|     1|405402|2013| 0.14271255060728744|  0.2346193952033368| 0.05604719764011799| 0.5349025974025974| 0.08116883116883117| 0.2435064935064935|0.030844155844155844|0.021103896103896104| 0.2310593075077134| 0.1998628728145355|       26675|      14975|   35.9|      2917|   0|06001405402|  37.79333|  -122.2461| 285369|06001405401|06001405902|\n",
      "|06001406000|Census Tract 4060...|    6|     1|406000|2013| 0.25130662020905925| 0.24328859060402686|   0.259963768115942| 0.4396493594066082|  0.1260957518543493|0.26972353337828725| 0.06743088334457181|0.037761294672960216|0.20488098824947273|0.18379029828261526|       19667|      22814|   36.9|      3319|   0|06001406000| 37.787567|-122.246185|2114682|06001405402|06001405902|\n",
      "|06001406201|Census Tract 4062...|    6|     1|406201|2013| 0.16705790297339593|  0.1864406779661017| 0.14882308276385725| 0.5144437615242778|  0.1333743085433313|0.23786109403810696|  0.0430239704978488| 0.03318992009834051| 0.3178544822448473| 0.1750682890489198|       30325|      14244|   32.0|      4027|   0|06001406201| 37.785046|-122.230736| 408075|06001406202|06001405901|\n",
      "|06001406202|Census Tract 4062...|    6|     1|406202|2013| 0.16732780382257484| 0.20833333333333334| 0.13492575855390573|  0.415273132664437| 0.15328874024526198| 0.2915273132664437| 0.01560758082497213| 0.04180602006688963| 0.4260180995475113|0.10950226244343891|       29145|      12515|   30.3|      4420|   0|06001406202|  37.78198|-122.226555| 392184|06001406201|06001406300|\n",
      "|06001407101|Census Tract 4071...|    6|     1|407101|2013| 0.08915441176470588| 0.12010443864229765|0.054527750730282376| 0.5010351966873706| 0.20358868184955142|0.21670117322291235| 0.01932367149758454| 0.05935127674258109| 0.4383561643835616|0.11630405586892291|       29680|      13191|   31.1|      3723|   1|06001407101| 37.783127| -122.21439| 370838|06001407102|06001406500|\n",
      "|06001407500|Census Tract 4075...|    6|     1|407500|2013| 0.07719654647028949|0.038317757009345796| 0.12347052280311457| 0.5161887141535615|  0.1211840888066605|0.20074005550416282|0.013876040703052728| 0.11008325624421832|0.16063596491228072|0.39281798245614036|       20320|      11939|   28.1|      3648|   0|06001407500| 37.769516| -122.19761| 494510|06001407700|06001408700|\n",
      "|06001408400|Census Tract 4084...|    6|     1|408400|2013| 0.09426038264115726| 0.12554872695346794| 0.05876494023904383| 0.4290375203915171|  0.1802610114192496|0.28792822185970635|                 0.0| 0.10277324632952692|0.19507575757575757|0.48944805194805197|       25429|      12850|   32.5|      3696|   1|06001408400| 37.764606| -122.17096| 542660|06001408500|06001408300|\n",
      "|06001408600|Census Tract 4086...|    6|     1|408600|2013| 0.07016060862214708| 0.05501618122977346| 0.08672566371681416| 0.7131669114047968| 0.10670582476749878|0.09740577581987274| 0.00881057268722467| 0.00881057268722467|0.25295508274231676| 0.4371833839918946|       31133|      14309|   33.8|      5922|   0|06001408600| 37.766197|-122.182304|1061057|06001408500|06001408700|\n",
      "|06001408800|Census Tract 4088...|    6|     1|408800|2013|0.040697674418604654|0.029258098223615466|  0.0568685376661743| 0.5273833671399595|  0.2332657200811359|  0.140973630831643|0.011156186612576065|0.001014198782961...|0.23623559539052497|0.38204225352112675|       23704|      10875|   25.7|      6248|   0|06001408800| 37.758804|-122.196945|1204352|06001408900|06001407500|\n",
      "|06001408900|Census Tract 4089...|    6|     1|408900|2013|0.016592920353982302|0.013590033975084938| 0.01945945945945946| 0.4170755642787046| 0.19234543670264967|0.30520117762512267|0.040235525024533855|0.005888125613346418|0.32578897035384125| 0.3315269365635958|       20907|      10185|   30.0|      3137|   1|06001408900|  37.75418| -122.18878| 802407|06001409500|06001408800|\n",
      "+-----------+--------------------+-----+------+------+----+--------------------+--------------------+--------------------+-------------------+--------------------+-------------------+--------------------+--------------------+-------------------+-------------------+------------+-----------+-------+----------+----+-----------+----------+-----------+-------+-----------+-----------+\n",
      "only showing top 20 rows\n",
      "\n"
     ]
    }
   ],
   "source": [
    "df_model.show()"
   ]
  },
  {
   "cell_type": "code",
   "execution_count": 72,
   "metadata": {},
   "outputs": [
    {
     "data": {
      "text/plain": [
       "7666"
      ]
     },
     "execution_count": 72,
     "metadata": {},
     "output_type": "execute_result"
    }
   ],
   "source": [
    "df_model.count()"
   ]
  },
  {
   "cell_type": "code",
   "execution_count": 73,
   "metadata": {},
   "outputs": [
    {
     "name": "stdout",
     "output_type": "stream",
     "text": [
      "root\n",
      " |-- GEO_ID: string (nullable = true)\n",
      " |-- NAME: string (nullable = true)\n",
      " |-- state: integer (nullable = true)\n",
      " |-- county: integer (nullable = true)\n",
      " |-- tract: integer (nullable = true)\n",
      " |-- year: integer (nullable = true)\n",
      " |-- ed_total: double (nullable = true)\n",
      " |-- ed_fem: double (nullable = true)\n",
      " |-- ed_male: double (nullable = true)\n",
      " |-- trans_solo: double (nullable = true)\n",
      " |-- trans_pool: double (nullable = true)\n",
      " |-- trans_public: double (nullable = true)\n",
      " |-- trans_walk: double (nullable = true)\n",
      " |-- trans_remote: double (nullable = true)\n",
      " |-- perc_white: double (nullable = true)\n",
      " |-- perc_black: double (nullable = true)\n",
      " |-- med_hous_inc: integer (nullable = true)\n",
      " |-- per_cap_inc: integer (nullable = true)\n",
      " |-- med_age: double (nullable = true)\n",
      " |-- population: integer (nullable = true)\n",
      " |-- gent: integer (nullable = true)\n",
      " |-- GEOID10: string (nullable = true)\n",
      " |-- INTPTLAT10: float (nullable = true)\n",
      " |-- INTPTLON10: float (nullable = true)\n",
      " |-- ALAND10: integer (nullable = true)\n",
      " |-- neighbor0: string (nullable = true)\n",
      " |-- neighbor1: string (nullable = true)\n",
      "\n"
     ]
    }
   ],
   "source": [
    "df_model.printSchema()"
   ]
  },
  {
   "cell_type": "code",
   "execution_count": 74,
   "metadata": {},
   "outputs": [
    {
     "name": "stdout",
     "output_type": "stream",
     "text": [
      "root\n",
      " |-- GEO_ID: string (nullable = true)\n",
      " |-- NAME: string (nullable = true)\n",
      " |-- state: integer (nullable = true)\n",
      " |-- county: integer (nullable = true)\n",
      " |-- tract: integer (nullable = true)\n",
      " |-- year: integer (nullable = true)\n",
      " |-- ed_total: double (nullable = true)\n",
      " |-- ed_fem: double (nullable = true)\n",
      " |-- ed_male: double (nullable = true)\n",
      " |-- trans_solo: double (nullable = true)\n",
      " |-- trans_pool: double (nullable = true)\n",
      " |-- trans_public: double (nullable = true)\n",
      " |-- trans_walk: double (nullable = true)\n",
      " |-- trans_remote: double (nullable = true)\n",
      " |-- perc_white: double (nullable = true)\n",
      " |-- perc_black: double (nullable = true)\n",
      " |-- med_hous_inc: integer (nullable = true)\n",
      " |-- per_cap_inc: integer (nullable = true)\n",
      " |-- med_age: double (nullable = true)\n",
      " |-- population: integer (nullable = true)\n",
      " |-- GEOID10: string (nullable = true)\n",
      " |-- INTPTLAT10: float (nullable = true)\n",
      " |-- INTPTLON10: float (nullable = true)\n",
      " |-- ALAND10: integer (nullable = true)\n",
      "\n"
     ]
    }
   ],
   "source": [
    "census.printSchema()"
   ]
  },
  {
   "cell_type": "code",
   "execution_count": 75,
   "metadata": {},
   "outputs": [],
   "source": [
    "df_merge = census.select(['GEO_ID',\n",
    "                   'year',\n",
    "                   'ed_total',\n",
    "                   'trans_solo',\n",
    "                   'trans_pool',\n",
    "                   'trans_public',\n",
    "                   'trans_walk',\n",
    "                   'trans_remote',\n",
    "                   'perc_white',\n",
    "                   'perc_black',\n",
    "                   'med_hous_inc',\n",
    "                   'per_cap_inc',\n",
    "                   'med_age',\n",
    "                   'population',\n",
    "                   'ALAND10'])"
   ]
  },
  {
   "cell_type": "code",
   "execution_count": 81,
   "metadata": {},
   "outputs": [],
   "source": [
    "dfj = df_merge.select(col('GEO_ID').alias(str(n)+'_GEO_ID'),\n",
    "                               col('year').alias(str(n)+'_year'),\n",
    "                               col('ed_total').alias(str(n)+'_ed_total'),\n",
    "                               col('trans_solo').alias(str(n)+'_trans_solo'),\n",
    "                               col('trans_pool').alias(str(n)+'_trans_pool'),\n",
    "                               col('trans_public').alias(str(n)+'_trans_public'),\n",
    "                               col('trans_walk').alias(str(n)+'_trans_walk'),\n",
    "                               col('trans_remote').alias(str(n)+'_trans_remote'),\n",
    "                               col('perc_white').alias(str(n)+'_perc_white'),\n",
    "                               col('perc_black').alias(str(n)+'_perc_black'),\n",
    "                               col('med_hous_inc').alias(str(n)+'_med_house_inc'),\n",
    "                               col('per_cap_inc').alias(str(n)+'_per_cap_inc'),\n",
    "                               col('med_age').alias(str(n)+'_med_age'),\n",
    "                               col('population').alias(str(n)+'_population'),\n",
    "                               col('ALAND10').alias(str(n)+'_land_area'))"
   ]
  },
  {
   "cell_type": "code",
   "execution_count": 82,
   "metadata": {},
   "outputs": [
    {
     "data": {
      "text/plain": [
       "114824"
      ]
     },
     "execution_count": 82,
     "metadata": {},
     "output_type": "execute_result"
    }
   ],
   "source": [
    "dfj.count()"
   ]
  },
  {
   "cell_type": "code",
   "execution_count": 83,
   "metadata": {},
   "outputs": [
    {
     "data": {
      "text/plain": [
       "7666"
      ]
     },
     "execution_count": 83,
     "metadata": {},
     "output_type": "execute_result"
    }
   ],
   "source": [
    "df_model.count()"
   ]
  },
  {
   "cell_type": "code",
   "execution_count": 84,
   "metadata": {},
   "outputs": [
    {
     "name": "stdout",
     "output_type": "stream",
     "text": [
      "root\n",
      " |-- GEO_ID: string (nullable = true)\n",
      " |-- NAME: string (nullable = true)\n",
      " |-- state: integer (nullable = true)\n",
      " |-- county: integer (nullable = true)\n",
      " |-- tract: integer (nullable = true)\n",
      " |-- year: integer (nullable = true)\n",
      " |-- ed_total: double (nullable = true)\n",
      " |-- ed_fem: double (nullable = true)\n",
      " |-- ed_male: double (nullable = true)\n",
      " |-- trans_solo: double (nullable = true)\n",
      " |-- trans_pool: double (nullable = true)\n",
      " |-- trans_public: double (nullable = true)\n",
      " |-- trans_walk: double (nullable = true)\n",
      " |-- trans_remote: double (nullable = true)\n",
      " |-- perc_white: double (nullable = true)\n",
      " |-- perc_black: double (nullable = true)\n",
      " |-- med_hous_inc: integer (nullable = true)\n",
      " |-- per_cap_inc: integer (nullable = true)\n",
      " |-- med_age: double (nullable = true)\n",
      " |-- population: integer (nullable = true)\n",
      " |-- gent: integer (nullable = true)\n",
      " |-- GEOID10: string (nullable = true)\n",
      " |-- INTPTLAT10: float (nullable = true)\n",
      " |-- INTPTLON10: float (nullable = true)\n",
      " |-- ALAND10: integer (nullable = true)\n",
      " |-- neighbor0: string (nullable = true)\n",
      " |-- neighbor1: string (nullable = true)\n",
      "\n"
     ]
    }
   ],
   "source": [
    "df_model.printSchema()"
   ]
  },
  {
   "cell_type": "code",
   "execution_count": 85,
   "metadata": {},
   "outputs": [
    {
     "name": "stdout",
     "output_type": "stream",
     "text": [
      "root\n",
      " |-- 1_GEO_ID: string (nullable = true)\n",
      " |-- 1_year: integer (nullable = true)\n",
      " |-- 1_ed_total: double (nullable = true)\n",
      " |-- 1_trans_solo: double (nullable = true)\n",
      " |-- 1_trans_pool: double (nullable = true)\n",
      " |-- 1_trans_public: double (nullable = true)\n",
      " |-- 1_trans_walk: double (nullable = true)\n",
      " |-- 1_trans_remote: double (nullable = true)\n",
      " |-- 1_perc_white: double (nullable = true)\n",
      " |-- 1_perc_black: double (nullable = true)\n",
      " |-- 1_med_house_inc: integer (nullable = true)\n",
      " |-- 1_per_cap_inc: integer (nullable = true)\n",
      " |-- 1_med_age: double (nullable = true)\n",
      " |-- 1_population: integer (nullable = true)\n",
      " |-- 1_land_area: integer (nullable = true)\n",
      "\n"
     ]
    }
   ],
   "source": [
    "dfj.printSchema()"
   ]
  },
  {
   "cell_type": "code",
   "execution_count": 86,
   "metadata": {},
   "outputs": [
    {
     "data": {
      "text/plain": [
       "7666"
      ]
     },
     "execution_count": 86,
     "metadata": {},
     "output_type": "execute_result"
    }
   ],
   "source": [
    "df_model.join(dfj, [df_model['neighbor'+str(n)] == dfj[str(n)+'_GEO_ID'], df_model.year == dfj[str(n)+'_year']], how='left').count()"
   ]
  },
  {
   "cell_type": "code",
   "execution_count": 79,
   "metadata": {},
   "outputs": [],
   "source": [
    "for n in range(num_neighbors):\n",
    "    \n",
    "    dfj = df_merge.select(col('GEO_ID').alias(str(n)+'_GEO_ID'),\n",
    "                               col('year').alias(str(n)+'_year'),\n",
    "                               col('ed_total').alias(str(n)+'_ed_total'),\n",
    "                               col('trans_solo').alias(str(n)+'_trans_solo'),\n",
    "                               col('trans_pool').alias(str(n)+'_trans_pool'),\n",
    "                               col('trans_public').alias(str(n)+'_trans_public'),\n",
    "                               col('trans_walk').alias(str(n)+'_trans_walk'),\n",
    "                               col('trans_remote').alias(str(n)+'_trans_remote'),\n",
    "                               col('perc_white').alias(str(n)+'_perc_white'),\n",
    "                               col('perc_black').alias(str(n)+'_perc_black'),\n",
    "                               col('med_hous_inc').alias(str(n)+'_med_house_inc'),\n",
    "                               col('per_cap_inc').alias(str(n)+'_per_cap_inc'),\n",
    "                               col('med_age').alias(str(n)+'_med_age'),\n",
    "                               col('population').alias(str(n)+'_population'),\n",
    "                               col('ALAND10').alias(str(n)+'_land_area'))\n",
    "    \n",
    "    df_model = df_model.join(dfj, (df_model['neighbor'+str(n)] == dfj[str(n)+'_GEO_ID']) & (df_model.year == dfj[str(n)+'_year']), how='left')\n",
    "    "
   ]
  },
  {
   "cell_type": "code",
   "execution_count": 80,
   "metadata": {},
   "outputs": [
    {
     "name": "stdout",
     "output_type": "stream",
     "text": [
      "root\n",
      " |-- GEO_ID: string (nullable = true)\n",
      " |-- NAME: string (nullable = true)\n",
      " |-- state: integer (nullable = true)\n",
      " |-- county: integer (nullable = true)\n",
      " |-- tract: integer (nullable = true)\n",
      " |-- year: integer (nullable = true)\n",
      " |-- ed_total: double (nullable = true)\n",
      " |-- ed_fem: double (nullable = true)\n",
      " |-- ed_male: double (nullable = true)\n",
      " |-- trans_solo: double (nullable = true)\n",
      " |-- trans_pool: double (nullable = true)\n",
      " |-- trans_public: double (nullable = true)\n",
      " |-- trans_walk: double (nullable = true)\n",
      " |-- trans_remote: double (nullable = true)\n",
      " |-- perc_white: double (nullable = true)\n",
      " |-- perc_black: double (nullable = true)\n",
      " |-- med_hous_inc: integer (nullable = true)\n",
      " |-- per_cap_inc: integer (nullable = true)\n",
      " |-- med_age: double (nullable = true)\n",
      " |-- population: integer (nullable = true)\n",
      " |-- gent: integer (nullable = true)\n",
      " |-- GEOID10: string (nullable = true)\n",
      " |-- INTPTLAT10: float (nullable = true)\n",
      " |-- INTPTLON10: float (nullable = true)\n",
      " |-- ALAND10: integer (nullable = true)\n",
      " |-- neighbor0: string (nullable = true)\n",
      " |-- neighbor1: string (nullable = true)\n",
      " |-- 0_GEO_ID: string (nullable = true)\n",
      " |-- 0_year: integer (nullable = true)\n",
      " |-- 0_ed_total: double (nullable = true)\n",
      " |-- 0_trans_solo: double (nullable = true)\n",
      " |-- 0_trans_pool: double (nullable = true)\n",
      " |-- 0_trans_public: double (nullable = true)\n",
      " |-- 0_trans_walk: double (nullable = true)\n",
      " |-- 0_trans_remote: double (nullable = true)\n",
      " |-- 0_perc_white: double (nullable = true)\n",
      " |-- 0_perc_black: double (nullable = true)\n",
      " |-- 0_med_house_inc: integer (nullable = true)\n",
      " |-- 0_per_cap_inc: integer (nullable = true)\n",
      " |-- 0_med_age: double (nullable = true)\n",
      " |-- 0_population: integer (nullable = true)\n",
      " |-- 0_land_area: integer (nullable = true)\n",
      " |-- 1_GEO_ID: string (nullable = true)\n",
      " |-- 1_year: integer (nullable = true)\n",
      " |-- 1_ed_total: double (nullable = true)\n",
      " |-- 1_trans_solo: double (nullable = true)\n",
      " |-- 1_trans_pool: double (nullable = true)\n",
      " |-- 1_trans_public: double (nullable = true)\n",
      " |-- 1_trans_walk: double (nullable = true)\n",
      " |-- 1_trans_remote: double (nullable = true)\n",
      " |-- 1_perc_white: double (nullable = true)\n",
      " |-- 1_perc_black: double (nullable = true)\n",
      " |-- 1_med_house_inc: integer (nullable = true)\n",
      " |-- 1_per_cap_inc: integer (nullable = true)\n",
      " |-- 1_med_age: double (nullable = true)\n",
      " |-- 1_population: integer (nullable = true)\n",
      " |-- 1_land_area: integer (nullable = true)\n",
      "\n"
     ]
    }
   ],
   "source": [
    "df_model.printSchema()"
   ]
  },
  {
   "cell_type": "code",
   "execution_count": 89,
   "metadata": {},
   "outputs": [
    {
     "name": "stdout",
     "output_type": "stream",
     "text": [
      "+-----------+--------------------+-----+------+------+----+--------------------+--------------------+--------------------+-------------------+--------------------+--------------------+--------------------+--------------------+-------------------+--------------------+------------+-----------+-------+----------+----+-----------+----------+-----------+----------+-----------+-----------+-----------+------+-------------------+-------------------+--------------------+--------------------+--------------------+--------------------+-------------------+--------------------+---------------+-------------+---------+------------+-----------+-----------+------+--------------------+-------------------+--------------------+--------------------+--------------------+--------------------+-------------------+--------------------+---------------+-------------+---------+------------+-----------+\n",
      "|     GEO_ID|                NAME|state|county| tract|year|            ed_total|              ed_fem|             ed_male|         trans_solo|          trans_pool|        trans_public|          trans_walk|        trans_remote|         perc_white|          perc_black|med_hous_inc|per_cap_inc|med_age|population|gent|    GEOID10|INTPTLAT10| INTPTLON10|   ALAND10|  neighbor0|  neighbor1|   0_GEO_ID|0_year|         0_ed_total|       0_trans_solo|        0_trans_pool|      0_trans_public|        0_trans_walk|      0_trans_remote|       0_perc_white|        0_perc_black|0_med_house_inc|0_per_cap_inc|0_med_age|0_population|0_land_area|   1_GEO_ID|1_year|          1_ed_total|       1_trans_solo|        1_trans_pool|      1_trans_public|        1_trans_walk|      1_trans_remote|       1_perc_white|        1_perc_black|1_med_house_inc|1_per_cap_inc|1_med_age|1_population|1_land_area|\n",
      "+-----------+--------------------+-----+------+------+----+--------------------+--------------------+--------------------+-------------------+--------------------+--------------------+--------------------+--------------------+-------------------+--------------------+------------+-----------+-------+----------+----+-----------+----------+-----------+----------+-----------+-----------+-----------+------+-------------------+-------------------+--------------------+--------------------+--------------------+--------------------+-------------------+--------------------+---------------+-------------+---------+------------+-----------+-----------+------+--------------------+-------------------+--------------------+--------------------+--------------------+--------------------+-------------------+--------------------+---------------+-------------+---------+------------+-----------+\n",
      "|06001401400|Census Tract 4014...|    6|     1|401400|2014|   0.184655885671305| 0.17165814463111762| 0.19844961240310077| 0.4123917388407728| 0.03264490339773484|  0.2731512325116589| 0.11725516322451698| 0.06928714190539641|0.31673260414242493| 0.44775424714917383|       30023|      14832|   31.3|      4297|   1|06001401400|  37.82074| -122.27338|    755873|06001401300|06001401500|06001401300|  2014|   0.31408276714021| 0.3213213213213213| 0.09509509509509509|  0.3953953953953954|  0.0960960960960961| 0.03053053053053053| 0.3504587155963303| 0.33001310615989515|          36782|        27736|     38.7|        3815|     855628|06001401500|  2014| 0.32947976878612717| 0.4725274725274725| 0.11496196111580727|  0.2485207100591716|0.028740490278951817| 0.07269653423499578| 0.4678554669169404| 0.36320976067573907|          44728|        30185|     36.7|        2131|     467047|\n",
      "|06001401600|Census Tract 4016...|    6|     1|401600|2014|  0.2785714285714286|           0.2671875|  0.2903225806451613|0.49125168236877526|  0.0955585464333782| 0.24764468371467024|0.012113055181695828| 0.07133243606998654|0.31214174048983845|  0.4705575820739969|       31280|      17673|   34.4|      1919|   1|06001401600|  37.81737| -122.28148|    636070|06001402400|06001401500|06001402400|  2014|0.20201484623541888| 0.4187866927592955|0.010763209393346379| 0.30332681017612523| 0.04598825831702544|0.018590998043052837| 0.1904427266338721|  0.5892480674631061|          28606|        16071|     33.1|        2846|     337079|06001401500|  2014| 0.32947976878612717| 0.4725274725274725| 0.11496196111580727|  0.2485207100591716|0.028740490278951817| 0.07269653423499578| 0.4678554669169404| 0.36320976067573907|          44728|        30185|     36.7|        2131|     467047|\n",
      "|06019001500|Census Tract 15, ...|    6|    19|  1500|2012|0.044733044733044736| 0.06070287539936102|0.031578947368421054| 0.5698005698005698| 0.25071225071225073|0.008547008547008548|                 0.0|0.018518518518518517|  0.581081081081081|0.006274131274131274|       23281|      13636|   39.7|      2072|   0|06019001500|   36.6816| -119.71784|  38230909|06019001410|06019001202|06019001410|  2012|0.11648436000767606| 0.6623785020011436| 0.23985134362492852|0.003430531732418525|0.003716409376786...|0.018582046883933678| 0.2718849531898465|0.046617121899430555|          44796|        12838|     25.1|       10361|    7933085|06019001202|  2012|0.027039007092198582| 0.8751914241960184| 0.08575803981623277|0.006125574272588055|                 0.0|                 0.0| 0.3134362756395483| 0.06245678727817469|          33255|        11139|     25.6|        4339|    3401954|\n",
      "|06019001201|Census Tract 12.0...|    6|    19|  1201|2012|0.043647977288857345|0.036414565826330535| 0.05107913669064748| 0.8475452196382429| 0.07855297157622738|0.020155038759689922|                 0.0|0.029974160206718347|0.32724046140195207| 0.07897071872227152|       31047|      11088|   25.0|      5635|   0|06019001201|  36.71075|-119.757774|   5771149|06019001303|06019001202|06019001303|  2012|0.02331390507910075| 0.6398537477148081| 0.14990859232175502|0.031078610603290677|                 0.0|0.009140767824497258| 0.3068356374807988| 0.11712749615975422|          26203|         7842|     21.2|        2604|     643426|06019001202|  2012|0.027039007092198582| 0.8751914241960184| 0.08575803981623277|0.006125574272588055|                 0.0|                 0.0| 0.3134362756395483| 0.06245678727817469|          33255|        11139|     25.6|        4339|    3401954|\n",
      "|06019003201|Census Tract 32.0...|    6|    19|  3201|2013| 0.10541310541310542| 0.08898305084745763|  0.1221264367816092| 0.7503052503052503| 0.13797313797313798|0.004273504273504274|                 0.0|0.052503052503052504| 0.4508534432018835| 0.07651559741024132|       31351|      13103|   28.4|      5097|   0|06019003201| 36.775906| -119.74307|   1635762|06019003202|06019005202|06019003202|  2013|0.08319127173542448| 0.7806094182825485| 0.04265927977839335|  0.0592797783933518|0.020498614958448753| 0.03545706371191136| 0.3879859783301466| 0.08269598470363289|          33517|        11839|     23.5|        6276|    1606188|06019005202|  2013| 0.08471537427162708| 0.7805970149253731| 0.12761194029850748| 0.03805970149253731|0.028358208955223882|0.016417910447761194| 0.3770491803278688| 0.04746758013212626|          26890|        11947|     28.1|        4087|    2972433|\n",
      "|06029006500|Census Tract 65, ...|    6|    29|  6500|2015| 0.06519453207150368|0.046296296296296294| 0.07496012759170653| 0.7371134020618557|  0.2027491408934708|                 0.0| 0.02577319587628866|0.018900343642611683| 0.7627488410144533| 0.08290155440414508|       31302|      13865|   40.6|      3667|   0|06029006500| 35.209896| -117.88187|2031990811|06029005507|06029005508|06029005507|  2015| 0.1520428667113195| 0.8955645161290322|0.036290322580645164|0.008467741935483872|                 0.0|0.038306451612903226| 0.6146545708304256| 0.24884856943475228|          59592|        25231|     36.5|        7165|   15555616|06029005508|  2015| 0.08507670850767085| 0.6791808873720137| 0.21160409556313994|0.005460750853242321|0.010238907849829351| 0.07235494880546076| 0.6515717740162673| 0.14310837546713565|          42694|        20300|     35.1|        4549|  184103308|\n",
      "|06037191203|Census Tract 1912...|    6|    37|191203|2014|  0.2521097046413502| 0.26107445805843543|  0.2407185628742515| 0.4748603351955307| 0.05506783719074222| 0.28012769353551475| 0.11811652035115722| 0.05107741420590583| 0.4327683615819209|0.031261770244821095|       29083|      18377|   37.9|      2655|   0|06037191203| 34.093166| -118.29391|    205208|06037191204|06037191201|06037191204|  2014| 0.2222972972972973|0.48526315789473684| 0.11473684210526315| 0.22631578947368422| 0.07894736842105263| 0.04631578947368421| 0.6715557883708748|0.045049764274489264|          33272|        18843|     40.4|        1909|     201086|06037191201|  2014| 0.23689839572192514|0.40329617062530293|0.048473097430925836| 0.22055259331071256|  0.2617547261269995| 0.06253029568589433|  0.587747287811104|0.047436715592427146|          26480|        20770|     46.4|        4701|     572281|\n",
      "|06037228900|Census Tract 2289...|    6|    37|228900|2015| 0.05953991880920163| 0.05609756097560976| 0.06382978723404255| 0.6612903225806451| 0.07096774193548387| 0.16559139784946236| 0.08064516129032258|0.021505376344086023| 0.2917485265225933| 0.10281597904387688|       17740|       8140|   24.6|      3054|   0|06037228900| 33.992054| -118.24301|    515515|06037532700|06037228800|06037532700|  2015|                0.0| 0.6599832915622389|  0.1086048454469507| 0.15288220551378445|  0.0785296574770259|                 0.0|0.48313090418353577| 0.01720647773279352|          34293|        10470|     28.6|        2964|     771359|06037228800|  2015| 0.03395703395703396| 0.6427465152297367| 0.16675271037687145|  0.1109963861641714| 0.03923593185338152|0.028910686628807435|0.34944975644957604| 0.11491971856395454|          29155|         9487|     26.2|        5543|     844483|\n",
      "|06037265304|Census Tract 2653...|    6|    37|265304|2012|   0.614247311827957|                 0.5|  0.6855895196506551|0.25133120340788073|0.013312034078807242| 0.12193823216187434|  0.5511182108626198|0.021831735889243878| 0.5370879120879121|0.020604395604395604|       15822|       9882|   21.7|      3640|   0|06037265304| 34.067753|-118.451164|    130984|06037265303|06037265305|06037265303|  2012| 0.8123076923076923|0.32088959491660046|0.012708498808578236|  0.0778395552025417|  0.4960285941223193| 0.06036536934074663|0.48859797297297297| 0.04560810810810811|          19429|        15381|     21.9|        4736|     148001|06037265305|  2012|  0.8140740740740741| 0.2632450331125828|0.001655629139072...| 0.10485651214128035|  0.5413907284768212| 0.07229580573951434| 0.5213454075032341|0.053471323846485556|          16168|        21392|     22.5|        4638|     310807|\n",
      "|06037265303|Census Tract 2653...|    6|    37|265303|2012|  0.8123076923076923|         0.830078125|  0.7926565874730022|0.32088959491660046|0.012708498808578236|  0.0778395552025417|  0.4960285941223193| 0.06036536934074663|0.48859797297297297| 0.04560810810810811|       19429|      15381|   21.9|      4736|   0|06037265303| 34.067272| -118.45341|    148001|06037265304|06037265305|06037265304|  2012|  0.614247311827957|0.25133120340788073|0.013312034078807242| 0.12193823216187434|  0.5511182108626198|0.021831735889243878| 0.5370879120879121|0.020604395604395604|          15822|         9882|     21.7|        3640|     130984|06037265305|  2012|  0.8140740740740741| 0.2632450331125828|0.001655629139072...| 0.10485651214128035|  0.5413907284768212| 0.07229580573951434| 0.5213454075032341|0.053471323846485556|          16168|        21392|     22.5|        4638|     310807|\n",
      "|06037242600|Census Tract 2426...|    6|    37|242600|2015| 0.01195814648729447| 0.01730920535011802|0.002717391304347826| 0.6518691588785047| 0.07009345794392523| 0.15537383177570094|                 0.0| 0.09929906542056074| 0.3475263584752636|  0.3416463909164639|       12984|       5718|   20.0|      4932|   1|06037242600| 33.932377|-118.250244|    475994|06037242000|06037540700|06037242000|  2015|0.03554274735830932| 0.6309121621621622| 0.20016891891891891| 0.09121621621621621|0.003378378378378...| 0.04560810810810811| 0.5219094247246022|  0.3463892288861689|          32711|        11906|     26.4|        4085|     646734|06037540700|  2015|  0.1055072463768116| 0.6356311548791406| 0.20143240823634737| 0.11190689346463742| 0.01342882721575649| 0.02775290957923008|0.32605352199323284| 0.42448477391571826|          39971|        12277|     25.8|        3251|    1147687|\n",
      "|06037570403|Census Tract 5704...|    6|    37|570403|2011| 0.10875216637781629| 0.17612809315866085|0.009635974304068522| 0.5759493670886076|   0.229957805907173| 0.10618846694796062|                 0.0| 0.05063291139240506| 0.2868550368550369| 0.14742014742014742|       32750|      10083|   21.9|      4884|   1|06037570403|  33.87787| -118.20448|    570677|06037570404|06037542402|06037570404|  2011|0.04114780725500812| 0.7404470079307859| 0.13121845710165825|0.050468637346791634|0.029560201874549386|0.024513338139870222|0.38230929059067975|  0.3202730780647076|          52083|        21542|     29.4|        3369|     814491|06037542402|  2011| 0.13652912621359223| 0.6444007858546169| 0.26719056974459726|  0.0412573673870334|                 0.0|                 0.0| 0.2905495978552279|  0.4199061662198391|          49760|        16353|     31.3|        2984|    1567564|\n",
      "|06039000900|Census Tract 9, M...|    6|    39|   900|2015|0.047472887251892776| 0.06678306416412047|0.030431432973805857| 0.5118829981718465| 0.30987202925045704|                 0.0| 0.05621572212065813| 0.01736745886654479| 0.7595896997542473|0.021797200555614914|       29523|       9967|   26.4|      9359|   0|06039000900|  36.95897|-120.044846|   3824605|06039000800|06039000602|06039000800|  2015|0.03275681341719078| 0.6119402985074627| 0.23823191733639495|0.005166475315729047| 0.04879448909299656| 0.01951779563719862| 0.8538095923952183|0.008785827452110038|          27869|        11757|     28.1|        6943|    2816992|06039000602|  2015|0.026096822995461424| 0.5316653635652854|  0.2541047693510555|0.026583268178264268| 0.10946051602814699|  0.0437842064112588| 0.8853301700276789|  0.0055357848952155|          30076|        11121|     25.5|        5058|    1416838|\n",
      "|06059011720|Census Tract 117....|    6|    59| 11720|2014| 0.05285592497868713| 0.03557085484796328| 0.06981981981981981| 0.5606435643564357| 0.17698019801980197| 0.11551155115511551| 0.07343234323432343|0.012376237623762377| 0.8726569473371021|0.014132698601606665|       31722|       9325|   26.4|      6722|   1|06059011720| 33.857994|-117.875015|   1440107|06059011722|06059011721|06059011722|  2014|0.25729571984435795|  0.848089468779124| 0.04007455731593663|  0.0195712954333644|0.011183597390493943| 0.06337371854613234| 0.7708254805880136| 0.04070863173765549|          53667|        34781|     55.3|        2653|    1395832|06059011721|  2014| 0.21527077026572486| 0.7295150501672241| 0.13921404682274247|0.056856187290969896|0.030518394648829432|0.023411371237458192| 0.7994494691309477|0.006881635863153756|          48822|        18045|     29.7|        5086|     710269|\n",
      "|06065042405|Census Tract 424....|    6|    65| 42405|2012| 0.08496732026143791| 0.08270202020202021| 0.08849557522123894| 0.7789725209080047| 0.07586618876941457|0.052568697729988054| 0.03225806451612903|0.025686977299880526|0.41768237220301985| 0.36347098417318535|       26447|      11246|   24.3|      5497|   0|06065042405|  33.94383| -117.25267|   1011254|06065042406|06065042513|06065042406|  2012|0.14520547945205478| 0.8386866523911491|0.059957173447537475|0.011420413990007138|0.026409707351891507| 0.02926481084939329|  0.620274102079395|  0.1311436672967864|          49063|        19170|     33.0|        4232|     983132|06065042513|  2012| 0.10798362333674513| 0.8017309205350118| 0.07710464201416208|0.012588512981904013| 0.03068450039339103| 0.04956726986624705| 0.7359078168794768| 0.05854873871068203|          60313|        17284|     32.5|        3211|    1154584|\n",
      "|06065043507|Census Tract 435....|    6|    65| 43507|2010| 0.09820770930518045| 0.08142726440988106| 0.11764705882352941| 0.6912878787878788| 0.13399621212121213|0.023674242424242424| 0.04876893939393939| 0.08854166666666667| 0.5630636880810324|  0.0596642153461912|       28602|      13028|   27.9|      7207|   0|06065043507| 33.768116| -116.97255|   4871914|06065043602|06065043401|06065043602|  2010|0.02946509519492294| 0.6961429915333961| 0.12605832549388524|                 0.0|0.028222013170272814|  0.1495766698024459|0.35592329918571053| 0.07696348831100604|          27295|        11088|     33.0|        3807|    1907206|06065043401|  2010| 0.08488063660477453| 0.6531420089064819| 0.20237506185056903|  0.0326571004453241|0.053933696190004946|  0.0400791687283523| 0.6186885245901639|0.016721311475409836|          30663|        13368|     28.1|        6100|    3243409|\n",
      "|06065043403|Census Tract 434....|    6|    65| 43403|2010| 0.12467700258397933| 0.15657142857142858| 0.08320950965824665| 0.9003051881993896| 0.04170905391658189|0.026449643947100712|                 0.0| 0.03153611393692777| 0.6311475409836066| 0.12021857923497267|       29407|      14716|   25.7|      2928|   0|06065043403|  33.73728|  -116.9687|    971941|06065043312|06065043401|06065043312|  2010|0.07453208556149733| 0.7871345029239766| 0.14035087719298245|                 0.0|0.004678362573099415|  0.0456140350877193| 0.7138436146069734|0.020425005157829586|          51957|        14939|     32.0|        4847|    1458803|06065043401|  2010| 0.08488063660477453| 0.6531420089064819| 0.20237506185056903|  0.0326571004453241|0.053933696190004946|  0.0400791687283523| 0.6186885245901639|0.016721311475409836|          30663|        13368|     28.1|        6100|    3243409|\n",
      "|06067004100|Census Tract 41, ...|    6|    67|  4100|2013| 0.09565217391304348| 0.08981657179000632| 0.10278207109737249|  0.607275426874536|  0.2635486265775798|  0.0400890868596882| 0.06087602078693393|                 0.0|0.43350604490500866| 0.12715889464594127|       24022|      12979|   34.4|      4632|   0|06067004100|  38.50662| -121.47852|   2033366|06067004501|06067003800|06067004501|  2013|0.06986027944111776| 0.6461038961038961| 0.19696969696969696| 0.05735930735930736|                 0.0|  0.0854978354978355| 0.3230389129092032|  0.1355775169857937|          26069|        11341|     31.2|        3238|    1802496|06067003800|  2013|  0.1412180052956752|  0.767909715407262| 0.11874386653581943| 0.03140333660451423|0.002944062806673209|0.040235525024533855|0.48959802538787023|  0.2367771509167842|          50907|        18303|     32.1|        5672|    4898249|\n",
      "|06085503123|Census Tract 5031...|    6|    85|503123|2011| 0.07909343200740056|0.046129788897576234| 0.12684031710079274| 0.7443384982121574| 0.04410011918951132| 0.04648390941597139| 0.05959475566150179| 0.05065554231227652|0.38222222222222224|  0.0915032679738562|       28356|      16011|   27.4|      3825|   1|06085503123|  37.29767|-121.877884|    674476|06085503121|06085503108|06085503121|  2011| 0.2612078547610226| 0.8633510381458233| 0.06760019314340898|0.008208594881699663| 0.01883148237566393|  0.0159343312409464|  0.577434162841266| 0.05315293549166465|          61848|        23255|     34.4|        4139|    2194340|06085503108|  2011| 0.46325301204819275| 0.8451545856066511| 0.08729540140296181| 0.03507404520654715|                 0.0| 0.02390231228890621|0.37145435791645176| 0.04525528623001547|          84632|        38502|     33.2|        7756|    2272863|\n",
      "|06089010704|Census Tract 107....|    6|    89| 10704|2015|  0.1074849237318198|  0.0896637608966376| 0.13107996702390767| 0.8198675496688742| 0.09933774834437085|                 0.0| 0.03377483443708609| 0.02913907284768212| 0.9142857142857143|0.008362369337979094|       31102|      19681|   39.1|      4305|   0|06089010704|  40.61486| -122.39341|   4620136|06089010702|06089010806|06089010702|  2015| 0.3784355179704017| 0.7823721436343852| 0.07453754080522307| 0.04951033732317737|                 0.0| 0.06311207834602829| 0.8680387409200968|0.004116222760290557|          61429|        31471|     39.6|        4130|   12171516|06089010806|  2015|  0.0973659454374412|   0.76905311778291| 0.13625866050808313|                 0.0|0.006158583525789068| 0.03233256351039261| 0.8641432916525853|                 0.0|          30795|        19694|     41.6|        2959|   12092742|\n",
      "+-----------+--------------------+-----+------+------+----+--------------------+--------------------+--------------------+-------------------+--------------------+--------------------+--------------------+--------------------+-------------------+--------------------+------------+-----------+-------+----------+----+-----------+----------+-----------+----------+-----------+-----------+-----------+------+-------------------+-------------------+--------------------+--------------------+--------------------+--------------------+-------------------+--------------------+---------------+-------------+---------+------------+-----------+-----------+------+--------------------+-------------------+--------------------+--------------------+--------------------+--------------------+-------------------+--------------------+---------------+-------------+---------+------------+-----------+\n",
      "only showing top 20 rows\n",
      "\n"
     ]
    }
   ],
   "source": [
    "df_model.show()"
   ]
  },
  {
   "cell_type": "code",
   "execution_count": 90,
   "metadata": {},
   "outputs": [
    {
     "data": {
      "text/plain": [
       "7666"
      ]
     },
     "execution_count": 90,
     "metadata": {},
     "output_type": "execute_result"
    }
   ],
   "source": [
    "df_model.count()"
   ]
  },
  {
   "cell_type": "code",
   "execution_count": 81,
   "metadata": {},
   "outputs": [],
   "source": [
    "neighbors = [str(x) for x in range(num_neighbors)]"
   ]
  },
  {
   "cell_type": "code",
   "execution_count": 82,
   "metadata": {},
   "outputs": [
    {
     "data": {
      "text/plain": [
       "['0', '1']"
      ]
     },
     "execution_count": 82,
     "metadata": {},
     "output_type": "execute_result"
    }
   ],
   "source": [
    "neighbors"
   ]
  },
  {
   "cell_type": "code",
   "execution_count": 93,
   "metadata": {},
   "outputs": [],
   "source": [
    "df_safe = df_model"
   ]
  },
  {
   "cell_type": "code",
   "execution_count": 87,
   "metadata": {},
   "outputs": [
    {
     "name": "stdout",
     "output_type": "stream",
     "text": [
      "+-----------+--------------------+-----+------+------+----+-------------------+-------------------+--------------------+------------------+-------------------+-------------------+-------------------+-------------------+------------------+-------------------+------------+-----------+-------+----------+----+-----------+----------+----------+--------+-----------+-----------+-----------+------+-------------------+------------------+-------------------+-------------------+--------------------+--------------------+-------------------+------------------+---------------+-------------+---------+------------+-----------+-----------+------+-------------------+-------------------+--------------------+-------------------+--------------------+--------------------+-------------------+--------------------+---------------+-------------+---------+------------+-----------+-------------------+\n",
      "|     GEO_ID|                NAME|state|county| tract|year|           ed_total|             ed_fem|             ed_male|        trans_solo|         trans_pool|       trans_public|         trans_walk|       trans_remote|        perc_white|         perc_black|med_hous_inc|per_cap_inc|med_age|population|gent|    GEOID10|INTPTLAT10|INTPTLON10| ALAND10|  neighbor0|  neighbor1|   0_GEO_ID|0_year|         0_ed_total|      0_trans_solo|       0_trans_solo|     0_trans_public|        0_trans_walk|      0_trans_remote|       0_perc_white|      0_perc_black|0_med_house_inc|0_per_cap_inc|0_med_age|0_population|0_land_area|   1_GEO_ID|1_year|         1_ed_total|       1_trans_solo|        1_trans_solo|     1_trans_public|        1_trans_walk|      1_trans_remote|       1_perc_white|        1_perc_black|1_med_house_inc|1_per_cap_inc|1_med_age|1_population|1_land_area|         n_ed_total|\n",
      "+-----------+--------------------+-----+------+------+----+-------------------+-------------------+--------------------+------------------+-------------------+-------------------+-------------------+-------------------+------------------+-------------------+------------+-----------+-------+----------+----+-----------+----------+----------+--------+-----------+-----------+-----------+------+-------------------+------------------+-------------------+-------------------+--------------------+--------------------+-------------------+------------------+---------------+-------------+---------+------------+-----------+-----------+------+-------------------+-------------------+--------------------+-------------------+--------------------+--------------------+-------------------+--------------------+---------------+-------------+---------+------------+-----------+-------------------+\n",
      "|06001410300|Census Tract 4103...|    6|     1|410300|2010|0.05699954400364797|0.08103130755064457| 0.03342366757000903|0.5211370262390671|0.29373177842565595|0.12536443148688048|                0.0|0.05539358600583091| 0.321630247974466|0.35502086913822734|       31951|      11265|   28.6|      4073|   1|06001410300|  37.74668|-122.16614|578328.0|6.0014106E9|  6.00141E9|6.0014106E9|  2010|0.15579575102497203|0.5603448275862069|0.19204980842911878|0.14032567049808428| 0.08908045977011494|0.002873563218390...|0.18851717902350815|0.3707052441229656|          50281|        20835|     31.2|        4424|   706609.0|  6.00141E9|  2010|0.25691514299109236|  0.742671009771987| 0.02035830618892508|0.12947882736156352|                 0.0|  0.0985342019543974| 0.1506810442678774|  0.7375141884222475|          45100|        24554|     34.1|        3524|  1790021.0|0.20063026754341795|\n",
      "|06001410300|Census Tract 4103...|    6|     1|410300|2010|0.05699954400364797|0.08103130755064457| 0.03342366757000903|0.5211370262390671|0.29373177842565595|0.12536443148688048|                0.0|0.05539358600583091| 0.321630247974466|0.35502086913822734|       31951|      11265|   28.6|      4073|   1|06001410300|  37.74668|-122.16614|578328.0|6.0014106E9|  6.00141E9|6.0014106E9|  2010|0.15579575102497203|0.5603448275862069|0.19204980842911878|0.14032567049808428| 0.08908045977011494|0.002873563218390...|0.18851717902350815|0.3707052441229656|          50281|        20835|     31.2|        4424|   706609.0|  6.00141E9|  2010|0.43803680981595094| 0.7543859649122807| 0.11528822055137844|0.07330827067669173|0.011904761904761904| 0.03132832080200501|0.35768595041322315|  0.5454545454545454|         106382|        55643|     52.6|        3025|  4498557.0|0.27041237108708926|\n",
      "|06001410300|Census Tract 4103...|    6|     1|410300|2010|0.05699954400364797|0.08103130755064457| 0.03342366757000903|0.5211370262390671|0.29373177842565595|0.12536443148688048|                0.0|0.05539358600583091| 0.321630247974466|0.35502086913822734|       31951|      11265|   28.6|      4073|   1|06001410300|  37.74668|-122.16614|578328.0|6.0014106E9|  6.00141E9|6.0014106E9|  2010|0.15579575102497203|0.5603448275862069|0.19204980842911878|0.14032567049808428| 0.08908045977011494|0.002873563218390...|0.18851717902350815|0.3707052441229656|          50281|        20835|     31.2|        4424|   706609.0|  6.00141E9|  2010| 0.4697653429602888| 0.7877671333824613|0.034635224760501106|0.08695652173913043|0.018422991893883568|0.047899778924097275|0.28224238496435516|  0.4099157485418017|          73382|        35262|     42.8|        3086|  6784422.0|0.28481175111983054|\n",
      "|06001410300|Census Tract 4103...|    6|     1|410300|2010|0.05699954400364797|0.08103130755064457| 0.03342366757000903|0.5211370262390671|0.29373177842565595|0.12536443148688048|                0.0|0.05539358600583091| 0.321630247974466|0.35502086913822734|       31951|      11265|   28.6|      4073|   1|06001410300|  37.74668|-122.16614|578328.0|6.0014106E9|  6.00141E9|6.0014106E9|  2010|0.15579575102497203|0.5603448275862069|0.19204980842911878|0.14032567049808428| 0.08908045977011494|0.002873563218390...|0.18851717902350815|0.3707052441229656|          50281|        20835|     31.2|        4424|   706609.0|  6.00141E9|  2010|0.21535326086956522| 0.7727690892364305| 0.00919963201471941|0.05703771849126035| 0.11223551057957681| 0.04875804967801288|  0.296085409252669|  0.6160142348754448|          52656|        21895|     28.4|        2810|   784677.0|0.17893047630328374|\n",
      "|06001410300|Census Tract 4103...|    6|     1|410300|2010|0.05699954400364797|0.08103130755064457| 0.03342366757000903|0.5211370262390671|0.29373177842565595|0.12536443148688048|                0.0|0.05539358600583091| 0.321630247974466|0.35502086913822734|       31951|      11265|   28.6|      4073|   1|06001410300|  37.74668|-122.16614|578328.0|6.0014106E9|  6.00141E9|6.0014106E9|  2010|0.15579575102497203|0.5603448275862069|0.19204980842911878|0.14032567049808428| 0.08908045977011494|0.002873563218390...|0.18851717902350815|0.3707052441229656|          50281|        20835|     31.2|        4424|   706609.0|  6.00141E9|  2010|0.09417528579205225|0.49825783972125437| 0.10714285714285714|0.35714285714285715|0.006968641114982578| 0.01916376306620209|0.05720053835800808|  0.6228129205921938|          41331|        20311|     37.4|        2972|   585845.0|0.13103425526074305|\n",
      "|06001410300|Census Tract 4103...|    6|     1|410300|2010|0.05699954400364797|0.08103130755064457| 0.03342366757000903|0.5211370262390671|0.29373177842565595|0.12536443148688048|                0.0|0.05539358600583091| 0.321630247974466|0.35502086913822734|       31951|      11265|   28.6|      4073|   1|06001410300|  37.74668|-122.16614|578328.0|6.0014106E9|  6.00141E9|6.0014106E9|  2010|0.15579575102497203|0.5603448275862069|0.19204980842911878|0.14032567049808428| 0.08908045977011494|0.002873563218390...|0.18851717902350815|0.3707052441229656|          50281|        20835|     31.2|        4424|   706609.0|  6.00141E9|  2010|0.05699954400364797| 0.5211370262390671| 0.29373177842565595|0.12536443148688048|                 0.0| 0.05539358600583091|  0.321630247974466| 0.35502086913822734|          31951|        11265|     28.6|        4073|   578328.0|  0.108438218813856|\n",
      "|06001410300|Census Tract 4103...|    6|     1|410300|2010|0.05699954400364797|0.08103130755064457| 0.03342366757000903|0.5211370262390671|0.29373177842565595|0.12536443148688048|                0.0|0.05539358600583091| 0.321630247974466|0.35502086913822734|       31951|      11265|   28.6|      4073|   1|06001410300|  37.74668|-122.16614|578328.0|6.0014106E9|  6.00141E9|6.0014106E9|  2010|0.12066574202496533|0.2757396449704142|0.04142011834319527|0.31597633136094677| 0.13254437869822486| 0.20118343195266272|0.18270868824531517|0.5851788756388415|          21843|        15328|     35.8|        2348|   724054.0|  6.00141E9|  2010|0.25691514299109236|  0.742671009771987| 0.02035830618892508|0.12947882736156352|                 0.0|  0.0985342019543974| 0.1506810442678774|  0.7375141884222475|          45100|        24554|     34.1|        3524|  1790021.0|0.20243394519332905|\n",
      "|06001410300|Census Tract 4103...|    6|     1|410300|2010|0.05699954400364797|0.08103130755064457| 0.03342366757000903|0.5211370262390671|0.29373177842565595|0.12536443148688048|                0.0|0.05539358600583091| 0.321630247974466|0.35502086913822734|       31951|      11265|   28.6|      4073|   1|06001410300|  37.74668|-122.16614|578328.0|6.0014106E9|  6.00141E9|6.0014106E9|  2010|0.12066574202496533|0.2757396449704142|0.04142011834319527|0.31597633136094677| 0.13254437869822486| 0.20118343195266272|0.18270868824531517|0.5851788756388415|          21843|        15328|     35.8|        2348|   724054.0|  6.00141E9|  2010|0.43803680981595094| 0.7543859649122807| 0.11528822055137844|0.07330827067669173|0.011904761904761904| 0.03132832080200501|0.35768595041322315|  0.5454545454545454|         106382|        55643|     52.6|        3025|  4498557.0|  0.299345712259049|\n",
      "|06001410300|Census Tract 4103...|    6|     1|410300|2010|0.05699954400364797|0.08103130755064457| 0.03342366757000903|0.5211370262390671|0.29373177842565595|0.12536443148688048|                0.0|0.05539358600583091| 0.321630247974466|0.35502086913822734|       31951|      11265|   28.6|      4073|   1|06001410300|  37.74668|-122.16614|578328.0|6.0014106E9|  6.00141E9|6.0014106E9|  2010|0.12066574202496533|0.2757396449704142|0.04142011834319527|0.31597633136094677| 0.13254437869822486| 0.20118343195266272|0.18270868824531517|0.5851788756388415|          21843|        15328|     35.8|        2348|   724054.0|  6.00141E9|  2010| 0.4697653429602888| 0.7877671333824613|0.034635224760501106|0.08695652173913043|0.018422991893883568|0.047899778924097275|0.28224238496435516|  0.4099157485418017|          73382|        35262|     42.8|        3086|  6784422.0|0.31892142264447365|\n",
      "|06001410300|Census Tract 4103...|    6|     1|410300|2010|0.05699954400364797|0.08103130755064457| 0.03342366757000903|0.5211370262390671|0.29373177842565595|0.12536443148688048|                0.0|0.05539358600583091| 0.321630247974466|0.35502086913822734|       31951|      11265|   28.6|      4073|   1|06001410300|  37.74668|-122.16614|578328.0|6.0014106E9|  6.00141E9|6.0014106E9|  2010|0.12066574202496533|0.2757396449704142|0.04142011834319527|0.31597633136094677| 0.13254437869822486| 0.20118343195266272|0.18270868824531517|0.5851788756388415|          21843|        15328|     35.8|        2348|   724054.0|  6.00141E9|  2010|0.21535326086956522| 0.7727690892364305| 0.00919963201471941|0.05703771849126035| 0.11223551057957681| 0.04875804967801288|  0.296085409252669|  0.6160142348754448|          52656|        21895|     28.4|        2810|   784677.0|0.17225006307058877|\n",
      "|06001410300|Census Tract 4103...|    6|     1|410300|2010|0.05699954400364797|0.08103130755064457| 0.03342366757000903|0.5211370262390671|0.29373177842565595|0.12536443148688048|                0.0|0.05539358600583091| 0.321630247974466|0.35502086913822734|       31951|      11265|   28.6|      4073|   1|06001410300|  37.74668|-122.16614|578328.0|6.0014106E9|  6.00141E9|6.0014106E9|  2010|0.12066574202496533|0.2757396449704142|0.04142011834319527|0.31597633136094677| 0.13254437869822486| 0.20118343195266272|0.18270868824531517|0.5851788756388415|          21843|        15328|     35.8|        2348|   724054.0|  6.00141E9|  2010|0.09417528579205225|0.49825783972125437| 0.10714285714285714|0.35714285714285715|0.006968641114982578| 0.01916376306620209|0.05720053835800808|  0.6228129205921938|          41331|        20311|     37.4|        2972|   585845.0|0.10586693827981164|\n",
      "|06001410300|Census Tract 4103...|    6|     1|410300|2010|0.05699954400364797|0.08103130755064457| 0.03342366757000903|0.5211370262390671|0.29373177842565595|0.12536443148688048|                0.0|0.05539358600583091| 0.321630247974466|0.35502086913822734|       31951|      11265|   28.6|      4073|   1|06001410300|  37.74668|-122.16614|578328.0|6.0014106E9|  6.00141E9|6.0014106E9|  2010|0.12066574202496533|0.2757396449704142|0.04142011834319527|0.31597633136094677| 0.13254437869822486| 0.20118343195266272|0.18270868824531517|0.5851788756388415|          21843|        15328|     35.8|        2348|   724054.0|  6.00141E9|  2010|0.05699954400364797| 0.5211370262390671| 0.29373177842565595|0.12536443148688048|                 0.0| 0.05539358600583091|  0.321630247974466| 0.35502086913822734|          31951|        11265|     28.6|        4073|   578328.0|0.08028068914522299|\n",
      "|06037204410|Census Tract 2044...|    6|    37|204410|2015|0.05423728813559322|0.05308464849354376|0.055900621118012424| 0.530454042081949|0.09302325581395349|0.19490586932447398|0.13067552602436322|0.03322259136212625|0.5459797785267212|                0.0|       29306|      11774|   30.2|      2077|   1|06037204410|  34.04619|-118.21527|296876.0|6.0372045E9|6.0372035E9|6.0372045E9|  2015|0.07834710743801652|0.6108998732572877|0.13244613434727504|0.17046894803548795|0.046894803548795945| 0.02788339670468948| 0.6340399002493765|               0.0|          30216|        10523|     32.0|        4812|   643479.0|6.0372035E9|  2015|0.14728682170542637| 0.6748768472906403| 0.08702791461412152|0.12315270935960591| 0.07717569786535304|0.009852216748768473| 0.5031026252983294| 0.13890214797136038|          29583|        10997|     19.8|        2095|  1488958.0|0.09925758975888284|\n",
      "|06037204410|Census Tract 2044...|    6|    37|204410|2015|0.05423728813559322|0.05308464849354376|0.055900621118012424| 0.530454042081949|0.09302325581395349|0.19490586932447398|0.13067552602436322|0.03322259136212625|0.5459797785267212|                0.0|       29306|      11774|   30.2|      2077|   1|06037204410|  34.04619|-118.21527|296876.0|6.0372045E9|6.0372035E9|6.0372045E9|  2015|0.07834710743801652|0.6108998732572877|0.13244613434727504|0.17046894803548795|0.046894803548795945| 0.02788339670468948| 0.6340399002493765|               0.0|          30216|        10523|     32.0|        4812|   643479.0|6.0372035E9|  2015| 0.1547743966421826| 0.5090225563909775| 0.09398496240601503|  0.181203007518797|  0.1481203007518797| 0.05488721804511278| 0.5226403061224489|0.006058673469387755|          35893|        15324|     32.5|        3136|  1633812.0|0.10850261560916206|\n",
      "|06037204410|Census Tract 2044...|    6|    37|204410|2015|0.05423728813559322|0.05308464849354376|0.055900621118012424| 0.530454042081949|0.09302325581395349|0.19490586932447398|0.13067552602436322|0.03322259136212625|0.5459797785267212|                0.0|       29306|      11774|   30.2|      2077|   1|06037204410|  34.04619|-118.21527|296876.0|6.0372045E9|6.0372035E9|6.0372045E9|  2015|0.07834710743801652|0.6108998732572877|0.13244613434727504|0.17046894803548795|0.046894803548795945| 0.02788339670468948| 0.6340399002493765|               0.0|          30216|        10523|     32.0|        4812|   643479.0|6.0372035E9|  2015|0.08289611752360965| 0.6352235550708834| 0.08778625954198473|0.12431842966194111| 0.08233369683751363| 0.04471101417666303| 0.6019777503090235|                 0.0|          27344|        12578|     30.5|        4854|   553402.0|0.08063149549465516|\n",
      "|06037204410|Census Tract 2044...|    6|    37|204410|2015|0.05423728813559322|0.05308464849354376|0.055900621118012424| 0.530454042081949|0.09302325581395349|0.19490586932447398|0.13067552602436322|0.03322259136212625|0.5459797785267212|                0.0|       29306|      11774|   30.2|      2077|   1|06037204410|  34.04619|-118.21527|296876.0|6.0372045E9|6.0372035E9|6.0372045E9|  2015|0.07834710743801652|0.6108998732572877|0.13244613434727504|0.17046894803548795|0.046894803548795945| 0.02788339670468948| 0.6340399002493765|               0.0|          30216|        10523|     32.0|        4812|   643479.0|6.0372035E9|  2015|0.09423274974253347| 0.5480769230769231| 0.11760355029585799|0.22411242603550297| 0.05917159763313609| 0.03920118343195266| 0.6703296703296703|0.022556390977443608|          32768|        11948|     30.5|        3458|   282072.0|0.08498949571963921|\n",
      "|06037204410|Census Tract 2044...|    6|    37|204410|2015|0.05423728813559322|0.05308464849354376|0.055900621118012424| 0.530454042081949|0.09302325581395349|0.19490586932447398|0.13067552602436322|0.03322259136212625|0.5459797785267212|                0.0|       29306|      11774|   30.2|      2077|   1|06037204410|  34.04619|-118.21527|296876.0|6.0372045E9|6.0372035E9|6.0372045E9|  2015|0.05423728813559322| 0.530454042081949|0.09302325581395349|0.19490586932447398| 0.13067552602436322| 0.03322259136212625| 0.5459797785267212|               0.0|          29306|        11774|     30.2|        2077|   296876.0|6.0372035E9|  2015|0.14728682170542637| 0.6748768472906403| 0.08702791461412152|0.12315270935960591| 0.07717569786535304|0.009852216748768473| 0.5031026252983294| 0.13890214797136038|          29583|        10997|     19.8|        2095|  1488958.0|0.10096278497854634|\n",
      "|06037204410|Census Tract 2044...|    6|    37|204410|2015|0.05423728813559322|0.05308464849354376|0.055900621118012424| 0.530454042081949|0.09302325581395349|0.19490586932447398|0.13067552602436322|0.03322259136212625|0.5459797785267212|                0.0|       29306|      11774|   30.2|      2077|   1|06037204410|  34.04619|-118.21527|296876.0|6.0372045E9|6.0372035E9|6.0372045E9|  2015|0.05423728813559322| 0.530454042081949|0.09302325581395349|0.19490586932447398| 0.13067552602436322| 0.03322259136212625| 0.5459797785267212|               0.0|          29306|        11774|     30.2|        2077|   296876.0|6.0372035E9|  2015| 0.1547743966421826| 0.5090225563909775| 0.09398496240601503|  0.181203007518797|  0.1481203007518797| 0.05488721804511278| 0.5226403061224489|0.006058673469387755|          35893|        15324|     32.5|        3136|  1633812.0|0.11471769716622131|\n",
      "|06037204410|Census Tract 2044...|    6|    37|204410|2015|0.05423728813559322|0.05308464849354376|0.055900621118012424| 0.530454042081949|0.09302325581395349|0.19490586932447398|0.13067552602436322|0.03322259136212625|0.5459797785267212|                0.0|       29306|      11774|   30.2|      2077|   1|06037204410|  34.04619|-118.21527|296876.0|6.0372045E9|6.0372035E9|6.0372045E9|  2015|0.05423728813559322| 0.530454042081949|0.09302325581395349|0.19490586932447398| 0.13067552602436322| 0.03322259136212625| 0.5459797785267212|               0.0|          29306|        11774|     30.2|        2077|   296876.0|6.0372035E9|  2015|0.08289611752360965| 0.6352235550708834| 0.08778625954198473|0.12431842966194111| 0.08233369683751363| 0.04471101417666303| 0.6019777503090235|                 0.0|          27344|        12578|     30.5|        4854|   553402.0|0.07430797892327634|\n",
      "|06037204410|Census Tract 2044...|    6|    37|204410|2015|0.05423728813559322|0.05308464849354376|0.055900621118012424| 0.530454042081949|0.09302325581395349|0.19490586932447398|0.13067552602436322|0.03322259136212625|0.5459797785267212|                0.0|       29306|      11774|   30.2|      2077|   1|06037204410|  34.04619|-118.21527|296876.0|6.0372045E9|6.0372035E9|6.0372045E9|  2015|0.05423728813559322| 0.530454042081949|0.09302325581395349|0.19490586932447398| 0.13067552602436322| 0.03322259136212625| 0.5459797785267212|               0.0|          29306|        11774|     30.2|        2077|   296876.0|6.0372035E9|  2015|0.09423274974253347| 0.5480769230769231| 0.11760355029585799|0.22411242603550297| 0.05917159763313609| 0.03920118343195266| 0.6703296703296703|0.022556390977443608|          32768|        11948|     30.5|        3458|   282072.0| 0.0792245160013203|\n",
      "+-----------+--------------------+-----+------+------+----+-------------------+-------------------+--------------------+------------------+-------------------+-------------------+-------------------+-------------------+------------------+-------------------+------------+-----------+-------+----------+----+-----------+----------+----------+--------+-----------+-----------+-----------+------+-------------------+------------------+-------------------+-------------------+--------------------+--------------------+-------------------+------------------+---------------+-------------+---------+------------+-----------+-----------+------+-------------------+-------------------+--------------------+-------------------+--------------------+--------------------+-------------------+--------------------+---------------+-------------+---------+------------+-----------+-------------------+\n",
      "only showing top 20 rows\n",
      "\n"
     ]
    }
   ],
   "source": [
    "df_model.withColumn('n_ed_total', sum([df_model[n+'_ed_total']*df_model[n+'_population'] \n",
    "                                  for n in neighbors]) / sum([df_model[n+'_population'] for n in neighbors])).show()"
   ]
  },
  {
   "cell_type": "code",
   "execution_count": 83,
   "metadata": {},
   "outputs": [],
   "source": [
    "    \n",
    "# Lets aggregate features for neighboring tracts by taking a weighted average based on population\n",
    "df_model = df_model.withColumn('n_ed_total', sum([df_model[n+'_ed_total']*df_model[n+'_population'] \n",
    "                                  for n in neighbors]) / sum([df_model[n+'_population'] for n in neighbors]))\n",
    "    \n",
    "df_model = df_model.withColumn('n_trans_solo', sum([df_model[n+'_trans_solo']*df_model[n+'_population'] \n",
    "                                     for n in neighbors]) / sum([df_model[n+'_population'] for n in neighbors]))\n",
    "    \n",
    "df_model = df_model.withColumn('n_trans_pool', sum([df_model[n+'_trans_pool']*df_model[n+'_population'] \n",
    "                                     for n in neighbors]) / sum([df_model[n+'_population'] for n in neighbors]))\n",
    "    \n",
    "df_model = df_model.withColumn('n_trans_public', sum([df_model[n+'_trans_public']*df_model[n+'_population'] \n",
    "                                     for n in neighbors]) / sum([df_model[n+'_population'] for n in neighbors]))\n",
    "    \n",
    "df_model = df_model.withColumn('n_trans_walk', sum([df_model[n+'_trans_walk']*df_model[n+'_population'] \n",
    "                                     for n in neighbors]) / sum([df_model[n+'_population'] for n in neighbors]))\n",
    "    \n",
    "df_model = df_model.withColumn('n_trans_remote', sum([df_model[n+'_trans_remote']*df_model[n+'_population'] \n",
    "                                     for n in neighbors]) / sum([df_model[n+'_population'] for n in neighbors]))\n",
    "    \n",
    "df_model = df_model.withColumn('n_perc_white', sum([df_model[n+'_perc_white']*df_model[n+'_population'] \n",
    "                                     for n in neighbors]) / sum([df_model[n+'_population'] for n in neighbors]))\n",
    "    \n",
    "df_model = df_model.withColumn('n_perc_black', sum([df_model[n+'_perc_black']*df_model[n+'_population'] \n",
    "                                     for n in neighbors]) / sum([df_model[n+'_population'] for n in neighbors]))\n",
    "    \n",
    "df_model = df_model.withColumn('n_per_cap_inc', sum([df_model[n+'_per_cap_inc']*df_model[n+'_population'] \n",
    "                                     for n in neighbors]) / sum([df_model[n+'_population'] for n in neighbors]))\n",
    "\n",
    "df_model = df_model.withColumn('n_med_house_inc', sum([df_model[n+'_med_house_inc']*df_model[n+'_population'] \n",
    "                                     for n in neighbors]) / sum([df_model[n+'_population'] for n in neighbors]))\n",
    "\n",
    "df_model = df_model.withColumn('n_med_age', sum([df_model[n+'_med_age']*df_model[n+'_population'] \n",
    "                                     for n in neighbors]) / sum([df_model[n+'_population'] for n in neighbors]))\n",
    "    \n",
    "df_model = df_model.withColumn('n_population', sum([df_model[n+'_population'] for n in neighbors])) # created a feature containing population total of all neighboring tracts\n",
    "    \n",
    "df_model = df_model.withColumn('n_land_area', sum([df_model[n+'_land_area'] for n in neighbors])) # created a feature containing total land area of neighboring tracts\n",
    "    \n",
    "    "
   ]
  },
  {
   "cell_type": "code",
   "execution_count": 84,
   "metadata": {},
   "outputs": [
    {
     "name": "stdout",
     "output_type": "stream",
     "text": [
      "root\n",
      " |-- GEO_ID: string (nullable = true)\n",
      " |-- NAME: string (nullable = true)\n",
      " |-- state: integer (nullable = true)\n",
      " |-- county: integer (nullable = true)\n",
      " |-- tract: integer (nullable = true)\n",
      " |-- year: integer (nullable = true)\n",
      " |-- ed_total: double (nullable = true)\n",
      " |-- ed_fem: double (nullable = true)\n",
      " |-- ed_male: double (nullable = true)\n",
      " |-- trans_solo: double (nullable = true)\n",
      " |-- trans_pool: double (nullable = true)\n",
      " |-- trans_public: double (nullable = true)\n",
      " |-- trans_walk: double (nullable = true)\n",
      " |-- trans_remote: double (nullable = true)\n",
      " |-- perc_white: double (nullable = true)\n",
      " |-- perc_black: double (nullable = true)\n",
      " |-- med_hous_inc: integer (nullable = true)\n",
      " |-- per_cap_inc: integer (nullable = true)\n",
      " |-- med_age: double (nullable = true)\n",
      " |-- population: integer (nullable = true)\n",
      " |-- gent: integer (nullable = true)\n",
      " |-- GEOID10: string (nullable = true)\n",
      " |-- INTPTLAT10: float (nullable = true)\n",
      " |-- INTPTLON10: float (nullable = true)\n",
      " |-- ALAND10: integer (nullable = true)\n",
      " |-- neighbor0: string (nullable = true)\n",
      " |-- neighbor1: string (nullable = true)\n",
      " |-- 0_GEO_ID: string (nullable = true)\n",
      " |-- 0_year: integer (nullable = true)\n",
      " |-- 0_ed_total: double (nullable = true)\n",
      " |-- 0_trans_solo: double (nullable = true)\n",
      " |-- 0_trans_pool: double (nullable = true)\n",
      " |-- 0_trans_public: double (nullable = true)\n",
      " |-- 0_trans_walk: double (nullable = true)\n",
      " |-- 0_trans_remote: double (nullable = true)\n",
      " |-- 0_perc_white: double (nullable = true)\n",
      " |-- 0_perc_black: double (nullable = true)\n",
      " |-- 0_med_house_inc: integer (nullable = true)\n",
      " |-- 0_per_cap_inc: integer (nullable = true)\n",
      " |-- 0_med_age: double (nullable = true)\n",
      " |-- 0_population: integer (nullable = true)\n",
      " |-- 0_land_area: integer (nullable = true)\n",
      " |-- 1_GEO_ID: string (nullable = true)\n",
      " |-- 1_year: integer (nullable = true)\n",
      " |-- 1_ed_total: double (nullable = true)\n",
      " |-- 1_trans_solo: double (nullable = true)\n",
      " |-- 1_trans_pool: double (nullable = true)\n",
      " |-- 1_trans_public: double (nullable = true)\n",
      " |-- 1_trans_walk: double (nullable = true)\n",
      " |-- 1_trans_remote: double (nullable = true)\n",
      " |-- 1_perc_white: double (nullable = true)\n",
      " |-- 1_perc_black: double (nullable = true)\n",
      " |-- 1_med_house_inc: integer (nullable = true)\n",
      " |-- 1_per_cap_inc: integer (nullable = true)\n",
      " |-- 1_med_age: double (nullable = true)\n",
      " |-- 1_population: integer (nullable = true)\n",
      " |-- 1_land_area: integer (nullable = true)\n",
      " |-- n_ed_total: double (nullable = true)\n",
      " |-- n_trans_solo: double (nullable = true)\n",
      " |-- n_trans_pool: double (nullable = true)\n",
      " |-- n_trans_public: double (nullable = true)\n",
      " |-- n_trans_walk: double (nullable = true)\n",
      " |-- n_trans_remote: double (nullable = true)\n",
      " |-- n_perc_white: double (nullable = true)\n",
      " |-- n_perc_black: double (nullable = true)\n",
      " |-- n_per_cap_inc: double (nullable = true)\n",
      " |-- n_med_house_inc: double (nullable = true)\n",
      " |-- n_med_age: double (nullable = true)\n",
      " |-- n_population: integer (nullable = true)\n",
      " |-- n_land_area: integer (nullable = true)\n",
      "\n"
     ]
    }
   ],
   "source": [
    "df_model.printSchema()"
   ]
  },
  {
   "cell_type": "code",
   "execution_count": 85,
   "metadata": {},
   "outputs": [
    {
     "data": {
      "text/plain": [
       "['GEO_ID',\n",
       " 'NAME',\n",
       " 'state',\n",
       " 'county',\n",
       " 'tract',\n",
       " 'year',\n",
       " 'ed_total',\n",
       " 'ed_fem',\n",
       " 'ed_male',\n",
       " 'trans_solo',\n",
       " 'trans_pool',\n",
       " 'trans_public',\n",
       " 'trans_walk',\n",
       " 'trans_remote',\n",
       " 'perc_white',\n",
       " 'perc_black',\n",
       " 'med_hous_inc',\n",
       " 'per_cap_inc',\n",
       " 'med_age',\n",
       " 'population',\n",
       " 'gent',\n",
       " 'GEOID10',\n",
       " 'INTPTLAT10',\n",
       " 'INTPTLON10',\n",
       " 'ALAND10',\n",
       " 'neighbor0',\n",
       " 'neighbor1']"
      ]
     },
     "execution_count": 85,
     "metadata": {},
     "output_type": "execute_result"
    }
   ],
   "source": [
    "df_model.schema.names[:25+num_neighbors]"
   ]
  },
  {
   "cell_type": "code",
   "execution_count": 86,
   "metadata": {},
   "outputs": [
    {
     "data": {
      "text/plain": [
       "['n_ed_total',\n",
       " 'n_trans_solo',\n",
       " 'n_trans_pool',\n",
       " 'n_trans_public',\n",
       " 'n_trans_walk',\n",
       " 'n_trans_remote',\n",
       " 'n_perc_white',\n",
       " 'n_perc_black',\n",
       " 'n_per_cap_inc',\n",
       " 'n_med_house_inc',\n",
       " 'n_med_age',\n",
       " 'n_population',\n",
       " 'n_land_area']"
      ]
     },
     "execution_count": 86,
     "metadata": {},
     "output_type": "execute_result"
    }
   ],
   "source": [
    "df_model.schema.names[25+num_neighbors+(15*num_neighbors):]"
   ]
  },
  {
   "cell_type": "code",
   "execution_count": 87,
   "metadata": {},
   "outputs": [],
   "source": [
    "final_schema = df_model.schema.names[5:21] + df_model.schema.names[24:25] + df_model.schema.names[25+num_neighbors+(15*num_neighbors):]"
   ]
  },
  {
   "cell_type": "code",
   "execution_count": 88,
   "metadata": {},
   "outputs": [
    {
     "data": {
      "text/plain": [
       "['year',\n",
       " 'ed_total',\n",
       " 'ed_fem',\n",
       " 'ed_male',\n",
       " 'trans_solo',\n",
       " 'trans_pool',\n",
       " 'trans_public',\n",
       " 'trans_walk',\n",
       " 'trans_remote',\n",
       " 'perc_white',\n",
       " 'perc_black',\n",
       " 'med_hous_inc',\n",
       " 'per_cap_inc',\n",
       " 'med_age',\n",
       " 'population',\n",
       " 'gent',\n",
       " 'ALAND10',\n",
       " 'n_ed_total',\n",
       " 'n_trans_solo',\n",
       " 'n_trans_pool',\n",
       " 'n_trans_public',\n",
       " 'n_trans_walk',\n",
       " 'n_trans_remote',\n",
       " 'n_perc_white',\n",
       " 'n_perc_black',\n",
       " 'n_per_cap_inc',\n",
       " 'n_med_house_inc',\n",
       " 'n_med_age',\n",
       " 'n_population',\n",
       " 'n_land_area']"
      ]
     },
     "execution_count": 88,
     "metadata": {},
     "output_type": "execute_result"
    }
   ],
   "source": [
    "final_schema"
   ]
  },
  {
   "cell_type": "code",
   "execution_count": 89,
   "metadata": {},
   "outputs": [],
   "source": [
    "dff = df_model.select(final_schema)"
   ]
  },
  {
   "cell_type": "code",
   "execution_count": 90,
   "metadata": {},
   "outputs": [
    {
     "name": "stdout",
     "output_type": "stream",
     "text": [
      "root\n",
      " |-- year: integer (nullable = true)\n",
      " |-- ed_total: double (nullable = true)\n",
      " |-- ed_fem: double (nullable = true)\n",
      " |-- ed_male: double (nullable = true)\n",
      " |-- trans_solo: double (nullable = true)\n",
      " |-- trans_pool: double (nullable = true)\n",
      " |-- trans_public: double (nullable = true)\n",
      " |-- trans_walk: double (nullable = true)\n",
      " |-- trans_remote: double (nullable = true)\n",
      " |-- perc_white: double (nullable = true)\n",
      " |-- perc_black: double (nullable = true)\n",
      " |-- med_hous_inc: integer (nullable = true)\n",
      " |-- per_cap_inc: integer (nullable = true)\n",
      " |-- med_age: double (nullable = true)\n",
      " |-- population: integer (nullable = true)\n",
      " |-- gent: integer (nullable = true)\n",
      " |-- ALAND10: integer (nullable = true)\n",
      " |-- n_ed_total: double (nullable = true)\n",
      " |-- n_trans_solo: double (nullable = true)\n",
      " |-- n_trans_pool: double (nullable = true)\n",
      " |-- n_trans_public: double (nullable = true)\n",
      " |-- n_trans_walk: double (nullable = true)\n",
      " |-- n_trans_remote: double (nullable = true)\n",
      " |-- n_perc_white: double (nullable = true)\n",
      " |-- n_perc_black: double (nullable = true)\n",
      " |-- n_per_cap_inc: double (nullable = true)\n",
      " |-- n_med_house_inc: double (nullable = true)\n",
      " |-- n_med_age: double (nullable = true)\n",
      " |-- n_population: integer (nullable = true)\n",
      " |-- n_land_area: integer (nullable = true)\n",
      "\n"
     ]
    }
   ],
   "source": [
    "dff.printSchema()"
   ]
  },
  {
   "cell_type": "code",
   "execution_count": 91,
   "metadata": {},
   "outputs": [
    {
     "name": "stdout",
     "output_type": "stream",
     "text": [
      "+----+--------------------+--------------------+--------------------+-------------------+--------------------+--------------------+--------------------+--------------------+-------------------+--------------------+------------+-----------+-------+----------+----+----------+--------------------+-------------------+--------------------+--------------------+--------------------+--------------------+-------------------+--------------------+------------------+------------------+------------------+------------+-----------+\n",
      "|year|            ed_total|              ed_fem|             ed_male|         trans_solo|          trans_pool|        trans_public|          trans_walk|        trans_remote|         perc_white|          perc_black|med_hous_inc|per_cap_inc|med_age|population|gent|   ALAND10|          n_ed_total|       n_trans_solo|        n_trans_pool|      n_trans_public|        n_trans_walk|      n_trans_remote|       n_perc_white|        n_perc_black|     n_per_cap_inc|   n_med_house_inc|         n_med_age|n_population|n_land_area|\n",
      "+----+--------------------+--------------------+--------------------+-------------------+--------------------+--------------------+--------------------+--------------------+-------------------+--------------------+------------+-----------+-------+----------+----+----------+--------------------+-------------------+--------------------+--------------------+--------------------+--------------------+-------------------+--------------------+------------------+------------------+------------------+------------+-----------+\n",
      "|2014|   0.184655885671305| 0.17165814463111762| 0.19844961240310077| 0.4123917388407728| 0.03264490339773484|  0.2731512325116589| 0.11725516322451698| 0.06928714190539641|0.31673260414242493| 0.44775424714917383|       30023|      14832|   31.3|      4297|   1|    755873|  0.3196009323785971| 0.3755124259665127|  0.1022152248445296|  0.3427566543171087| 0.07195637258510812| 0.04564249721304237|0.39253279515640765| 0.34191052808610833| 28613.70248906828| 39629.78439286916|37.983215607130845|        5946|    1322675|\n",
      "|2014|  0.2785714285714286|           0.2671875|  0.2903225806451613|0.49125168236877526|  0.0955585464333782| 0.24764468371467024|0.012113055181695828| 0.07133243606998654|0.31214174048983845|  0.4705575820739969|       31280|      17673|   34.4|      1919|   1|    636070| 0.25659144859739585| 0.4417968598651796|   0.055377945161995|  0.2798605053038672|0.038603288719047765| 0.04175734275372803| 0.3092224231464738|  0.4924653405666064| 22114.18545308419|35508.949969861365| 34.64141048824593|        4977|     804126|\n",
      "|2012|0.044733044733044736| 0.06070287539936102|0.031578947368421054| 0.5698005698005698| 0.25071225071225073|0.008547008547008548|                 0.0|0.018518518518518517|  0.581081081081081|0.006274131274131274|       23281|      13636|   39.7|      2072|   0|  38230909| 0.09008276910289668| 0.7251945067224743|  0.1943676126571781|0.004226027622336592|0.002619436568223...|0.013097182841118151| 0.2841496598639456| 0.05129251700680272|12336.506054421769| 41389.44224489796|25.247585034013607|       14700|   11335039|\n",
      "|2012|0.043647977288857345|0.036414565826330535| 0.05107913669064748| 0.8475452196382429| 0.07855297157622738|0.020155038759689922|                 0.0|0.029974160206718347|0.32724046140195207| 0.07897071872227152|       31047|      11088|   25.0|      5635|   0|   5771149|0.025641892639929137| 0.7869270846371718| 0.10981796185632782|0.015484310640894209|                 0.0|0.003428281638339...|0.31096067982140285| 0.08296125594123578| 9902.446924960392|30610.119112775457| 23.94976235056892|        6943|    4045380|\n",
      "|2013| 0.10541310541310542| 0.08898305084745763|  0.1221264367816092| 0.7503052503052503| 0.13797313797313798|0.004273504273504274|                 0.0|0.052503052503052504| 0.4508534432018835| 0.07651559741024132|       31351|      13103|   28.4|      5097|   0|   1635762|  0.0837923531853386| 0.7806045265985984| 0.07616323843377368| 0.05091092243526739|0.023598312021540516|0.027948328848398693|0.38367268165589113| 0.06880247032712535|11881.593457493003|30903.418122165396| 25.31416578210943|       10363|    4578621|\n",
      "|2015| 0.06519453207150368|0.046296296296296294| 0.07496012759170653| 0.7371134020618557|  0.2027491408934708|                 0.0| 0.02577319587628866|0.018900343642611683| 0.7627488410144533| 0.08290155440414508|       31302|      13865|   40.6|      3667|   0|2031990811| 0.12603731321393197| 0.8115343703875538|  0.1043714522799254|0.007300010807507364|0.003976164573064173|0.051528802110508164| 0.6289909509988049| 0.20778555574526208|23316.101673211542| 53029.85197199932| 35.95632576404303|       11714|  199658924|\n",
      "|2014|  0.2521097046413502| 0.26107445805843543|  0.2407185628742515| 0.4748603351955307| 0.05506783719074222| 0.28012769353551475| 0.11811652035115722| 0.05107741420590583| 0.4327683615819209|0.031261770244821095|       29083|      18377|   37.9|      2655|   0|    205208|  0.2326815278107883|0.42696863336317725| 0.06761038768558694| 0.22221703226307457| 0.20895907622372376|0.057847467794954976| 0.6119515885022693| 0.04674735249621785| 20213.47307110439| 28441.56248108926| 44.66717095310136|        6610|     773367|\n",
      "|2015| 0.05953991880920163| 0.05609756097560976| 0.06382978723404255| 0.6612903225806451| 0.07096774193548387| 0.16559139784946236| 0.08064516129032258|0.021505376344086023| 0.2917485265225933| 0.10281597904387688|       17740|       8140|   24.6|      3054|   0|    515515|0.022125759871146025| 0.6487521347253916| 0.14649289238553664| 0.12559019932418702| 0.05292661044142454|0.018837655575817513|0.39602680145762315| 0.08087457388033384| 9829.495826966027|30945.176560479606|27.036205477841776|        8507|    1615842|\n",
      "|2012|   0.614247311827957|                 0.5|  0.6855895196506551|0.25133120340788073|0.013312034078807242| 0.12193823216187434|  0.5511182108626198|0.021831735889243878| 0.5370879120879121|0.020604395604395604|       15822|       9882|   21.7|      3640|   0|    130984|  0.8131816499173017|0.29236863506519933|0.007239839802053...| 0.09120680997978405|  0.5184725432514189| 0.06626822447382585| 0.5048005120546192|0.049498613185406444|18355.079155109877| 17815.54597823768| 22.19686366545765|        9374|     458808|\n",
      "|2012|  0.8123076923076923|         0.830078125|  0.7926565874730022|0.32088959491660046|0.012708498808578236|  0.0778395552025417|  0.4960285941223193| 0.06036536934074663|0.48859797297297297| 0.04560810810810811|       19429|      15381|   21.9|      4736|   0|    148001|  0.7262063023205266| 0.2580062870235377|0.006781180477636...| 0.11236768161155845|  0.5456680944932873| 0.05010575811267399| 0.5282676975114762| 0.03901908673592655|16330.825803334139|16015.856970282677|22.148224208746075|        8278|     441791|\n",
      "|2015| 0.01195814648729447| 0.01730920535011802|0.002717391304347826| 0.6518691588785047| 0.07009345794392523| 0.15537383177570094|                 0.0| 0.09929906542056074| 0.3475263584752636|  0.3416463909164639|       12984|       5718|   20.0|      4932|   1|    475994|  0.0665480072150638| 0.6330034169771699| 0.20072884309707595| 0.10038543537306155|0.007832305473568706| 0.03769545129003525| 0.4351145038167939|  0.3809978189749182|12070.411259541985| 35928.32006543075|26.134105779716464|        7336|    1794421|\n",
      "|2011| 0.10875216637781629| 0.17612809315866085|0.009635974304068522| 0.5759493670886076|   0.229957805907173| 0.10618846694796062|                 0.0| 0.05063291139240506| 0.2868550368550369| 0.14742014742014742|       32750|      10083|   21.9|      4884|   1|    570677|  0.0859483512141479| 0.6953341594064213| 0.19508447065848653| 0.04614210979131885| 0.01567579413117533| 0.01299943903560881|0.33920982213127654| 0.36707067527152526|19104.730048795846| 50991.88839918149|30.292428773807647|        6353|    2382055|\n",
      "|2015|0.047472887251892776| 0.06678306416412047|0.030431432973805857| 0.5118829981718465| 0.30987202925045704|                 0.0| 0.05621572212065813| 0.01736745886654479| 0.7595896997542473|0.021797200555614914|       29523|       9967|   26.4|      9359|   0|   3824605|0.029949861367102697| 0.5781072328514729| 0.24492176697310467|0.014192901305121861|  0.0743630887295261|0.029745235491810434| 0.8670944087992667|0.007416048662611449| 11488.94833763853|28799.172985584533|27.004191317390223|       12001|    4233830|\n",
      "|2014| 0.05285592497868713| 0.03557085484796328| 0.06981981981981981| 0.5606435643564357| 0.17698019801980197| 0.11551155115511551| 0.07343234323432343|0.012376237623762377| 0.8726569473371021|0.014132698601606665|       31722|       9325|   26.4|      6722|   1|   1440107|  0.2296773074452201| 0.7701634456417519| 0.10522812284528338|0.044074585262513066|0.023890249264882663|0.037110829489158996| 0.7896369039927639|0.018477839514149115|23782.253908773742| 50482.91032433131|38.475914200801135|        7739|    2106101|\n",
      "|2012| 0.08496732026143791| 0.08270202020202021| 0.08849557522123894| 0.7789725209080047| 0.07586618876941457|0.052568697729988054| 0.03225806451612903|0.025686977299880526|0.41768237220301985| 0.36347098417318535|       26447|      11246|   24.3|      5497|   0|   1011254|   0.129147521641191| 0.8227435037964888| 0.06735479827185986| 0.01192434598825796|0.028253904645490185| 0.03802353661899122| 0.6701598817681043| 0.09982533924492812|18356.356845358056| 53916.38573155986| 32.78429396748623|        7443|    2137716|\n",
      "|2010| 0.09820770930518045| 0.08142726440988106| 0.11764705882352941| 0.6912878787878788| 0.13399621212121213|0.023674242424242424| 0.04876893939393939| 0.08854166666666667| 0.5630636880810324|  0.0596642153461912|       28602|      13028|   27.9|      7207|   0|   4871914| 0.06358589892966551|  0.669666157575167| 0.17304854370078654|0.020107834129047843| 0.04405337144425747| 0.08215618362580605| 0.5177147471484809| 0.03987079842535581|12491.855859493287|29368.766024023418| 29.98294135459776|        9907|    5150615|\n",
      "|2010| 0.12467700258397933| 0.15657142857142858| 0.08320950965824665| 0.9003051881993896| 0.04170905391658189|0.026449643947100712|                 0.0| 0.03153611393692777| 0.6311475409836066| 0.12021857923497267|       29407|      14716|   25.7|      2928|   0|    971941| 0.08029861167495224| 0.7124698264366542| 0.17491263168382726|0.018197525597558873| 0.03212492647765077| 0.04252983989340682| 0.6608203160683292|0.018361194847903536|14063.591212204257| 40091.33817484242|29.826801863524253|       10947|    4702212|\n",
      "|2013| 0.09565217391304348| 0.08981657179000632| 0.10278207109737249|  0.607275426874536|  0.2635486265775798|  0.0400890868596882| 0.06087602078693393|                 0.0|0.43350604490500866| 0.12715889464594127|       24022|      12979|   34.4|      4632|   0|   2033366| 0.11528575879544434|  0.723644031579619|  0.1471720639482656| 0.04083604516837732|0.001874155357963...|  0.0566843871247079|0.42906846240179575|                 0.2|15772.926374859708| 41880.57530864197| 31.77292929292929|        8910|    6700745|\n",
      "|2011| 0.07909343200740056|0.046129788897576234| 0.12684031710079274| 0.7443384982121574| 0.04410011918951132| 0.04648390941597139| 0.05959475566150179| 0.05065554231227652|0.38222222222222224|  0.0915032679738562|       28356|      16011|   27.4|      3825|   1|    674476|  0.3929491107441493| 0.8514862474023327| 0.08044223057603545| 0.02572590742642578|0.006552627621090627| 0.02112976301967497| 0.4431273644388398|0.048003362757461115|33196.633627574614| 76704.04909625894|33.617553593947044|       11895|    4467203|\n",
      "|2015|  0.1074849237318198|  0.0896637608966376| 0.13107996702390767| 0.8198675496688742| 0.09933774834437085|                 0.0| 0.03377483443708609| 0.02913907284768212| 0.9142857142857143|0.008362369337979094|       31102|      19681|   39.1|      4305|   0|   4620136| 0.26111504045241185| 0.7768126856721176| 0.10030038368867107|0.028844363541363032|0.002570637417521...| 0.05026448568152752| 0.8664127521512202|0.002398081534772182|26555.194808858796| 48642.14628297362| 40.43481450134011|        7089|   24264258|\n",
      "+----+--------------------+--------------------+--------------------+-------------------+--------------------+--------------------+--------------------+--------------------+-------------------+--------------------+------------+-----------+-------+----------+----+----------+--------------------+-------------------+--------------------+--------------------+--------------------+--------------------+-------------------+--------------------+------------------+------------------+------------------+------------+-----------+\n",
      "only showing top 20 rows\n",
      "\n"
     ]
    }
   ],
   "source": [
    "dff.show()"
   ]
  },
  {
   "cell_type": "code",
   "execution_count": 103,
   "metadata": {},
   "outputs": [
    {
     "data": {
      "text/plain": [
       "7666"
      ]
     },
     "execution_count": 103,
     "metadata": {},
     "output_type": "execute_result"
    }
   ],
   "source": [
    "dff.count()"
   ]
  },
  {
   "cell_type": "code",
   "execution_count": 92,
   "metadata": {},
   "outputs": [
    {
     "data": {
      "text/plain": [
       "['year',\n",
       " 'ed_total',\n",
       " 'ed_fem',\n",
       " 'ed_male',\n",
       " 'trans_solo',\n",
       " 'trans_pool',\n",
       " 'trans_public',\n",
       " 'trans_walk',\n",
       " 'trans_remote',\n",
       " 'perc_white',\n",
       " 'perc_black',\n",
       " 'med_hous_inc',\n",
       " 'per_cap_inc',\n",
       " 'med_age',\n",
       " 'population',\n",
       " 'gent',\n",
       " 'ALAND10',\n",
       " 'n_ed_total',\n",
       " 'n_trans_solo',\n",
       " 'n_trans_pool',\n",
       " 'n_trans_public',\n",
       " 'n_trans_walk',\n",
       " 'n_trans_remote',\n",
       " 'n_perc_white',\n",
       " 'n_perc_black',\n",
       " 'n_per_cap_inc',\n",
       " 'n_med_house_inc',\n",
       " 'n_med_age',\n",
       " 'n_population',\n",
       " 'n_land_area']"
      ]
     },
     "execution_count": 92,
     "metadata": {},
     "output_type": "execute_result"
    }
   ],
   "source": [
    "dff.schema.names"
   ]
  },
  {
   "cell_type": "code",
   "execution_count": 93,
   "metadata": {},
   "outputs": [],
   "source": [
    "features = ['year',\n",
    "            'ed_total',\n",
    "            'trans_solo',\n",
    "            'trans_pool',\n",
    "            'trans_public',\n",
    "            'trans_walk',\n",
    "            'trans_remote',\n",
    "            'perc_white',\n",
    "            'perc_black',\n",
    "            'med_hous_inc',\n",
    "            'per_cap_inc',\n",
    "            'med_age',\n",
    "            'population',\n",
    "            'ALAND10',\n",
    "            'n_ed_total',\n",
    "            'n_trans_solo',\n",
    "            'n_trans_pool',\n",
    "            'n_trans_public',\n",
    "            'n_trans_walk',\n",
    "            'n_trans_remote',\n",
    "            'n_perc_white',\n",
    "            'n_perc_black',\n",
    "            'n_per_cap_inc',\n",
    "            'n_med_house_inc',\n",
    "            'n_med_age',\n",
    "            'n_population',\n",
    "            'n_land_area']"
   ]
  },
  {
   "cell_type": "code",
   "execution_count": 94,
   "metadata": {},
   "outputs": [
    {
     "data": {
      "text/plain": [
       "['year',\n",
       " 'ed_total',\n",
       " 'trans_solo',\n",
       " 'trans_pool',\n",
       " 'trans_public',\n",
       " 'trans_walk',\n",
       " 'trans_remote',\n",
       " 'perc_white',\n",
       " 'perc_black',\n",
       " 'med_hous_inc',\n",
       " 'per_cap_inc',\n",
       " 'med_age',\n",
       " 'population',\n",
       " 'ALAND10',\n",
       " 'n_ed_total',\n",
       " 'n_trans_solo',\n",
       " 'n_trans_pool',\n",
       " 'n_trans_public',\n",
       " 'n_trans_walk',\n",
       " 'n_trans_remote',\n",
       " 'n_perc_white',\n",
       " 'n_perc_black',\n",
       " 'n_per_cap_inc',\n",
       " 'n_med_house_inc',\n",
       " 'n_med_age',\n",
       " 'n_population',\n",
       " 'n_land_area']"
      ]
     },
     "execution_count": 94,
     "metadata": {},
     "output_type": "execute_result"
    }
   ],
   "source": [
    "features"
   ]
  },
  {
   "cell_type": "code",
   "execution_count": 98,
   "metadata": {},
   "outputs": [],
   "source": [
    "dff = dff.na.drop()"
   ]
  },
  {
   "cell_type": "code",
   "execution_count": 113,
   "metadata": {},
   "outputs": [],
   "source": [
    "dff = spark.createDataFrame(dff.collect())"
   ]
  },
  {
   "cell_type": "code",
   "execution_count": 114,
   "metadata": {},
   "outputs": [
    {
     "data": {
      "text/plain": [
       "7583"
      ]
     },
     "execution_count": 114,
     "metadata": {},
     "output_type": "execute_result"
    }
   ],
   "source": [
    "dff.count()"
   ]
  },
  {
   "cell_type": "code",
   "execution_count": 115,
   "metadata": {},
   "outputs": [
    {
     "name": "stdout",
     "output_type": "stream",
     "text": [
      "+----+--------------------+--------------------+--------------------+-------------------+--------------------+--------------------+--------------------+--------------------+-------------------+--------------------+------------+-----------+-------+----------+----+----------+--------------------+-------------------+--------------------+--------------------+--------------------+--------------------+-------------------+--------------------+------------------+------------------+------------------+------------+-----------+\n",
      "|year|            ed_total|              ed_fem|             ed_male|         trans_solo|          trans_pool|        trans_public|          trans_walk|        trans_remote|         perc_white|          perc_black|med_hous_inc|per_cap_inc|med_age|population|gent|   ALAND10|          n_ed_total|       n_trans_solo|        n_trans_pool|      n_trans_public|        n_trans_walk|      n_trans_remote|       n_perc_white|        n_perc_black|     n_per_cap_inc|   n_med_house_inc|         n_med_age|n_population|n_land_area|\n",
      "+----+--------------------+--------------------+--------------------+-------------------+--------------------+--------------------+--------------------+--------------------+-------------------+--------------------+------------+-----------+-------+----------+----+----------+--------------------+-------------------+--------------------+--------------------+--------------------+--------------------+-------------------+--------------------+------------------+------------------+------------------+------------+-----------+\n",
      "|2014|   0.184655885671305| 0.17165814463111762| 0.19844961240310077| 0.4123917388407728| 0.03264490339773484|  0.2731512325116589| 0.11725516322451698| 0.06928714190539641|0.31673260414242493| 0.44775424714917383|       30023|      14832|   31.3|      4297|   1|    755873|  0.3196009323785971| 0.3755124259665127|  0.1022152248445296|  0.3427566543171087| 0.07195637258510812| 0.04564249721304237|0.39253279515640765| 0.34191052808610833| 28613.70248906828| 39629.78439286916|37.983215607130845|        5946|    1322675|\n",
      "|2014|  0.2785714285714286|           0.2671875|  0.2903225806451613|0.49125168236877526|  0.0955585464333782| 0.24764468371467024|0.012113055181695828| 0.07133243606998654|0.31214174048983845|  0.4705575820739969|       31280|      17673|   34.4|      1919|   1|    636070| 0.25659144859739585| 0.4417968598651796|   0.055377945161995|  0.2798605053038672|0.038603288719047765| 0.04175734275372803| 0.3092224231464738|  0.4924653405666064| 22114.18545308419|35508.949969861365| 34.64141048824593|        4977|     804126|\n",
      "|2012|0.044733044733044736| 0.06070287539936102|0.031578947368421054| 0.5698005698005698| 0.25071225071225073|0.008547008547008548|                 0.0|0.018518518518518517|  0.581081081081081|0.006274131274131274|       23281|      13636|   39.7|      2072|   0|  38230909| 0.09008276910289668| 0.7251945067224743|  0.1943676126571781|0.004226027622336592|0.002619436568223...|0.013097182841118151| 0.2841496598639456| 0.05129251700680272|12336.506054421769| 41389.44224489796|25.247585034013607|       14700|   11335039|\n",
      "|2012|0.043647977288857345|0.036414565826330535| 0.05107913669064748| 0.8475452196382429| 0.07855297157622738|0.020155038759689922|                 0.0|0.029974160206718347|0.32724046140195207| 0.07897071872227152|       31047|      11088|   25.0|      5635|   0|   5771149|0.025641892639929137| 0.7869270846371718| 0.10981796185632782|0.015484310640894209|                 0.0|0.003428281638339...|0.31096067982140285| 0.08296125594123578| 9902.446924960392|30610.119112775457| 23.94976235056892|        6943|    4045380|\n",
      "|2013| 0.10541310541310542| 0.08898305084745763|  0.1221264367816092| 0.7503052503052503| 0.13797313797313798|0.004273504273504274|                 0.0|0.052503052503052504| 0.4508534432018835| 0.07651559741024132|       31351|      13103|   28.4|      5097|   0|   1635762|  0.0837923531853386| 0.7806045265985984| 0.07616323843377368| 0.05091092243526739|0.023598312021540516|0.027948328848398693|0.38367268165589113| 0.06880247032712535|11881.593457493003|30903.418122165396| 25.31416578210943|       10363|    4578621|\n",
      "|2015| 0.06519453207150368|0.046296296296296294| 0.07496012759170653| 0.7371134020618557|  0.2027491408934708|                 0.0| 0.02577319587628866|0.018900343642611683| 0.7627488410144533| 0.08290155440414508|       31302|      13865|   40.6|      3667|   0|2031990811| 0.12603731321393197| 0.8115343703875538|  0.1043714522799254|0.007300010807507364|0.003976164573064173|0.051528802110508164| 0.6289909509988049| 0.20778555574526208|23316.101673211542| 53029.85197199932| 35.95632576404303|       11714|  199658924|\n",
      "|2014|  0.2521097046413502| 0.26107445805843543|  0.2407185628742515| 0.4748603351955307| 0.05506783719074222| 0.28012769353551475| 0.11811652035115722| 0.05107741420590583| 0.4327683615819209|0.031261770244821095|       29083|      18377|   37.9|      2655|   0|    205208|  0.2326815278107883|0.42696863336317725| 0.06761038768558694| 0.22221703226307457| 0.20895907622372376|0.057847467794954976| 0.6119515885022693| 0.04674735249621785| 20213.47307110439| 28441.56248108926| 44.66717095310136|        6610|     773367|\n",
      "|2015| 0.05953991880920163| 0.05609756097560976| 0.06382978723404255| 0.6612903225806451| 0.07096774193548387| 0.16559139784946236| 0.08064516129032258|0.021505376344086023| 0.2917485265225933| 0.10281597904387688|       17740|       8140|   24.6|      3054|   0|    515515|0.022125759871146025| 0.6487521347253916| 0.14649289238553664| 0.12559019932418702| 0.05292661044142454|0.018837655575817513|0.39602680145762315| 0.08087457388033384| 9829.495826966027|30945.176560479606|27.036205477841776|        8507|    1615842|\n",
      "|2012|   0.614247311827957|                 0.5|  0.6855895196506551|0.25133120340788073|0.013312034078807242| 0.12193823216187434|  0.5511182108626198|0.021831735889243878| 0.5370879120879121|0.020604395604395604|       15822|       9882|   21.7|      3640|   0|    130984|  0.8131816499173017|0.29236863506519933|0.007239839802053...| 0.09120680997978405|  0.5184725432514189| 0.06626822447382585| 0.5048005120546192|0.049498613185406444|18355.079155109877| 17815.54597823768| 22.19686366545765|        9374|     458808|\n",
      "|2012|  0.8123076923076923|         0.830078125|  0.7926565874730022|0.32088959491660046|0.012708498808578236|  0.0778395552025417|  0.4960285941223193| 0.06036536934074663|0.48859797297297297| 0.04560810810810811|       19429|      15381|   21.9|      4736|   0|    148001|  0.7262063023205266| 0.2580062870235377|0.006781180477636...| 0.11236768161155845|  0.5456680944932873| 0.05010575811267399| 0.5282676975114762| 0.03901908673592655|16330.825803334139|16015.856970282677|22.148224208746075|        8278|     441791|\n",
      "|2015| 0.01195814648729447| 0.01730920535011802|0.002717391304347826| 0.6518691588785047| 0.07009345794392523| 0.15537383177570094|                 0.0| 0.09929906542056074| 0.3475263584752636|  0.3416463909164639|       12984|       5718|   20.0|      4932|   1|    475994|  0.0665480072150638| 0.6330034169771699| 0.20072884309707595| 0.10038543537306155|0.007832305473568706| 0.03769545129003525| 0.4351145038167939|  0.3809978189749182|12070.411259541985| 35928.32006543075|26.134105779716464|        7336|    1794421|\n",
      "|2011| 0.10875216637781629| 0.17612809315866085|0.009635974304068522| 0.5759493670886076|   0.229957805907173| 0.10618846694796062|                 0.0| 0.05063291139240506| 0.2868550368550369| 0.14742014742014742|       32750|      10083|   21.9|      4884|   1|    570677|  0.0859483512141479| 0.6953341594064213| 0.19508447065848653| 0.04614210979131885| 0.01567579413117533| 0.01299943903560881|0.33920982213127654| 0.36707067527152526|19104.730048795846| 50991.88839918149|30.292428773807647|        6353|    2382055|\n",
      "|2015|0.047472887251892776| 0.06678306416412047|0.030431432973805857| 0.5118829981718465| 0.30987202925045704|                 0.0| 0.05621572212065813| 0.01736745886654479| 0.7595896997542473|0.021797200555614914|       29523|       9967|   26.4|      9359|   0|   3824605|0.029949861367102697| 0.5781072328514729| 0.24492176697310467|0.014192901305121861|  0.0743630887295261|0.029745235491810434| 0.8670944087992667|0.007416048662611449| 11488.94833763853|28799.172985584533|27.004191317390223|       12001|    4233830|\n",
      "|2014| 0.05285592497868713| 0.03557085484796328| 0.06981981981981981| 0.5606435643564357| 0.17698019801980197| 0.11551155115511551| 0.07343234323432343|0.012376237623762377| 0.8726569473371021|0.014132698601606665|       31722|       9325|   26.4|      6722|   1|   1440107|  0.2296773074452201| 0.7701634456417519| 0.10522812284528338|0.044074585262513066|0.023890249264882663|0.037110829489158996| 0.7896369039927639|0.018477839514149115|23782.253908773742| 50482.91032433131|38.475914200801135|        7739|    2106101|\n",
      "|2012| 0.08496732026143791| 0.08270202020202021| 0.08849557522123894| 0.7789725209080047| 0.07586618876941457|0.052568697729988054| 0.03225806451612903|0.025686977299880526|0.41768237220301985| 0.36347098417318535|       26447|      11246|   24.3|      5497|   0|   1011254|   0.129147521641191| 0.8227435037964888| 0.06735479827185986| 0.01192434598825796|0.028253904645490185| 0.03802353661899122| 0.6701598817681043| 0.09982533924492812|18356.356845358056| 53916.38573155986| 32.78429396748623|        7443|    2137716|\n",
      "|2010| 0.09820770930518045| 0.08142726440988106| 0.11764705882352941| 0.6912878787878788| 0.13399621212121213|0.023674242424242424| 0.04876893939393939| 0.08854166666666667| 0.5630636880810324|  0.0596642153461912|       28602|      13028|   27.9|      7207|   0|   4871914| 0.06358589892966551|  0.669666157575167| 0.17304854370078654|0.020107834129047843| 0.04405337144425747| 0.08215618362580605| 0.5177147471484809| 0.03987079842535581|12491.855859493287|29368.766024023418| 29.98294135459776|        9907|    5150615|\n",
      "|2010| 0.12467700258397933| 0.15657142857142858| 0.08320950965824665| 0.9003051881993896| 0.04170905391658189|0.026449643947100712|                 0.0| 0.03153611393692777| 0.6311475409836066| 0.12021857923497267|       29407|      14716|   25.7|      2928|   0|    971941| 0.08029861167495224| 0.7124698264366542| 0.17491263168382726|0.018197525597558873| 0.03212492647765077| 0.04252983989340682| 0.6608203160683292|0.018361194847903536|14063.591212204257| 40091.33817484242|29.826801863524253|       10947|    4702212|\n",
      "|2013| 0.09565217391304348| 0.08981657179000632| 0.10278207109737249|  0.607275426874536|  0.2635486265775798|  0.0400890868596882| 0.06087602078693393|                 0.0|0.43350604490500866| 0.12715889464594127|       24022|      12979|   34.4|      4632|   0|   2033366| 0.11528575879544434|  0.723644031579619|  0.1471720639482656| 0.04083604516837732|0.001874155357963...|  0.0566843871247079|0.42906846240179575|                 0.2|15772.926374859708| 41880.57530864197| 31.77292929292929|        8910|    6700745|\n",
      "|2011| 0.07909343200740056|0.046129788897576234| 0.12684031710079274| 0.7443384982121574| 0.04410011918951132| 0.04648390941597139| 0.05959475566150179| 0.05065554231227652|0.38222222222222224|  0.0915032679738562|       28356|      16011|   27.4|      3825|   1|    674476|  0.3929491107441493| 0.8514862474023327| 0.08044223057603545| 0.02572590742642578|0.006552627621090627| 0.02112976301967497| 0.4431273644388398|0.048003362757461115|33196.633627574614| 76704.04909625894|33.617553593947044|       11895|    4467203|\n",
      "|2015|  0.1074849237318198|  0.0896637608966376| 0.13107996702390767| 0.8198675496688742| 0.09933774834437085|                 0.0| 0.03377483443708609| 0.02913907284768212| 0.9142857142857143|0.008362369337979094|       31102|      19681|   39.1|      4305|   0|   4620136| 0.26111504045241185| 0.7768126856721176| 0.10030038368867107|0.028844363541363032|0.002570637417521...| 0.05026448568152752| 0.8664127521512202|0.002398081534772182|26555.194808858796| 48642.14628297362| 40.43481450134011|        7089|   24264258|\n",
      "+----+--------------------+--------------------+--------------------+-------------------+--------------------+--------------------+--------------------+--------------------+-------------------+--------------------+------------+-----------+-------+----------+----+----------+--------------------+-------------------+--------------------+--------------------+--------------------+--------------------+-------------------+--------------------+------------------+------------------+------------------+------------+-----------+\n",
      "only showing top 20 rows\n",
      "\n"
     ]
    }
   ],
   "source": [
    "dff.show()"
   ]
  },
  {
   "cell_type": "code",
   "execution_count": 117,
   "metadata": {},
   "outputs": [
    {
     "data": {
      "text/plain": [
       "2196"
      ]
     },
     "execution_count": 117,
     "metadata": {},
     "output_type": "execute_result"
    }
   ],
   "source": [
    "dff.filter(dff.gent == 1).count()"
   ]
  },
  {
   "cell_type": "code",
   "execution_count": 121,
   "metadata": {},
   "outputs": [],
   "source": [
    "train, test = dff.randomSplit([.8, .2], seed = 42)"
   ]
  },
  {
   "cell_type": "code",
   "execution_count": 122,
   "metadata": {},
   "outputs": [
    {
     "data": {
      "text/plain": [
       "6093"
      ]
     },
     "execution_count": 122,
     "metadata": {},
     "output_type": "execute_result"
    }
   ],
   "source": [
    "train.count()"
   ]
  },
  {
   "cell_type": "code",
   "execution_count": 123,
   "metadata": {},
   "outputs": [
    {
     "data": {
      "text/plain": [
       "4329"
      ]
     },
     "execution_count": 123,
     "metadata": {},
     "output_type": "execute_result"
    }
   ],
   "source": [
    "train.filter(train.gent == 0).count()"
   ]
  },
  {
   "cell_type": "code",
   "execution_count": 124,
   "metadata": {},
   "outputs": [
    {
     "data": {
      "text/plain": [
       "1764"
      ]
     },
     "execution_count": 124,
     "metadata": {},
     "output_type": "execute_result"
    }
   ],
   "source": [
    "train.filter(train.gent == 1).count()"
   ]
  },
  {
   "cell_type": "code",
   "execution_count": 125,
   "metadata": {},
   "outputs": [],
   "source": [
    "train = train.filter(train.gent == 1).union(train.filter(train.gent == 0).sample(train.filter(train.gent == 1).count()/train.filter(train.gent == 0).count()))"
   ]
  },
  {
   "cell_type": "code",
   "execution_count": 126,
   "metadata": {},
   "outputs": [
    {
     "data": {
      "text/plain": [
       "3552"
      ]
     },
     "execution_count": 126,
     "metadata": {},
     "output_type": "execute_result"
    }
   ],
   "source": [
    "train.count()"
   ]
  },
  {
   "cell_type": "code",
   "execution_count": 128,
   "metadata": {},
   "outputs": [
    {
     "data": {
      "text/plain": [
       "1788"
      ]
     },
     "execution_count": 128,
     "metadata": {},
     "output_type": "execute_result"
    }
   ],
   "source": [
    "train.filter(train.gent == 0).count()"
   ]
  },
  {
   "cell_type": "code",
   "execution_count": 129,
   "metadata": {},
   "outputs": [],
   "source": [
    "from pyspark.ml.feature import VectorAssembler"
   ]
  },
  {
   "cell_type": "code",
   "execution_count": 130,
   "metadata": {},
   "outputs": [],
   "source": [
    "assembler = VectorAssembler(inputCols=features, outputCol='features')\n",
    "train_pack = assembler.transform(train)\n",
    "test_pack = assembler.transform(test)"
   ]
  },
  {
   "cell_type": "code",
   "execution_count": 131,
   "metadata": {},
   "outputs": [],
   "source": [
    "from pyspark.ml.feature import MinMaxScaler\n",
    "\n",
    "minmaxscale = MinMaxScaler(inputCol='features', outputCol='features_scaled')\n",
    "minmaxscale = minmaxscale.fit(train_pack)\n",
    "\n",
    "train_pack = minmaxscale.transform(train_pack)\n",
    "test_pack  = minmaxscale.transform(test_pack)\n"
   ]
  },
  {
   "cell_type": "code",
   "execution_count": 132,
   "metadata": {},
   "outputs": [],
   "source": [
    "from pyspark.ml.classification import RandomForestClassifier, GBTClassifier, LogisticRegression"
   ]
  },
  {
   "cell_type": "code",
   "execution_count": 140,
   "metadata": {},
   "outputs": [],
   "source": [
    "rf = RandomForestClassifier(labelCol='gent',\n",
    "                            featuresCol='features',\n",
    "                            predictionCol='prediction')\n",
    "\n",
    "rf_model = rf.fit(train_pack)\n",
    "rf_pred = rf_model.transform(test_pack)\n"
   ]
  },
  {
   "cell_type": "code",
   "execution_count": 135,
   "metadata": {},
   "outputs": [],
   "source": [
    "lr = LogisticRegression(labelCol='gent', \n",
    "                        featuresCol='features_scaled',\n",
    "                        predictionCol='prediction')\n",
    "\n",
    "lr_model = lr.fit(train_pack)\n",
    "lr_pred = lr_model.transform(test_pack)"
   ]
  },
  {
   "cell_type": "code",
   "execution_count": 105,
   "metadata": {},
   "outputs": [],
   "source": [
    "from pyspark.ml.evaluation import BinaryClassificationEvaluator, MulticlassClassificationEvaluator\n",
    "from pyspark.mllib.evaluation import MulticlassMetrics"
   ]
  },
  {
   "cell_type": "code",
   "execution_count": 141,
   "metadata": {},
   "outputs": [
    {
     "name": "stdout",
     "output_type": "stream",
     "text": [
      "[[685. 373.]\n",
      " [157. 275.]]\n"
     ]
    }
   ],
   "source": [
    "preds_and_labels = rf_pred.select(['prediction','gent']).withColumn('label', col('gent').cast(FloatType())).orderBy('prediction')\n",
    "\n",
    "#select only prediction and label columns\n",
    "preds_and_labels = preds_and_labels.select(['prediction','label'])\n",
    "\n",
    "metrics = MulticlassMetrics(preds_and_labels.rdd.map(tuple))\n",
    "\n",
    "print(metrics.confusionMatrix().toArray())\n"
   ]
  },
  {
   "cell_type": "code",
   "execution_count": 147,
   "metadata": {},
   "outputs": [
    {
     "name": "stdout",
     "output_type": "stream",
     "text": [
      "0.8135391923990499\n"
     ]
    }
   ],
   "source": [
    "\n",
    "print(metrics.precision(0))"
   ]
  },
  {
   "cell_type": "code",
   "execution_count": 146,
   "metadata": {},
   "outputs": [
    {
     "name": "stdout",
     "output_type": "stream",
     "text": [
      "0.6474480151228733\n"
     ]
    }
   ],
   "source": [
    "print(metrics.recall(0))"
   ]
  },
  {
   "cell_type": "code",
   "execution_count": 136,
   "metadata": {},
   "outputs": [
    {
     "name": "stdout",
     "output_type": "stream",
     "text": [
      "[[702. 356.]\n",
      " [172. 260.]]\n"
     ]
    }
   ],
   "source": [
    "preds_and_labels = lr_pred.select(['prediction','gent']).withColumn('label', col('gent').cast(FloatType())).orderBy('prediction')\n",
    "\n",
    "#select only prediction and label columns\n",
    "preds_and_labels = preds_and_labels.select(['prediction','label'])\n",
    "\n",
    "metrics = MulticlassMetrics(preds_and_labels.rdd.map(tuple))\n",
    "\n",
    "print(metrics.confusionMatrix().toArray())\n"
   ]
  },
  {
   "cell_type": "code",
   "execution_count": 122,
   "metadata": {},
   "outputs": [],
   "source": [
    "precision = BinaryClassificationEvaluator(labelCol='gent', \n",
    "                                              predictionCol='prediction',\n",
    "                                              metricName='weightedPrecision')\n",
    "\n",
    "recall = BinaryClassificationEvaluator(labelCol='gent', \n",
    "                                           predictionCol='prediction',\n",
    "                                           metricName='weightedRecall')\n",
    "\n",
    "f1 = MulticlassClassificationEvaluator(labelCol='gent', \n",
    "                                       predictionCol='prediction',\n",
    "                                       metricName='f1')\n",
    "\n",
    "areaROC = BinaryClassificationEvaluator(labelCol='gent',\n",
    "                                        rawPredictionCol='prediction',\n",
    "                                        metricName='areaUnderROC')"
   ]
  },
  {
   "cell_type": "code",
   "execution_count": 123,
   "metadata": {},
   "outputs": [],
   "source": [
    "prec = precision.evaluate(lr_pred)"
   ]
  },
  {
   "cell_type": "code",
   "execution_count": 124,
   "metadata": {},
   "outputs": [
    {
     "data": {
      "text/plain": [
       "0.6694168336158628"
      ]
     },
     "execution_count": 124,
     "metadata": {},
     "output_type": "execute_result"
    }
   ],
   "source": [
    "prec"
   ]
  },
  {
   "cell_type": "code",
   "execution_count": 125,
   "metadata": {},
   "outputs": [],
   "source": [
    "rec = recall.evaluate(lr_pred)"
   ]
  },
  {
   "cell_type": "code",
   "execution_count": 126,
   "metadata": {},
   "outputs": [
    {
     "data": {
      "text/plain": [
       "0.7203883495145631"
      ]
     },
     "execution_count": 126,
     "metadata": {},
     "output_type": "execute_result"
    }
   ],
   "source": [
    "rec"
   ]
  },
  {
   "cell_type": "code",
   "execution_count": null,
   "metadata": {},
   "outputs": [],
   "source": []
  }
 ],
 "metadata": {
  "kernelspec": {
   "display_name": "Python 3",
   "language": "python",
   "name": "python3"
  },
  "language_info": {
   "codemirror_mode": {
    "name": "ipython",
    "version": 3
   },
   "file_extension": ".py",
   "mimetype": "text/x-python",
   "name": "python",
   "nbconvert_exporter": "python",
   "pygments_lexer": "ipython3",
   "version": "3.8.3"
  }
 },
 "nbformat": 4,
 "nbformat_minor": 4
}
